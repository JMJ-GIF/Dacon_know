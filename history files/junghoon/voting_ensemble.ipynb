{
 "cells": [
  {
   "cell_type": "code",
   "execution_count": 1,
   "metadata": {},
   "outputs": [],
   "source": [
    "import numpy as np\n",
    "import pandas as pd"
   ]
  },
  {
   "cell_type": "code",
   "execution_count": 2,
   "metadata": {},
   "outputs": [],
   "source": [
    "ROW = 35231\n",
    "COL = 1"
   ]
  },
  {
   "cell_type": "markdown",
   "metadata": {},
   "source": [
    "#### 앙상블을 위한 파일들을 받아옵니다. 가중치를 주기 위해서 같은 파일을 여러 변수에 받아오면 됩니다.\n",
    "\n",
    "#### 만약 투표 결과 동률이 발생한다면 더 앞에 쓰인 모델의 결과가 최종적으로 반영됩니다. 그러니 더 성능이 높은 모델을 test1부터 써주세요."
   ]
  },
  {
   "cell_type": "markdown",
   "metadata": {},
   "source": [
    "### <center>----------이 사이를 수정하세요----------</center>"
   ]
  },
  {
   "cell_type": "code",
   "execution_count": 3,
   "metadata": {},
   "outputs": [],
   "source": [
    "# 앙상블 할 DataFrame의 개수(중복 포함)\n",
    "SIZE = 7 "
   ]
  },
  {
   "cell_type": "code",
   "execution_count": 4,
   "metadata": {},
   "outputs": [],
   "source": [
    "SUB_PATH = '../submission_files/'"
   ]
  },
  {
   "cell_type": "code",
   "execution_count": 5,
   "metadata": {},
   "outputs": [
    {
     "data": {
      "text/plain": [
       "'C:\\\\Users\\\\user\\\\dacon_know\\\\junghoon'"
      ]
     },
     "execution_count": 5,
     "metadata": {},
     "output_type": "execute_result"
    }
   ],
   "source": [
    "pwd"
   ]
  },
  {
   "cell_type": "code",
   "execution_count": 6,
   "metadata": {},
   "outputs": [],
   "source": [
    "test1 = SUB_PATH   + '63586_et_500_with_data_0119_63586.csv'\n",
    "test2 = SUB_PATH   + '63476_et_500_with_data_0120_63476.csv'\n",
    "#test3 = SUB_PATH   + '63235_et_400_with_data_0119_6323595.csv'\n",
    "test4 = SUB_PATH   + '63064_et_400_data0119_append_tf_idf_matrix_pca_63064.csv'\n",
    "test5 = SUB_PATH   + '62804_et_400_partial200_with_data_0119_62804.csv'\n",
    "#test6 = SUB_PATH   + '62614_et_300_with_data_0119_6261465.csv'\n",
    "#test7 = SUB_PATH   + '62579_et_400_with_data_0119_dropcols_62579.csv'\n",
    "#test8 = SUB_PATH   + '62531_et_300_with_data_0112_6253138.csv'\n",
    "test9 = SUB_PATH   + '62327_et_300_string_compare_with_data_0112_para99_62327.csv'\n",
    "test10= SUB_PATH   + '62134_et_400_with_manual_preprocess_data0113_62134.csv'\n",
    "test11= SUB_PATH   + '61735_et_300_smote_with_data_0119_61735.csv'\n",
    "test12 = SUB_PATH  + '61644_et_500_oversample_with_data_0119_ver2_61644.csv'\n",
    "#test13 = SUB_PATH  + '61509_et_300_with_manual_preprocess_data0113_61509.csv'\n",
    "#test14 = SUB_PATH  + '60923_et_500_with_data_0119_rf2017_60923.csv'\n",
    "test15 = SUB_PATH  + '59604_catboost_iter_400_manual_preprocess_data0113_59604.csv'\n",
    "test16 = SUB_PATH  + '59332_ensemble_et_120_cat_200_with_data_0119_59332.csv'\n",
    "#test17 = SUB_PATH  + '58734_et_500_oversample_with_data_0119_58734.csv'\n",
    "#test18 = SUB_PATH  + '58703_et_with_data0112_58703.csv'\n",
    "#test19 = SUB_PATH  + '57465_et_with_data0113.csv'\n",
    "#test20= SUB_PATH   + '57389_rf_data0105_append_tf_idf_matrix_pca_ver6_57389.csv'\n",
    "#test21 = SUB_PATH  + '57168_rf_data0105_append_tf_idf_matrix_pca_ver5_57168.csv'\n",
    "#test22 = SUB_PATH  + '57056_et_smote_with_data0112_ver2_57056.csv'\n",
    "## 필요시 더 추가하세요\n",
    "\n",
    "# df_test1 = pd.read_csv(test1)\n",
    "# df_test2 = pd.read_csv(test2)\n",
    "# df_test3 = pd.read_csv(test3)\n",
    "# df_test4 = pd.read_csv(test4)\n",
    "# df_test5 = pd.read_csv(test5)\n",
    "# df_test6 = pd.read_csv(test6)\n",
    "# df_test7 = pd.read_csv(test7)\n",
    "#df_test8 = pd.read_csv(test8)\n",
    "#df_test9 = pd.read_csv(test9)\n",
    "#df_test10 = pd.read_csv(test10)\n",
    "#df_test11 = pd.read_csv(test11)\n",
    "## 필요시 더 추가하세요\n",
    "\n",
    "# 더 정의하고 만들어도 됩니다.(단, 총 변수의 개수가 홀수개여야 합니다)"
   ]
  },
  {
   "cell_type": "code",
   "execution_count": 7,
   "metadata": {},
   "outputs": [],
   "source": [
    "# 위에 정의한 df_test* 변수들을 모두 아래의 리스트에 넣어주세요 \n",
    "#df_list = [df_test1, df_test2, df_test3, df_test4, df_test5, df_test6, df_test7,]\n",
    "#, df_test6, df_test7, df_test8, df_test9, df_test10, df_test11"
   ]
  },
  {
   "cell_type": "markdown",
   "metadata": {},
   "source": [
    "### <center>----------이 사이를 수정하세요----------</center>"
   ]
  },
  {
   "cell_type": "code",
   "execution_count": 8,
   "metadata": {},
   "outputs": [],
   "source": [
    "from statistics import multimode\n",
    "\n",
    "def ensembles_hard_voting(*files):\n",
    "    # csv들을 받아서 데이터 프레임으로 묶어준 후 list로 만들어줍시다\n",
    "    df_list = []\n",
    "    for file in files:\n",
    "        SUB_PATH = ''\n",
    "        data = SUB_PATH + file\n",
    "        df = pd.read_csv(data)\n",
    "        df_list.append(df)\n",
    "    \n",
    "    ROW_len = df_list[0].shape[0]\n",
    "    \n",
    "    # 이중 리스트로 모아줍니다\n",
    "    list_choices = []\n",
    "    for i in range(ROW_len):\n",
    "        choices = []\n",
    "        for df in df_list:\n",
    "            choices.append(df.iloc[i, 1])\n",
    "        list_choices.append(choices)\n",
    "    \n",
    "    # Hard Voting을 진행합니다\n",
    "    modes = []\n",
    "    for i in range(ROW_len):\n",
    "        #modes.append(max(set(list_choices[i]), key=list_choices[i].count))\n",
    "        modes.append(multimode(list_choices[i])[0])\n",
    "    \n",
    "    # 결과값을 모아볼까요?\n",
    "    voting_matrix = pd.DataFrame(modes, columns=['knowcode'])\n",
    "    # index 열 추가하기 위함. 내용물은 중요하지 않음\n",
    "    sample_submission = pd.read_csv('../submission_files/57389_rf_data0105_append_tf_idf_matrix_pca_ver6_57389.csv')\n",
    "    voting_matrix['idx'] = sample_submission['idx']\n",
    "    #열 순서 재배열\n",
    "    voting_matrix = voting_matrix[['idx','knowcode']]\n",
    "    \n",
    "    return voting_matrix"
   ]
  },
  {
   "cell_type": "code",
   "execution_count": 9,
   "metadata": {},
   "outputs": [
    {
     "data": {
      "text/html": [
       "<div>\n",
       "<style scoped>\n",
       "    .dataframe tbody tr th:only-of-type {\n",
       "        vertical-align: middle;\n",
       "    }\n",
       "\n",
       "    .dataframe tbody tr th {\n",
       "        vertical-align: top;\n",
       "    }\n",
       "\n",
       "    .dataframe thead th {\n",
       "        text-align: right;\n",
       "    }\n",
       "</style>\n",
       "<table border=\"1\" class=\"dataframe\">\n",
       "  <thead>\n",
       "    <tr style=\"text-align: right;\">\n",
       "      <th></th>\n",
       "      <th>idx</th>\n",
       "      <th>knowcode</th>\n",
       "    </tr>\n",
       "  </thead>\n",
       "  <tbody>\n",
       "    <tr>\n",
       "      <th>0</th>\n",
       "      <td>0</td>\n",
       "      <td>29401</td>\n",
       "    </tr>\n",
       "    <tr>\n",
       "      <th>1</th>\n",
       "      <td>1</td>\n",
       "      <td>158501</td>\n",
       "    </tr>\n",
       "    <tr>\n",
       "      <th>2</th>\n",
       "      <td>2</td>\n",
       "      <td>416304</td>\n",
       "    </tr>\n",
       "    <tr>\n",
       "      <th>3</th>\n",
       "      <td>3</td>\n",
       "      <td>121102</td>\n",
       "    </tr>\n",
       "    <tr>\n",
       "      <th>4</th>\n",
       "      <td>4</td>\n",
       "      <td>412003</td>\n",
       "    </tr>\n",
       "    <tr>\n",
       "      <th>...</th>\n",
       "      <td>...</td>\n",
       "      <td>...</td>\n",
       "    </tr>\n",
       "    <tr>\n",
       "      <th>35226</th>\n",
       "      <td>35244</td>\n",
       "      <td>851101</td>\n",
       "    </tr>\n",
       "    <tr>\n",
       "      <th>35227</th>\n",
       "      <td>35245</td>\n",
       "      <td>29303</td>\n",
       "    </tr>\n",
       "    <tr>\n",
       "      <th>35228</th>\n",
       "      <td>35246</td>\n",
       "      <td>833001</td>\n",
       "    </tr>\n",
       "    <tr>\n",
       "      <th>35229</th>\n",
       "      <td>35247</td>\n",
       "      <td>833001</td>\n",
       "    </tr>\n",
       "    <tr>\n",
       "      <th>35230</th>\n",
       "      <td>35248</td>\n",
       "      <td>833001</td>\n",
       "    </tr>\n",
       "  </tbody>\n",
       "</table>\n",
       "<p>35231 rows × 2 columns</p>\n",
       "</div>"
      ],
      "text/plain": [
       "         idx  knowcode\n",
       "0          0     29401\n",
       "1          1    158501\n",
       "2          2    416304\n",
       "3          3    121102\n",
       "4          4    412003\n",
       "...      ...       ...\n",
       "35226  35244    851101\n",
       "35227  35245     29303\n",
       "35228  35246    833001\n",
       "35229  35247    833001\n",
       "35230  35248    833001\n",
       "\n",
       "[35231 rows x 2 columns]"
      ]
     },
     "execution_count": 9,
     "metadata": {},
     "output_type": "execute_result"
    }
   ],
   "source": [
    "voting_matrix = ensembles_hard_voting(test1, \n",
    "                                      test2,\n",
    "                                      #test3,\n",
    "                                      test4,\n",
    "                                      test5,\n",
    "                                      #test6,\n",
    "                                      #test7,\n",
    "                                      #test8, \n",
    "                                      test9,\n",
    "                                      test10,\n",
    "                                      test11,\n",
    "                                      test12,\n",
    "                                      #test13,\n",
    "                                      #test14,\n",
    "                                      test15,\n",
    "                                      test16,\n",
    "                                      #test17,\n",
    "                                      #test18,\n",
    "                                      #test19,\n",
    "                                      #test20,\n",
    "                                      #test21,\n",
    "                                      #test22,\n",
    "                                     )\n",
    "voting_matrix"
   ]
  },
  {
   "cell_type": "markdown",
   "metadata": {
    "papermill": {
     "duration": 0.043238,
     "end_time": "2021-05-11T03:27:36.388399",
     "exception": false,
     "start_time": "2021-05-11T03:27:36.345161",
     "status": "completed"
    },
    "tags": []
   },
   "source": [
    "최종 파일을 csv로 제출합니다."
   ]
  },
  {
   "cell_type": "code",
   "execution_count": 10,
   "metadata": {
    "execution": {
     "iopub.execute_input": "2021-05-11T03:27:36.481290Z",
     "iopub.status.busy": "2021-05-11T03:27:36.480265Z",
     "iopub.status.idle": "2021-05-11T03:27:36.505039Z",
     "shell.execute_reply": "2021-05-11T03:27:36.504361Z"
    },
    "papermill": {
     "duration": 0.07323,
     "end_time": "2021-05-11T03:27:36.505187",
     "exception": false,
     "start_time": "2021-05-11T03:27:36.431957",
     "status": "completed"
    },
    "tags": []
   },
   "outputs": [],
   "source": [
    "voting_matrix.to_csv('voted_ensemble10.csv', index=False)"
   ]
  },
  {
   "cell_type": "code",
   "execution_count": null,
   "metadata": {},
   "outputs": [],
   "source": []
  }
 ],
 "metadata": {
  "kernelspec": {
   "display_name": "Python 3",
   "language": "python",
   "name": "python3"
  },
  "language_info": {
   "codemirror_mode": {
    "name": "ipython",
    "version": 3
   },
   "file_extension": ".py",
   "mimetype": "text/x-python",
   "name": "python",
   "nbconvert_exporter": "python",
   "pygments_lexer": "ipython3",
   "version": "3.8.5"
  },
  "papermill": {
   "default_parameters": {},
   "duration": 260.917219,
   "end_time": "2021-05-11T03:27:38.298643",
   "environment_variables": {},
   "exception": null,
   "input_path": "__notebook__.ipynb",
   "output_path": "__notebook__.ipynb",
   "parameters": {},
   "start_time": "2021-05-11T03:23:17.381424",
   "version": "2.3.3"
  }
 },
 "nbformat": 4,
 "nbformat_minor": 5
}
