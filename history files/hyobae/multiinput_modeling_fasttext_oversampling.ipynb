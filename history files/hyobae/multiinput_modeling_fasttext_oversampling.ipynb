{
  "cells": [
    {
      "cell_type": "markdown",
      "metadata": {
        "id": "view-in-github",
        "colab_type": "text"
      },
      "source": [
        "<a href=\"https://colab.research.google.com/github/notiona/dacon_know/blob/main/hyobae/multiinput_modeling_fasttext_oversampling.ipynb\" target=\"_parent\"><img src=\"https://colab.research.google.com/assets/colab-badge.svg\" alt=\"Open In Colab\"/></a>"
      ]
    },
    {
      "cell_type": "code",
      "execution_count": 1,
      "metadata": {
        "colab": {
          "base_uri": "https://localhost:8080/",
          "height": 87
        },
        "id": "dO07HqbiUb6K",
        "outputId": "aed92308-00ae-4b80-ec39-893813fa1e81"
      },
      "outputs": [
        {
          "output_type": "stream",
          "name": "stdout",
          "text": [
            "Mounted at /content/drive\n",
            "/content/drive/MyDrive/Dacon/dacon_know\n",
            "/content/drive/MyDrive/Dacon/dacon_know/hyobae\n"
          ]
        },
        {
          "output_type": "execute_result",
          "data": {
            "application/vnd.google.colaboratory.intrinsic+json": {
              "type": "string"
            },
            "text/plain": [
              "'/content/drive/MyDrive/Dacon/dacon_know/hyobae'"
            ]
          },
          "metadata": {},
          "execution_count": 1
        }
      ],
      "source": [
        "from google.colab import drive\n",
        "drive.mount('/content/drive')\n",
        "\n",
        "%cd drive/MyDrive/Dacon/dacon_know\n",
        "%cd hyobae\n",
        "%pwd"
      ]
    },
    {
      "cell_type": "code",
      "execution_count": 2,
      "metadata": {
        "id": "gUwhD-haWOgc"
      },
      "outputs": [],
      "source": [
        "from numpy import array\n",
        "from keras.preprocessing.text import one_hot\n",
        "from keras.preprocessing.sequence import pad_sequences\n",
        "from keras.models import Sequential\n",
        "from keras.layers.core import Activation, Dropout, Dense\n",
        "from keras.layers import *\n",
        "from keras.models import Model\n",
        "from keras.layers.embeddings import Embedding\n",
        "from sklearn.model_selection import train_test_split\n",
        "from keras.layers.merge import Concatenate\n",
        "\n",
        "import pandas as pd\n",
        "import numpy as np\n",
        "import re"
      ]
    },
    {
      "cell_type": "code",
      "execution_count": 3,
      "metadata": {
        "id": "3uSFeeWbU-vU"
      },
      "outputs": [],
      "source": [
        "import pandas as pd\n",
        "import numpy as np\n",
        "import tensorflow as tf\n",
        "import matplotlib.pyplot as plt\n",
        "import seaborn as sns\n",
        "\n",
        "from glob import glob\n",
        "from tqdm import tqdm\n",
        "import warnings\n",
        "\n",
        "RANDOM_STATE = 42\n",
        "np.seed = 42\n",
        "DATA_PATH = \"../data_0116/\"\n",
        "\n",
        "warnings.filterwarnings(action='ignore')\n",
        "PATH_2017 = DATA_PATH + \"train/KNOW_2017.csv\"\n",
        "PATH_2018 = DATA_PATH + \"train/KNOW_2018.csv\"\n",
        "PATH_2019 = DATA_PATH + \"train/KNOW_2019.csv\"\n",
        "PATH_2020 = DATA_PATH + \"train/KNOW_2020.csv\"\n",
        "\n",
        "paths = [PATH_2017, PATH_2018, PATH_2019, PATH_2020]\n",
        "\n",
        "know_train = [pd.read_csv(path) for path in paths]\n",
        "\n",
        "TEST_PATH_2017 = DATA_PATH + \"test/KNOW_2017_test.csv\"\n",
        "TEST_PATH_2018 = DATA_PATH + \"test/KNOW_2018_test.csv\"\n",
        "TEST_PATH_2019 = DATA_PATH + \"test/KNOW_2019_test.csv\"\n",
        "TEST_PATH_2020 = DATA_PATH + \"test/KNOW_2020_test.csv\"\n",
        "\n",
        "TEST_PATHs = [TEST_PATH_2017, TEST_PATH_2018, TEST_PATH_2019, TEST_PATH_2020]\n",
        "know_test = [pd.read_csv(path) for path in TEST_PATHs]"
      ]
    },
    {
      "cell_type": "code",
      "execution_count": 4,
      "metadata": {
        "colab": {
          "base_uri": "https://localhost:8080/"
        },
        "id": "mS_xPwVTVWGT",
        "outputId": "3855d210-68d9-4c4a-bd51-a71d12c64c73"
      },
      "outputs": [
        {
          "output_type": "stream",
          "name": "stderr",
          "text": [
            "100%|██████████| 4/4 [01:02<00:00, 15.68s/it]\n"
          ]
        }
      ],
      "source": [
        "# doc2vec을 사용할거라 txt열을 모두 하나로 모아줘야해요\n",
        "text_info_cols = {\"2017\": ['sim_job','bef_job','able_job','major'],\n",
        "                  \"2018\": ['sim_job','bef_job','able_job','major'],\n",
        "                  \"2019\": ['bef_job','able_job','major'],\n",
        "                  \"2020\": ['major'],}\n",
        "years = ['2017','2018','2019','2020']\n",
        "\n",
        "for i, year in enumerate(years):\n",
        "    text_info_col = text_info_cols[year]\n",
        "    for col in text_info_col:\n",
        "        know_train[i]['text_response'] = know_train[i]['text_response'] + ' ' + know_train[i][col]\n",
        "        know_test[i]['text_response'] = know_test[i]['text_response'] + ' ' + know_test[i][col]\n",
        "    know_train[i].drop(text_info_col,axis=1, inplace=True)\n",
        "    know_test[i].drop(text_info_col,axis=1, inplace=True)\n",
        "\n",
        "# text_response 내 존재하는 stopwords들을 제거해줍시다\n",
        "stopwords = ['없다','없음','0','모름','공란']\n",
        "for i in tqdm(range(4)):\n",
        "    for k, doc in enumerate(know_train[i]['text_response']):\n",
        "        doc_list = doc.split(' ')\n",
        "        new_list = [word for word in doc_list if word not in stopwords]\n",
        "        new_string = ''\n",
        "        for word in new_list:\n",
        "            new_string += word\n",
        "            new_string += ' '\n",
        "        know_train[i].loc[k,'text_response'] = new_string[:-1]\n",
        "    for k, doc in enumerate(know_test[i]['text_response']):\n",
        "        doc_list = doc.split(' ')\n",
        "        new_list = [word for word in doc_list if word not in stopwords]\n",
        "        new_string = ''\n",
        "        for word in new_list:\n",
        "            new_string += word\n",
        "            new_string += ' '\n",
        "        know_test[i].loc[k,'text_response'] = new_string[:-1]\n",
        "\n",
        "# description은 드랍합시다\n",
        "for i in range(4):\n",
        "    know_train[i].drop('description',axis=1,inplace=True)"
      ]
    },
    {
      "cell_type": "code",
      "execution_count": 5,
      "metadata": {
        "id": "H4FB8CjtWK5e"
      },
      "outputs": [],
      "source": [
        "# 일단은 2018년으로 해봅시다\n",
        "\n",
        "data = know_train[1]\n",
        "from sklearn import preprocessing\n",
        "\n",
        "# 딥러닝 모델에 돌리려면 target 값을 label encoding을 해주어야 합니다. \n",
        "\n",
        "X = data.drop(['idx','knowcode'],axis=1)\n",
        "y = data['knowcode']\n",
        "\n",
        "label_encoder = preprocessing.LabelEncoder()\n",
        "y = label_encoder.fit_transform(y)\n",
        "\n",
        "# train이랑 validation set을 나눠서 해보죠\n",
        "X_train, X_val, y_train, y_val = train_test_split(X, y, test_size=0.20, random_state=RANDOM_STATE)\n",
        "\n",
        "# 이 부분은 반드시 해줘야 합니다! 마지막 softmax에서 다중분류로 인식하기 위해서 필요해요\n",
        "len_output = len(np.unique(y_train))\n",
        "\n",
        "from tensorflow.keras.utils import to_categorical\n",
        "y_train = to_categorical(y_train)\n",
        "y_val = to_categorical(y_val)"
      ]
    },
    {
      "cell_type": "code",
      "execution_count": 6,
      "metadata": {
        "colab": {
          "base_uri": "https://localhost:8080/",
          "height": 974
        },
        "id": "X2ifJTgqWLSf",
        "outputId": "a3151891-2f97-4618-ab5b-011328e89acb"
      },
      "outputs": [
        {
          "output_type": "execute_result",
          "data": {
            "text/html": [
              "\n",
              "  <div id=\"df-87e3dd98-c77d-41da-a560-4920b0039c2d\">\n",
              "    <div class=\"colab-df-container\">\n",
              "      <div>\n",
              "<style scoped>\n",
              "    .dataframe tbody tr th:only-of-type {\n",
              "        vertical-align: middle;\n",
              "    }\n",
              "\n",
              "    .dataframe tbody tr th {\n",
              "        vertical-align: top;\n",
              "    }\n",
              "\n",
              "    .dataframe thead th {\n",
              "        text-align: right;\n",
              "    }\n",
              "</style>\n",
              "<table border=\"1\" class=\"dataframe\">\n",
              "  <thead>\n",
              "    <tr style=\"text-align: right;\">\n",
              "      <th></th>\n",
              "      <th>cq1</th>\n",
              "      <th>cq2</th>\n",
              "      <th>cq3</th>\n",
              "      <th>cq4</th>\n",
              "      <th>cq5</th>\n",
              "      <th>cq6</th>\n",
              "      <th>cq7</th>\n",
              "      <th>cq8</th>\n",
              "      <th>cq9</th>\n",
              "      <th>cq10</th>\n",
              "      <th>cq11</th>\n",
              "      <th>cq12</th>\n",
              "      <th>cq13</th>\n",
              "      <th>cq14</th>\n",
              "      <th>cq15</th>\n",
              "      <th>cq16</th>\n",
              "      <th>cq17</th>\n",
              "      <th>cq18</th>\n",
              "      <th>cq19</th>\n",
              "      <th>cq20</th>\n",
              "      <th>cq21</th>\n",
              "      <th>cq22</th>\n",
              "      <th>cq23</th>\n",
              "      <th>cq24</th>\n",
              "      <th>cq25</th>\n",
              "      <th>cq26</th>\n",
              "      <th>cq27</th>\n",
              "      <th>cq28</th>\n",
              "      <th>cq29</th>\n",
              "      <th>cq30</th>\n",
              "      <th>cq31</th>\n",
              "      <th>cq32</th>\n",
              "      <th>cq33</th>\n",
              "      <th>cq34</th>\n",
              "      <th>cq35</th>\n",
              "      <th>cq36</th>\n",
              "      <th>cq37</th>\n",
              "      <th>cq38</th>\n",
              "      <th>cq39</th>\n",
              "      <th>cq40</th>\n",
              "      <th>...</th>\n",
              "      <th>bq14</th>\n",
              "      <th>bq15</th>\n",
              "      <th>bq16</th>\n",
              "      <th>bq17</th>\n",
              "      <th>bq18</th>\n",
              "      <th>bq19</th>\n",
              "      <th>bq20</th>\n",
              "      <th>bq21</th>\n",
              "      <th>bq25</th>\n",
              "      <th>bq25_1</th>\n",
              "      <th>bq26_1</th>\n",
              "      <th>bq26_1a</th>\n",
              "      <th>bq26_2</th>\n",
              "      <th>bq26_2a</th>\n",
              "      <th>bq26_3</th>\n",
              "      <th>bq26_3a</th>\n",
              "      <th>bq26_4</th>\n",
              "      <th>bq26_4a</th>\n",
              "      <th>bq27</th>\n",
              "      <th>bq28</th>\n",
              "      <th>bq34</th>\n",
              "      <th>bq35</th>\n",
              "      <th>bq36</th>\n",
              "      <th>bq37</th>\n",
              "      <th>bq38</th>\n",
              "      <th>bq38_1</th>\n",
              "      <th>bq38_2</th>\n",
              "      <th>bq39</th>\n",
              "      <th>bq40</th>\n",
              "      <th>bq41_1</th>\n",
              "      <th>bq41_2</th>\n",
              "      <th>bq41_3</th>\n",
              "      <th>text_response</th>\n",
              "      <th>bq22</th>\n",
              "      <th>bq23</th>\n",
              "      <th>bq24</th>\n",
              "      <th>bq6_mark</th>\n",
              "      <th>bq12_2_mark</th>\n",
              "      <th>bq12_3_mark</th>\n",
              "      <th>bq12_4_mark</th>\n",
              "    </tr>\n",
              "  </thead>\n",
              "  <tbody>\n",
              "    <tr>\n",
              "      <th>3767</th>\n",
              "      <td>2</td>\n",
              "      <td>1</td>\n",
              "      <td>1</td>\n",
              "      <td>1</td>\n",
              "      <td>1</td>\n",
              "      <td>2</td>\n",
              "      <td>3</td>\n",
              "      <td>2</td>\n",
              "      <td>2</td>\n",
              "      <td>2</td>\n",
              "      <td>2</td>\n",
              "      <td>3</td>\n",
              "      <td>2</td>\n",
              "      <td>5</td>\n",
              "      <td>1</td>\n",
              "      <td>4</td>\n",
              "      <td>4</td>\n",
              "      <td>2</td>\n",
              "      <td>2</td>\n",
              "      <td>1</td>\n",
              "      <td>2</td>\n",
              "      <td>1</td>\n",
              "      <td>1</td>\n",
              "      <td>1</td>\n",
              "      <td>1</td>\n",
              "      <td>1</td>\n",
              "      <td>4</td>\n",
              "      <td>2</td>\n",
              "      <td>2</td>\n",
              "      <td>2</td>\n",
              "      <td>2</td>\n",
              "      <td>2</td>\n",
              "      <td>3</td>\n",
              "      <td>5</td>\n",
              "      <td>5</td>\n",
              "      <td>4</td>\n",
              "      <td>2</td>\n",
              "      <td>1</td>\n",
              "      <td>2</td>\n",
              "      <td>2</td>\n",
              "      <td>...</td>\n",
              "      <td>1</td>\n",
              "      <td>1</td>\n",
              "      <td>2</td>\n",
              "      <td>1</td>\n",
              "      <td>1</td>\n",
              "      <td>1</td>\n",
              "      <td>4</td>\n",
              "      <td>100.0</td>\n",
              "      <td>1</td>\n",
              "      <td>2</td>\n",
              "      <td>3.0</td>\n",
              "      <td>2</td>\n",
              "      <td>3.0</td>\n",
              "      <td>2</td>\n",
              "      <td>3.0</td>\n",
              "      <td>2</td>\n",
              "      <td>3.0</td>\n",
              "      <td>1</td>\n",
              "      <td>2</td>\n",
              "      <td>3.0</td>\n",
              "      <td>3.0</td>\n",
              "      <td>1.0</td>\n",
              "      <td>25.0</td>\n",
              "      <td>3.0</td>\n",
              "      <td>1.0</td>\n",
              "      <td>1</td>\n",
              "      <td>6</td>\n",
              "      <td>1</td>\n",
              "      <td>40.0</td>\n",
              "      <td>1800</td>\n",
              "      <td>1800</td>\n",
              "      <td>0</td>\n",
              "      <td>사람 부분</td>\n",
              "      <td>3.0</td>\n",
              "      <td>4.0</td>\n",
              "      <td>5</td>\n",
              "      <td>0</td>\n",
              "      <td>0</td>\n",
              "      <td>0</td>\n",
              "      <td>0</td>\n",
              "    </tr>\n",
              "    <tr>\n",
              "      <th>7173</th>\n",
              "      <td>4</td>\n",
              "      <td>1</td>\n",
              "      <td>5</td>\n",
              "      <td>5</td>\n",
              "      <td>5</td>\n",
              "      <td>4</td>\n",
              "      <td>4</td>\n",
              "      <td>4</td>\n",
              "      <td>4</td>\n",
              "      <td>3</td>\n",
              "      <td>3</td>\n",
              "      <td>3</td>\n",
              "      <td>2</td>\n",
              "      <td>5</td>\n",
              "      <td>1</td>\n",
              "      <td>1</td>\n",
              "      <td>3</td>\n",
              "      <td>2</td>\n",
              "      <td>1</td>\n",
              "      <td>1</td>\n",
              "      <td>2</td>\n",
              "      <td>1</td>\n",
              "      <td>1</td>\n",
              "      <td>4</td>\n",
              "      <td>1</td>\n",
              "      <td>4</td>\n",
              "      <td>1</td>\n",
              "      <td>1</td>\n",
              "      <td>5</td>\n",
              "      <td>1</td>\n",
              "      <td>2</td>\n",
              "      <td>1</td>\n",
              "      <td>1</td>\n",
              "      <td>4</td>\n",
              "      <td>3</td>\n",
              "      <td>2</td>\n",
              "      <td>3</td>\n",
              "      <td>2</td>\n",
              "      <td>2</td>\n",
              "      <td>3</td>\n",
              "      <td>...</td>\n",
              "      <td>1</td>\n",
              "      <td>1</td>\n",
              "      <td>2</td>\n",
              "      <td>1</td>\n",
              "      <td>1</td>\n",
              "      <td>1</td>\n",
              "      <td>3</td>\n",
              "      <td>100.0</td>\n",
              "      <td>1</td>\n",
              "      <td>2</td>\n",
              "      <td>1.0</td>\n",
              "      <td>2</td>\n",
              "      <td>1.0</td>\n",
              "      <td>2</td>\n",
              "      <td>1.0</td>\n",
              "      <td>2</td>\n",
              "      <td>1.0</td>\n",
              "      <td>1</td>\n",
              "      <td>2</td>\n",
              "      <td>4.0</td>\n",
              "      <td>3.0</td>\n",
              "      <td>2.0</td>\n",
              "      <td>29.0</td>\n",
              "      <td>5.0</td>\n",
              "      <td>1.0</td>\n",
              "      <td>3</td>\n",
              "      <td>6</td>\n",
              "      <td>2</td>\n",
              "      <td>40.0</td>\n",
              "      <td>3400</td>\n",
              "      <td>3300</td>\n",
              "      <td>0</td>\n",
              "      <td>ERP사용교육 LMO안전교육 실험실안전교육 개발 대한 관심 때문 ERP 회계 PRI...</td>\n",
              "      <td>1.0</td>\n",
              "      <td>1.0</td>\n",
              "      <td>2</td>\n",
              "      <td>0</td>\n",
              "      <td>0</td>\n",
              "      <td>0</td>\n",
              "      <td>0</td>\n",
              "    </tr>\n",
              "    <tr>\n",
              "      <th>4299</th>\n",
              "      <td>5</td>\n",
              "      <td>2</td>\n",
              "      <td>5</td>\n",
              "      <td>5</td>\n",
              "      <td>5</td>\n",
              "      <td>5</td>\n",
              "      <td>4</td>\n",
              "      <td>4</td>\n",
              "      <td>4</td>\n",
              "      <td>2</td>\n",
              "      <td>4</td>\n",
              "      <td>3</td>\n",
              "      <td>3</td>\n",
              "      <td>5</td>\n",
              "      <td>1</td>\n",
              "      <td>1</td>\n",
              "      <td>3</td>\n",
              "      <td>1</td>\n",
              "      <td>1</td>\n",
              "      <td>1</td>\n",
              "      <td>1</td>\n",
              "      <td>1</td>\n",
              "      <td>1</td>\n",
              "      <td>1</td>\n",
              "      <td>1</td>\n",
              "      <td>5</td>\n",
              "      <td>2</td>\n",
              "      <td>5</td>\n",
              "      <td>3</td>\n",
              "      <td>3</td>\n",
              "      <td>1</td>\n",
              "      <td>2</td>\n",
              "      <td>2</td>\n",
              "      <td>3</td>\n",
              "      <td>4</td>\n",
              "      <td>2</td>\n",
              "      <td>3</td>\n",
              "      <td>2</td>\n",
              "      <td>2</td>\n",
              "      <td>2</td>\n",
              "      <td>...</td>\n",
              "      <td>1</td>\n",
              "      <td>1</td>\n",
              "      <td>2</td>\n",
              "      <td>3</td>\n",
              "      <td>1</td>\n",
              "      <td>2</td>\n",
              "      <td>4</td>\n",
              "      <td>100.0</td>\n",
              "      <td>1</td>\n",
              "      <td>2</td>\n",
              "      <td>1.0</td>\n",
              "      <td>2</td>\n",
              "      <td>1.0</td>\n",
              "      <td>2</td>\n",
              "      <td>1.0</td>\n",
              "      <td>2</td>\n",
              "      <td>1.0</td>\n",
              "      <td>1</td>\n",
              "      <td>2</td>\n",
              "      <td>4.0</td>\n",
              "      <td>3.0</td>\n",
              "      <td>2.0</td>\n",
              "      <td>40.0</td>\n",
              "      <td>5.0</td>\n",
              "      <td>1.0</td>\n",
              "      <td>1</td>\n",
              "      <td>6</td>\n",
              "      <td>1</td>\n",
              "      <td>40.0</td>\n",
              "      <td>4200</td>\n",
              "      <td>1800</td>\n",
              "      <td>0</td>\n",
              "      <td>실험기기 조작법 감성 산업 성장 교반기 핫플레이트 화학</td>\n",
              "      <td>1.0</td>\n",
              "      <td>1.0</td>\n",
              "      <td>1</td>\n",
              "      <td>0</td>\n",
              "      <td>0</td>\n",
              "      <td>0</td>\n",
              "      <td>0</td>\n",
              "    </tr>\n",
              "    <tr>\n",
              "      <th>7443</th>\n",
              "      <td>5</td>\n",
              "      <td>4</td>\n",
              "      <td>5</td>\n",
              "      <td>3</td>\n",
              "      <td>3</td>\n",
              "      <td>5</td>\n",
              "      <td>4</td>\n",
              "      <td>3</td>\n",
              "      <td>3</td>\n",
              "      <td>1</td>\n",
              "      <td>4</td>\n",
              "      <td>2</td>\n",
              "      <td>3</td>\n",
              "      <td>5</td>\n",
              "      <td>1</td>\n",
              "      <td>1</td>\n",
              "      <td>3</td>\n",
              "      <td>1</td>\n",
              "      <td>1</td>\n",
              "      <td>1</td>\n",
              "      <td>1</td>\n",
              "      <td>1</td>\n",
              "      <td>1</td>\n",
              "      <td>1</td>\n",
              "      <td>1</td>\n",
              "      <td>1</td>\n",
              "      <td>1</td>\n",
              "      <td>1</td>\n",
              "      <td>5</td>\n",
              "      <td>1</td>\n",
              "      <td>1</td>\n",
              "      <td>1</td>\n",
              "      <td>1</td>\n",
              "      <td>4</td>\n",
              "      <td>1</td>\n",
              "      <td>4</td>\n",
              "      <td>4</td>\n",
              "      <td>3</td>\n",
              "      <td>3</td>\n",
              "      <td>1</td>\n",
              "      <td>...</td>\n",
              "      <td>1</td>\n",
              "      <td>1</td>\n",
              "      <td>1</td>\n",
              "      <td>1</td>\n",
              "      <td>1</td>\n",
              "      <td>2</td>\n",
              "      <td>4</td>\n",
              "      <td>70.0</td>\n",
              "      <td>1</td>\n",
              "      <td>2</td>\n",
              "      <td>1.0</td>\n",
              "      <td>2</td>\n",
              "      <td>1.0</td>\n",
              "      <td>2</td>\n",
              "      <td>1.0</td>\n",
              "      <td>2</td>\n",
              "      <td>1.0</td>\n",
              "      <td>1</td>\n",
              "      <td>2</td>\n",
              "      <td>2.0</td>\n",
              "      <td>3.0</td>\n",
              "      <td>1.0</td>\n",
              "      <td>67.0</td>\n",
              "      <td>4.0</td>\n",
              "      <td>1.0</td>\n",
              "      <td>1</td>\n",
              "      <td>6</td>\n",
              "      <td>1</td>\n",
              "      <td>40.0</td>\n",
              "      <td>4000</td>\n",
              "      <td>2500</td>\n",
              "      <td>0</td>\n",
              "      <td>인터넷 정보 자가 등기 소송 증가 컴퓨터 은행원 사회과</td>\n",
              "      <td>1.0</td>\n",
              "      <td>1.0</td>\n",
              "      <td>1</td>\n",
              "      <td>0</td>\n",
              "      <td>0</td>\n",
              "      <td>0</td>\n",
              "      <td>0</td>\n",
              "    </tr>\n",
              "    <tr>\n",
              "      <th>1643</th>\n",
              "      <td>5</td>\n",
              "      <td>4</td>\n",
              "      <td>3</td>\n",
              "      <td>4</td>\n",
              "      <td>4</td>\n",
              "      <td>3</td>\n",
              "      <td>4</td>\n",
              "      <td>4</td>\n",
              "      <td>3</td>\n",
              "      <td>1</td>\n",
              "      <td>3</td>\n",
              "      <td>1</td>\n",
              "      <td>2</td>\n",
              "      <td>5</td>\n",
              "      <td>2</td>\n",
              "      <td>1</td>\n",
              "      <td>4</td>\n",
              "      <td>2</td>\n",
              "      <td>1</td>\n",
              "      <td>1</td>\n",
              "      <td>3</td>\n",
              "      <td>1</td>\n",
              "      <td>3</td>\n",
              "      <td>3</td>\n",
              "      <td>1</td>\n",
              "      <td>2</td>\n",
              "      <td>4</td>\n",
              "      <td>4</td>\n",
              "      <td>3</td>\n",
              "      <td>2</td>\n",
              "      <td>1</td>\n",
              "      <td>3</td>\n",
              "      <td>1</td>\n",
              "      <td>4</td>\n",
              "      <td>1</td>\n",
              "      <td>4</td>\n",
              "      <td>4</td>\n",
              "      <td>3</td>\n",
              "      <td>3</td>\n",
              "      <td>2</td>\n",
              "      <td>...</td>\n",
              "      <td>1</td>\n",
              "      <td>1</td>\n",
              "      <td>2</td>\n",
              "      <td>1</td>\n",
              "      <td>1</td>\n",
              "      <td>1</td>\n",
              "      <td>4</td>\n",
              "      <td>90.0</td>\n",
              "      <td>1</td>\n",
              "      <td>2</td>\n",
              "      <td>1.0</td>\n",
              "      <td>2</td>\n",
              "      <td>1.0</td>\n",
              "      <td>2</td>\n",
              "      <td>1.0</td>\n",
              "      <td>2</td>\n",
              "      <td>1.0</td>\n",
              "      <td>1</td>\n",
              "      <td>1</td>\n",
              "      <td>2.0</td>\n",
              "      <td>3.0</td>\n",
              "      <td>2.0</td>\n",
              "      <td>35.0</td>\n",
              "      <td>4.0</td>\n",
              "      <td>1.0</td>\n",
              "      <td>1</td>\n",
              "      <td>6</td>\n",
              "      <td>1</td>\n",
              "      <td>40.0</td>\n",
              "      <td>3600</td>\n",
              "      <td>2200</td>\n",
              "      <td>0</td>\n",
              "      <td>양복기능사 양장기능사 실무교육필요함 현장실습 기성복 수요 감소 줄자 볼펜 양복점 패...</td>\n",
              "      <td>1.0</td>\n",
              "      <td>1.0</td>\n",
              "      <td>1</td>\n",
              "      <td>0</td>\n",
              "      <td>0</td>\n",
              "      <td>0</td>\n",
              "      <td>0</td>\n",
              "    </tr>\n",
              "    <tr>\n",
              "      <th>...</th>\n",
              "      <td>...</td>\n",
              "      <td>...</td>\n",
              "      <td>...</td>\n",
              "      <td>...</td>\n",
              "      <td>...</td>\n",
              "      <td>...</td>\n",
              "      <td>...</td>\n",
              "      <td>...</td>\n",
              "      <td>...</td>\n",
              "      <td>...</td>\n",
              "      <td>...</td>\n",
              "      <td>...</td>\n",
              "      <td>...</td>\n",
              "      <td>...</td>\n",
              "      <td>...</td>\n",
              "      <td>...</td>\n",
              "      <td>...</td>\n",
              "      <td>...</td>\n",
              "      <td>...</td>\n",
              "      <td>...</td>\n",
              "      <td>...</td>\n",
              "      <td>...</td>\n",
              "      <td>...</td>\n",
              "      <td>...</td>\n",
              "      <td>...</td>\n",
              "      <td>...</td>\n",
              "      <td>...</td>\n",
              "      <td>...</td>\n",
              "      <td>...</td>\n",
              "      <td>...</td>\n",
              "      <td>...</td>\n",
              "      <td>...</td>\n",
              "      <td>...</td>\n",
              "      <td>...</td>\n",
              "      <td>...</td>\n",
              "      <td>...</td>\n",
              "      <td>...</td>\n",
              "      <td>...</td>\n",
              "      <td>...</td>\n",
              "      <td>...</td>\n",
              "      <td>...</td>\n",
              "      <td>...</td>\n",
              "      <td>...</td>\n",
              "      <td>...</td>\n",
              "      <td>...</td>\n",
              "      <td>...</td>\n",
              "      <td>...</td>\n",
              "      <td>...</td>\n",
              "      <td>...</td>\n",
              "      <td>...</td>\n",
              "      <td>...</td>\n",
              "      <td>...</td>\n",
              "      <td>...</td>\n",
              "      <td>...</td>\n",
              "      <td>...</td>\n",
              "      <td>...</td>\n",
              "      <td>...</td>\n",
              "      <td>...</td>\n",
              "      <td>...</td>\n",
              "      <td>...</td>\n",
              "      <td>...</td>\n",
              "      <td>...</td>\n",
              "      <td>...</td>\n",
              "      <td>...</td>\n",
              "      <td>...</td>\n",
              "      <td>...</td>\n",
              "      <td>...</td>\n",
              "      <td>...</td>\n",
              "      <td>...</td>\n",
              "      <td>...</td>\n",
              "      <td>...</td>\n",
              "      <td>...</td>\n",
              "      <td>...</td>\n",
              "      <td>...</td>\n",
              "      <td>...</td>\n",
              "      <td>...</td>\n",
              "      <td>...</td>\n",
              "      <td>...</td>\n",
              "      <td>...</td>\n",
              "      <td>...</td>\n",
              "      <td>...</td>\n",
              "    </tr>\n",
              "    <tr>\n",
              "      <th>5734</th>\n",
              "      <td>5</td>\n",
              "      <td>3</td>\n",
              "      <td>5</td>\n",
              "      <td>2</td>\n",
              "      <td>3</td>\n",
              "      <td>5</td>\n",
              "      <td>4</td>\n",
              "      <td>4</td>\n",
              "      <td>4</td>\n",
              "      <td>2</td>\n",
              "      <td>3</td>\n",
              "      <td>4</td>\n",
              "      <td>4</td>\n",
              "      <td>5</td>\n",
              "      <td>1</td>\n",
              "      <td>1</td>\n",
              "      <td>3</td>\n",
              "      <td>4</td>\n",
              "      <td>3</td>\n",
              "      <td>1</td>\n",
              "      <td>1</td>\n",
              "      <td>1</td>\n",
              "      <td>1</td>\n",
              "      <td>1</td>\n",
              "      <td>1</td>\n",
              "      <td>1</td>\n",
              "      <td>1</td>\n",
              "      <td>1</td>\n",
              "      <td>5</td>\n",
              "      <td>1</td>\n",
              "      <td>1</td>\n",
              "      <td>2</td>\n",
              "      <td>2</td>\n",
              "      <td>4</td>\n",
              "      <td>1</td>\n",
              "      <td>4</td>\n",
              "      <td>4</td>\n",
              "      <td>5</td>\n",
              "      <td>2</td>\n",
              "      <td>3</td>\n",
              "      <td>...</td>\n",
              "      <td>1</td>\n",
              "      <td>1</td>\n",
              "      <td>1</td>\n",
              "      <td>1</td>\n",
              "      <td>1</td>\n",
              "      <td>2</td>\n",
              "      <td>2</td>\n",
              "      <td>90.0</td>\n",
              "      <td>1</td>\n",
              "      <td>2</td>\n",
              "      <td>1.0</td>\n",
              "      <td>2</td>\n",
              "      <td>1.0</td>\n",
              "      <td>2</td>\n",
              "      <td>1.0</td>\n",
              "      <td>2</td>\n",
              "      <td>1.0</td>\n",
              "      <td>1</td>\n",
              "      <td>1</td>\n",
              "      <td>4.0</td>\n",
              "      <td>4.0</td>\n",
              "      <td>2.0</td>\n",
              "      <td>23.0</td>\n",
              "      <td>3.0</td>\n",
              "      <td>1.0</td>\n",
              "      <td>1</td>\n",
              "      <td>6</td>\n",
              "      <td>2</td>\n",
              "      <td>52.0</td>\n",
              "      <td>2400</td>\n",
              "      <td>1800</td>\n",
              "      <td>0</td>\n",
              "      <td>수화통역사 수화통역 훈련 한국어 훈련 한국 수화 통역사 시험 사람 장애인 서비스 다...</td>\n",
              "      <td>3.0</td>\n",
              "      <td>1.0</td>\n",
              "      <td>1</td>\n",
              "      <td>0</td>\n",
              "      <td>0</td>\n",
              "      <td>0</td>\n",
              "      <td>0</td>\n",
              "    </tr>\n",
              "    <tr>\n",
              "      <th>5191</th>\n",
              "      <td>5</td>\n",
              "      <td>1</td>\n",
              "      <td>4</td>\n",
              "      <td>4</td>\n",
              "      <td>2</td>\n",
              "      <td>4</td>\n",
              "      <td>1</td>\n",
              "      <td>4</td>\n",
              "      <td>2</td>\n",
              "      <td>3</td>\n",
              "      <td>3</td>\n",
              "      <td>2</td>\n",
              "      <td>2</td>\n",
              "      <td>5</td>\n",
              "      <td>2</td>\n",
              "      <td>1</td>\n",
              "      <td>2</td>\n",
              "      <td>2</td>\n",
              "      <td>2</td>\n",
              "      <td>1</td>\n",
              "      <td>2</td>\n",
              "      <td>1</td>\n",
              "      <td>1</td>\n",
              "      <td>1</td>\n",
              "      <td>1</td>\n",
              "      <td>1</td>\n",
              "      <td>2</td>\n",
              "      <td>2</td>\n",
              "      <td>2</td>\n",
              "      <td>5</td>\n",
              "      <td>1</td>\n",
              "      <td>5</td>\n",
              "      <td>1</td>\n",
              "      <td>2</td>\n",
              "      <td>5</td>\n",
              "      <td>4</td>\n",
              "      <td>4</td>\n",
              "      <td>2</td>\n",
              "      <td>3</td>\n",
              "      <td>3</td>\n",
              "      <td>...</td>\n",
              "      <td>1</td>\n",
              "      <td>1</td>\n",
              "      <td>1</td>\n",
              "      <td>3</td>\n",
              "      <td>3</td>\n",
              "      <td>1</td>\n",
              "      <td>4</td>\n",
              "      <td>89.0</td>\n",
              "      <td>1</td>\n",
              "      <td>1</td>\n",
              "      <td>2.0</td>\n",
              "      <td>2</td>\n",
              "      <td>2.0</td>\n",
              "      <td>2</td>\n",
              "      <td>2.0</td>\n",
              "      <td>2</td>\n",
              "      <td>2.0</td>\n",
              "      <td>1</td>\n",
              "      <td>2</td>\n",
              "      <td>4.0</td>\n",
              "      <td>3.0</td>\n",
              "      <td>2.0</td>\n",
              "      <td>32.0</td>\n",
              "      <td>4.0</td>\n",
              "      <td>2.0</td>\n",
              "      <td>1</td>\n",
              "      <td>6</td>\n",
              "      <td>0</td>\n",
              "      <td>54.0</td>\n",
              "      <td>0</td>\n",
              "      <td>0</td>\n",
              "      <td>3000</td>\n",
              "      <td>한약사 고객상담연습 노령화 건강 대한 관심 증가 포장기 전탕기 한약학</td>\n",
              "      <td>2.0</td>\n",
              "      <td>5.0</td>\n",
              "      <td>5</td>\n",
              "      <td>0</td>\n",
              "      <td>0</td>\n",
              "      <td>0</td>\n",
              "      <td>0</td>\n",
              "    </tr>\n",
              "    <tr>\n",
              "      <th>5390</th>\n",
              "      <td>5</td>\n",
              "      <td>3</td>\n",
              "      <td>3</td>\n",
              "      <td>3</td>\n",
              "      <td>5</td>\n",
              "      <td>5</td>\n",
              "      <td>5</td>\n",
              "      <td>5</td>\n",
              "      <td>5</td>\n",
              "      <td>3</td>\n",
              "      <td>5</td>\n",
              "      <td>5</td>\n",
              "      <td>2</td>\n",
              "      <td>5</td>\n",
              "      <td>1</td>\n",
              "      <td>1</td>\n",
              "      <td>4</td>\n",
              "      <td>5</td>\n",
              "      <td>1</td>\n",
              "      <td>1</td>\n",
              "      <td>1</td>\n",
              "      <td>1</td>\n",
              "      <td>1</td>\n",
              "      <td>5</td>\n",
              "      <td>1</td>\n",
              "      <td>1</td>\n",
              "      <td>1</td>\n",
              "      <td>5</td>\n",
              "      <td>3</td>\n",
              "      <td>3</td>\n",
              "      <td>2</td>\n",
              "      <td>5</td>\n",
              "      <td>2</td>\n",
              "      <td>2</td>\n",
              "      <td>5</td>\n",
              "      <td>5</td>\n",
              "      <td>4</td>\n",
              "      <td>5</td>\n",
              "      <td>4</td>\n",
              "      <td>1</td>\n",
              "      <td>...</td>\n",
              "      <td>1</td>\n",
              "      <td>4</td>\n",
              "      <td>2</td>\n",
              "      <td>1</td>\n",
              "      <td>1</td>\n",
              "      <td>1</td>\n",
              "      <td>5</td>\n",
              "      <td>100.0</td>\n",
              "      <td>1</td>\n",
              "      <td>2</td>\n",
              "      <td>1.0</td>\n",
              "      <td>2</td>\n",
              "      <td>1.0</td>\n",
              "      <td>2</td>\n",
              "      <td>1.0</td>\n",
              "      <td>2</td>\n",
              "      <td>1.0</td>\n",
              "      <td>1</td>\n",
              "      <td>2</td>\n",
              "      <td>3.0</td>\n",
              "      <td>3.0</td>\n",
              "      <td>1.0</td>\n",
              "      <td>40.0</td>\n",
              "      <td>5.0</td>\n",
              "      <td>1.0</td>\n",
              "      <td>1</td>\n",
              "      <td>6</td>\n",
              "      <td>1</td>\n",
              "      <td>60.0</td>\n",
              "      <td>10000</td>\n",
              "      <td>5000</td>\n",
              "      <td>0</td>\n",
              "      <td>의사면허증 전문의 자격증 실무교육 인구 감소 에피듀랄 니들 주사기 통증클리닉 의학</td>\n",
              "      <td>1.0</td>\n",
              "      <td>1.0</td>\n",
              "      <td>1</td>\n",
              "      <td>0</td>\n",
              "      <td>0</td>\n",
              "      <td>0</td>\n",
              "      <td>0</td>\n",
              "    </tr>\n",
              "    <tr>\n",
              "      <th>860</th>\n",
              "      <td>4</td>\n",
              "      <td>3</td>\n",
              "      <td>5</td>\n",
              "      <td>4</td>\n",
              "      <td>4</td>\n",
              "      <td>4</td>\n",
              "      <td>4</td>\n",
              "      <td>4</td>\n",
              "      <td>4</td>\n",
              "      <td>3</td>\n",
              "      <td>4</td>\n",
              "      <td>4</td>\n",
              "      <td>3</td>\n",
              "      <td>5</td>\n",
              "      <td>3</td>\n",
              "      <td>4</td>\n",
              "      <td>3</td>\n",
              "      <td>1</td>\n",
              "      <td>1</td>\n",
              "      <td>1</td>\n",
              "      <td>1</td>\n",
              "      <td>1</td>\n",
              "      <td>1</td>\n",
              "      <td>1</td>\n",
              "      <td>1</td>\n",
              "      <td>1</td>\n",
              "      <td>1</td>\n",
              "      <td>1</td>\n",
              "      <td>4</td>\n",
              "      <td>2</td>\n",
              "      <td>2</td>\n",
              "      <td>3</td>\n",
              "      <td>1</td>\n",
              "      <td>4</td>\n",
              "      <td>1</td>\n",
              "      <td>2</td>\n",
              "      <td>4</td>\n",
              "      <td>3</td>\n",
              "      <td>3</td>\n",
              "      <td>2</td>\n",
              "      <td>...</td>\n",
              "      <td>1</td>\n",
              "      <td>1</td>\n",
              "      <td>2</td>\n",
              "      <td>1</td>\n",
              "      <td>1</td>\n",
              "      <td>2</td>\n",
              "      <td>4</td>\n",
              "      <td>100.0</td>\n",
              "      <td>1</td>\n",
              "      <td>2</td>\n",
              "      <td>2.0</td>\n",
              "      <td>2</td>\n",
              "      <td>1.0</td>\n",
              "      <td>2</td>\n",
              "      <td>2.0</td>\n",
              "      <td>2</td>\n",
              "      <td>2.0</td>\n",
              "      <td>1</td>\n",
              "      <td>2</td>\n",
              "      <td>3.0</td>\n",
              "      <td>3.0</td>\n",
              "      <td>2.0</td>\n",
              "      <td>40.0</td>\n",
              "      <td>4.0</td>\n",
              "      <td>1.0</td>\n",
              "      <td>1</td>\n",
              "      <td>6</td>\n",
              "      <td>1</td>\n",
              "      <td>40.0</td>\n",
              "      <td>8000</td>\n",
              "      <td>5000</td>\n",
              "      <td>0</td>\n",
              "      <td>hrd 교육원 현상 유지 문서편집 프로그램 통계학</td>\n",
              "      <td>1.0</td>\n",
              "      <td>1.0</td>\n",
              "      <td>1</td>\n",
              "      <td>0</td>\n",
              "      <td>0</td>\n",
              "      <td>0</td>\n",
              "      <td>0</td>\n",
              "    </tr>\n",
              "    <tr>\n",
              "      <th>7270</th>\n",
              "      <td>3</td>\n",
              "      <td>1</td>\n",
              "      <td>2</td>\n",
              "      <td>1</td>\n",
              "      <td>2</td>\n",
              "      <td>3</td>\n",
              "      <td>3</td>\n",
              "      <td>1</td>\n",
              "      <td>3</td>\n",
              "      <td>2</td>\n",
              "      <td>1</td>\n",
              "      <td>2</td>\n",
              "      <td>1</td>\n",
              "      <td>4</td>\n",
              "      <td>2</td>\n",
              "      <td>1</td>\n",
              "      <td>3</td>\n",
              "      <td>4</td>\n",
              "      <td>2</td>\n",
              "      <td>1</td>\n",
              "      <td>1</td>\n",
              "      <td>1</td>\n",
              "      <td>3</td>\n",
              "      <td>1</td>\n",
              "      <td>1</td>\n",
              "      <td>2</td>\n",
              "      <td>2</td>\n",
              "      <td>1</td>\n",
              "      <td>1</td>\n",
              "      <td>5</td>\n",
              "      <td>2</td>\n",
              "      <td>3</td>\n",
              "      <td>3</td>\n",
              "      <td>5</td>\n",
              "      <td>4</td>\n",
              "      <td>3</td>\n",
              "      <td>2</td>\n",
              "      <td>2</td>\n",
              "      <td>1</td>\n",
              "      <td>3</td>\n",
              "      <td>...</td>\n",
              "      <td>1</td>\n",
              "      <td>1</td>\n",
              "      <td>1</td>\n",
              "      <td>1</td>\n",
              "      <td>1</td>\n",
              "      <td>1</td>\n",
              "      <td>5</td>\n",
              "      <td>100.0</td>\n",
              "      <td>1</td>\n",
              "      <td>1</td>\n",
              "      <td>1.0</td>\n",
              "      <td>2</td>\n",
              "      <td>1.0</td>\n",
              "      <td>2</td>\n",
              "      <td>1.0</td>\n",
              "      <td>2</td>\n",
              "      <td>1.0</td>\n",
              "      <td>2</td>\n",
              "      <td>2</td>\n",
              "      <td>3.0</td>\n",
              "      <td>2.0</td>\n",
              "      <td>1.0</td>\n",
              "      <td>58.0</td>\n",
              "      <td>2.0</td>\n",
              "      <td>1.0</td>\n",
              "      <td>1</td>\n",
              "      <td>6</td>\n",
              "      <td>1</td>\n",
              "      <td>45.0</td>\n",
              "      <td>6200</td>\n",
              "      <td>2500</td>\n",
              "      <td>0</td>\n",
              "      <td>제품 고급 화로 생산 일자리 그대로 유지 통제프로그램 공고졸업</td>\n",
              "      <td>1.0</td>\n",
              "      <td>4.0</td>\n",
              "      <td>5</td>\n",
              "      <td>0</td>\n",
              "      <td>0</td>\n",
              "      <td>0</td>\n",
              "      <td>0</td>\n",
              "    </tr>\n",
              "  </tbody>\n",
              "</table>\n",
              "<p>7257 rows × 123 columns</p>\n",
              "</div>\n",
              "      <button class=\"colab-df-convert\" onclick=\"convertToInteractive('df-87e3dd98-c77d-41da-a560-4920b0039c2d')\"\n",
              "              title=\"Convert this dataframe to an interactive table.\"\n",
              "              style=\"display:none;\">\n",
              "        \n",
              "  <svg xmlns=\"http://www.w3.org/2000/svg\" height=\"24px\"viewBox=\"0 0 24 24\"\n",
              "       width=\"24px\">\n",
              "    <path d=\"M0 0h24v24H0V0z\" fill=\"none\"/>\n",
              "    <path d=\"M18.56 5.44l.94 2.06.94-2.06 2.06-.94-2.06-.94-.94-2.06-.94 2.06-2.06.94zm-11 1L8.5 8.5l.94-2.06 2.06-.94-2.06-.94L8.5 2.5l-.94 2.06-2.06.94zm10 10l.94 2.06.94-2.06 2.06-.94-2.06-.94-.94-2.06-.94 2.06-2.06.94z\"/><path d=\"M17.41 7.96l-1.37-1.37c-.4-.4-.92-.59-1.43-.59-.52 0-1.04.2-1.43.59L10.3 9.45l-7.72 7.72c-.78.78-.78 2.05 0 2.83L4 21.41c.39.39.9.59 1.41.59.51 0 1.02-.2 1.41-.59l7.78-7.78 2.81-2.81c.8-.78.8-2.07 0-2.86zM5.41 20L4 18.59l7.72-7.72 1.47 1.35L5.41 20z\"/>\n",
              "  </svg>\n",
              "      </button>\n",
              "      \n",
              "  <style>\n",
              "    .colab-df-container {\n",
              "      display:flex;\n",
              "      flex-wrap:wrap;\n",
              "      gap: 12px;\n",
              "    }\n",
              "\n",
              "    .colab-df-convert {\n",
              "      background-color: #E8F0FE;\n",
              "      border: none;\n",
              "      border-radius: 50%;\n",
              "      cursor: pointer;\n",
              "      display: none;\n",
              "      fill: #1967D2;\n",
              "      height: 32px;\n",
              "      padding: 0 0 0 0;\n",
              "      width: 32px;\n",
              "    }\n",
              "\n",
              "    .colab-df-convert:hover {\n",
              "      background-color: #E2EBFA;\n",
              "      box-shadow: 0px 1px 2px rgba(60, 64, 67, 0.3), 0px 1px 3px 1px rgba(60, 64, 67, 0.15);\n",
              "      fill: #174EA6;\n",
              "    }\n",
              "\n",
              "    [theme=dark] .colab-df-convert {\n",
              "      background-color: #3B4455;\n",
              "      fill: #D2E3FC;\n",
              "    }\n",
              "\n",
              "    [theme=dark] .colab-df-convert:hover {\n",
              "      background-color: #434B5C;\n",
              "      box-shadow: 0px 1px 3px 1px rgba(0, 0, 0, 0.15);\n",
              "      filter: drop-shadow(0px 1px 2px rgba(0, 0, 0, 0.3));\n",
              "      fill: #FFFFFF;\n",
              "    }\n",
              "  </style>\n",
              "\n",
              "      <script>\n",
              "        const buttonEl =\n",
              "          document.querySelector('#df-87e3dd98-c77d-41da-a560-4920b0039c2d button.colab-df-convert');\n",
              "        buttonEl.style.display =\n",
              "          google.colab.kernel.accessAllowed ? 'block' : 'none';\n",
              "\n",
              "        async function convertToInteractive(key) {\n",
              "          const element = document.querySelector('#df-87e3dd98-c77d-41da-a560-4920b0039c2d');\n",
              "          const dataTable =\n",
              "            await google.colab.kernel.invokeFunction('convertToInteractive',\n",
              "                                                     [key], {});\n",
              "          if (!dataTable) return;\n",
              "\n",
              "          const docLinkHtml = 'Like what you see? Visit the ' +\n",
              "            '<a target=\"_blank\" href=https://colab.research.google.com/notebooks/data_table.ipynb>data table notebook</a>'\n",
              "            + ' to learn more about interactive tables.';\n",
              "          element.innerHTML = '';\n",
              "          dataTable['output_type'] = 'display_data';\n",
              "          await google.colab.output.renderOutput(dataTable, element);\n",
              "          const docLink = document.createElement('div');\n",
              "          docLink.innerHTML = docLinkHtml;\n",
              "          element.appendChild(docLink);\n",
              "        }\n",
              "      </script>\n",
              "    </div>\n",
              "  </div>\n",
              "  "
            ],
            "text/plain": [
              "      cq1  cq2  cq3  cq4  ...  bq6_mark  bq12_2_mark  bq12_3_mark  bq12_4_mark\n",
              "3767    2    1    1    1  ...         0            0            0            0\n",
              "7173    4    1    5    5  ...         0            0            0            0\n",
              "4299    5    2    5    5  ...         0            0            0            0\n",
              "7443    5    4    5    3  ...         0            0            0            0\n",
              "1643    5    4    3    4  ...         0            0            0            0\n",
              "...   ...  ...  ...  ...  ...       ...          ...          ...          ...\n",
              "5734    5    3    5    2  ...         0            0            0            0\n",
              "5191    5    1    4    4  ...         0            0            0            0\n",
              "5390    5    3    3    3  ...         0            0            0            0\n",
              "860     4    3    5    4  ...         0            0            0            0\n",
              "7270    3    1    2    1  ...         0            0            0            0\n",
              "\n",
              "[7257 rows x 123 columns]"
            ]
          },
          "metadata": {},
          "execution_count": 6
        }
      ],
      "source": [
        "X_train"
      ]
    },
    {
      "cell_type": "markdown",
      "metadata": {
        "id": "cqdbMZ9jXTQe"
      },
      "source": [
        "# FastText"
      ]
    },
    {
      "cell_type": "code",
      "execution_count": 7,
      "metadata": {
        "id": "nT2C3CTiWQ4C"
      },
      "outputs": [],
      "source": [
        "from gensim.models import FastText"
      ]
    },
    {
      "cell_type": "code",
      "execution_count": 8,
      "metadata": {
        "colab": {
          "base_uri": "https://localhost:8080/"
        },
        "id": "YmZ3rMV3XRRO",
        "outputId": "39294dcc-d12c-4a1b-f959-426c48128e43"
      },
      "outputs": [
        {
          "output_type": "execute_result",
          "data": {
            "text/plain": [
              "35235"
            ]
          },
          "metadata": {},
          "execution_count": 8
        }
      ],
      "source": [
        "# build corpus\n",
        "corpus = []\n",
        "\n",
        "for i in range(4):\n",
        "    for sen in know_train[i]['text_response']:\n",
        "        corpus.append(sen.split())\n",
        "\n",
        "len(corpus)"
      ]
    },
    {
      "cell_type": "code",
      "execution_count": 9,
      "metadata": {
        "colab": {
          "base_uri": "https://localhost:8080/"
        },
        "id": "TLZavfYyXgie",
        "outputId": "5da2bdf0-820c-4948-8930-ff2eb8cfc812"
      },
      "outputs": [
        {
          "output_type": "execute_result",
          "data": {
            "text/plain": [
              "[['자동차도장기능사', '실무교육', '생산', '설비', '자동화', '건설현장', '노무직', '실업'],\n",
              " ['건축전기설비기술사', '건설', '수주', '드라이버', '가위', '건축공학'],\n",
              " ['건축전기설비기술사', '신축', '건설', '경기', '건축', '설계', '오토캐드', '파이프', '보일러', '건축공학'],\n",
              " ['지적기사',\n",
              "  '측량',\n",
              "  '정보통신기술',\n",
              "  '교육',\n",
              "  '무량',\n",
              "  '감소',\n",
              "  '자동화',\n",
              "  '토탈',\n",
              "  '스테이션',\n",
              "  '지적기사',\n",
              "  '무',\n",
              "  '지적공무원',\n",
              "  '환경학과'],\n",
              " ['건축전기설비기술사',\n",
              "  '부동산',\n",
              "  '거품',\n",
              "  '건축',\n",
              "  '경기도',\n",
              "  '덩달아',\n",
              "  '불황',\n",
              "  '캐드',\n",
              "  '엑셀',\n",
              "  '건축',\n",
              "  '도면',\n",
              "  '건축공학'],\n",
              " ['다양한', '업무파악', '전문', '직업', '볼펜', '안내원', '경제학'],\n",
              " ['자유로운', '근무조건', '근무', '컴퓨터', '볼펜', '안내원', '컴퓨터학'],\n",
              " ['도장기능사', '자동화', '퍼티', '프라이머', '페이스', '스틱', '프라이머', '학생(없다)', '자동화'],\n",
              " ['항공교통관제사',\n",
              "  '항공교통관제관련교육',\n",
              "  '인공',\n",
              "  '지능',\n",
              "  '자동화',\n",
              "  '관제',\n",
              "  '관련',\n",
              "  '시스템',\n",
              "  '관제사',\n",
              "  '관제사(동일함)',\n",
              "  '운항관리사',\n",
              "  '전자공학'],\n",
              " ['충전시설관리',\n",
              "  '위험관리사',\n",
              "  '현장적응기간',\n",
              "  '위험물취급메뉴얼숙지',\n",
              "  '가스',\n",
              "  '사용',\n",
              "  '가스',\n",
              "  '충전기',\n",
              "  '위험',\n",
              "  '취급',\n",
              "  '메뉴얼',\n",
              "  '측정기',\n",
              "  '가스안전관리사',\n",
              "  '상고']]"
            ]
          },
          "metadata": {},
          "execution_count": 9
        }
      ],
      "source": [
        "corpus[:10]"
      ]
    },
    {
      "cell_type": "code",
      "execution_count": 10,
      "metadata": {
        "id": "vIYfu3UaXyxv"
      },
      "outputs": [],
      "source": [
        "# ref: https://radimrehurek.com/gensim/auto_examples/tutorials/run_fasttext.html#sphx-glr-auto-examples-tutorials-run-fasttext-py\n",
        "\n",
        "word_dim = 100\n",
        "ftmodel = FastText(size=word_dim, window=5)\n",
        "ftmodel.build_vocab(sentences = corpus)\n",
        "ftmodel.train(\n",
        "    sentences = corpus, epochs=ftmodel.epochs,\n",
        "    total_examples=ftmodel.corpus_count, total_words=ftmodel.corpus_total_words\n",
        ")"
      ]
    },
    {
      "cell_type": "code",
      "execution_count": 11,
      "metadata": {
        "colab": {
          "base_uri": "https://localhost:8080/"
        },
        "id": "kUZX-7vQZQom",
        "outputId": "6948f2a1-fbb7-4a6f-aeda-10092800b181"
      },
      "outputs": [
        {
          "output_type": "execute_result",
          "data": {
            "text/plain": [
              "(6568, 100)"
            ]
          },
          "metadata": {},
          "execution_count": 11
        }
      ],
      "source": [
        "ftmodel.wv.vectors.shape"
      ]
    },
    {
      "cell_type": "markdown",
      "metadata": {
        "id": "VdVnMzRWaIpE"
      },
      "source": [
        "### vector 테스트"
      ]
    },
    {
      "cell_type": "code",
      "execution_count": 12,
      "metadata": {
        "colab": {
          "base_uri": "https://localhost:8080/"
        },
        "id": "-bBa0gI5ZfgQ",
        "outputId": "1666d982-30e3-43d1-f3b6-941c835e4de4"
      },
      "outputs": [
        {
          "output_type": "execute_result",
          "data": {
            "text/plain": [
              "[('건축가', 0.990045964717865),\n",
              " ('적산', 0.9895913600921631),\n",
              " ('건축사', 0.9876577258110046),\n",
              " ('건축업', 0.9864990711212158),\n",
              " ('건축과', 0.9820106625556946),\n",
              " ('건축감리', 0.9758541584014893),\n",
              " ('건설', 0.9728983640670776),\n",
              " ('건축학', 0.9726564884185791),\n",
              " ('건축시공', 0.9717460870742798),\n",
              " ('건설업', 0.9711028337478638)]"
            ]
          },
          "metadata": {},
          "execution_count": 12
        }
      ],
      "source": [
        "ftmodel.wv.most_similar('건축', topn=10)"
      ]
    },
    {
      "cell_type": "code",
      "execution_count": 13,
      "metadata": {
        "colab": {
          "base_uri": "https://localhost:8080/"
        },
        "id": "xdq_ldhxZrxD",
        "outputId": "823c47aa-fbc4-4a33-cb08-43cea6425231"
      },
      "outputs": [
        {
          "output_type": "execute_result",
          "data": {
            "text/plain": [
              "[('건설안전기사', 0.9902368783950806),\n",
              " ('건설기사', 0.9830215573310852),\n",
              " ('건설재료시험기사', 0.9822162985801697),\n",
              " ('건설기계기사', 0.9808768033981323),\n",
              " ('건설재료시험기능사', 0.977867603302002),\n",
              " ('건설안전교육', 0.9758096933364868),\n",
              " ('건설안전산업기사', 0.9757586717605591),\n",
              " ('방수기능사', 0.9753754138946533),\n",
              " ('건설기계산업기사', 0.9753507375717163),\n",
              " ('건설기계정비', 0.9739174842834473)]"
            ]
          },
          "metadata": {},
          "execution_count": 13
        }
      ],
      "source": [
        "ftmodel.wv.most_similar('현장', topn=10)"
      ]
    },
    {
      "cell_type": "code",
      "execution_count": 14,
      "metadata": {
        "colab": {
          "base_uri": "https://localhost:8080/"
        },
        "id": "Dz-rae02ZvXi",
        "outputId": "a44532ab-59f5-413a-97ae-407ecda662e1"
      },
      "outputs": [
        {
          "output_type": "execute_result",
          "data": {
            "text/plain": [
              "[('디자인툴', 0.9956627488136292),\n",
              " ('디자인과', 0.9786601066589355),\n",
              " ('웹디자인', 0.9709925651550293),\n",
              " ('색채디자인', 0.9662381410598755),\n",
              " ('공간디자인', 0.963592529296875),\n",
              " ('디자이너', 0.963380753993988),\n",
              " ('시각정보디자인', 0.9615670442581177),\n",
              " ('디자이너,', 0.9605123996734619),\n",
              " ('인디자인', 0.9598280787467957),\n",
              " ('편집디자인', 0.9594100713729858)]"
            ]
          },
          "metadata": {},
          "execution_count": 14
        }
      ],
      "source": [
        "ftmodel.wv.most_similar('디자인', topn=10)"
      ]
    },
    {
      "cell_type": "code",
      "execution_count": 15,
      "metadata": {
        "colab": {
          "base_uri": "https://localhost:8080/"
        },
        "id": "h3TiW2UzZ96P",
        "outputId": "7a6a04ca-3a7a-4d7c-ed32-3dee169f2b52"
      },
      "outputs": [
        {
          "output_type": "execute_result",
          "data": {
            "text/plain": [
              "[('컴퓨터를', 0.9724100232124329),\n",
              " ('컴퓨터과', 0.970283031463623),\n",
              " ('행정학', 0.9671379327774048),\n",
              " ('컴퓨터에', 0.9671002626419067),\n",
              " ('경제학', 0.9600736498832703),\n",
              " ('PC', 0.9584741592407227),\n",
              " ('컴퓨터활용', 0.9558449983596802),\n",
              " ('컴퓨터정보과', 0.9530075788497925),\n",
              " ('경영학과', 0.9520825147628784),\n",
              " ('컴퓨터과학', 0.9511910080909729)]"
            ]
          },
          "metadata": {},
          "execution_count": 15
        }
      ],
      "source": [
        "ftmodel.wv.most_similar('컴퓨터', topn=10)"
      ]
    },
    {
      "cell_type": "markdown",
      "metadata": {
        "id": "KTRuSWZoaNim"
      },
      "source": [
        "# Deep Modeling"
      ]
    },
    {
      "cell_type": "code",
      "execution_count": 16,
      "metadata": {
        "id": "7K4wefM8a6qG"
      },
      "outputs": [],
      "source": [
        "def sen_to_seq(s_list): # s = ['ㅇㅣ_ㅎㅛ_ㅂㅐ_', 'ㅂㅏ_ㅂㅗ_']\n",
        "    seq = list()\n",
        "    for s in s_list:\n",
        "        try:\n",
        "            seq_value = ftmodel.wv.index2word.index(s)+1\n",
        "        except:\n",
        "            seq_value = 0 # 없으면 0\n",
        "        seq.append(seq_value)\n",
        "    return seq"
      ]
    },
    {
      "cell_type": "code",
      "execution_count": 17,
      "metadata": {
        "colab": {
          "base_uri": "https://localhost:8080/"
        },
        "id": "H7nbkD5VbCZZ",
        "outputId": "664489c1-6f8b-4aef-dde6-a8fb6549c962"
      },
      "outputs": [
        {
          "output_type": "execute_result",
          "data": {
            "text/plain": [
              "['자동차도장기능사', '실무교육', '생산', '설비', '자동화', '건설현장', '노무직', '실업']"
            ]
          },
          "metadata": {},
          "execution_count": 17
        }
      ],
      "source": [
        "know_train[0]['text_response'].iloc[0].split()"
      ]
    },
    {
      "cell_type": "code",
      "execution_count": 18,
      "metadata": {
        "colab": {
          "base_uri": "https://localhost:8080/"
        },
        "id": "RHZIYrV1a6Z8",
        "outputId": "0dad7094-b04c-492e-a6cf-e2c76f1c8494"
      },
      "outputs": [
        {
          "output_type": "execute_result",
          "data": {
            "text/plain": [
              "[0, 96, 75, 85, 6, 1855, 2808, 669]"
            ]
          },
          "metadata": {},
          "execution_count": 18
        }
      ],
      "source": [
        "sen_to_seq(know_train[0]['text_response'].iloc[0].split())"
      ]
    },
    {
      "cell_type": "code",
      "execution_count": 19,
      "metadata": {
        "colab": {
          "base_uri": "https://localhost:8080/"
        },
        "id": "SA9t8hoGbdyA",
        "outputId": "6a97b2a1-625b-401b-8b11-668777a5fcd7"
      },
      "outputs": [
        {
          "output_type": "execute_result",
          "data": {
            "text/plain": [
              "(8, 100)"
            ]
          },
          "metadata": {},
          "execution_count": 19
        }
      ],
      "source": [
        "ftmodel.wv[know_train[0]['text_response'].iloc[0].split()].shape"
      ]
    },
    {
      "cell_type": "code",
      "execution_count": 20,
      "metadata": {
        "colab": {
          "base_uri": "https://localhost:8080/",
          "height": 304
        },
        "id": "luvZkgP4bn2A",
        "outputId": "7889c761-7144-4554-b82a-14aac0a2c78b"
      },
      "outputs": [
        {
          "output_type": "stream",
          "name": "stdout",
          "text": [
            "max: 51\n",
            "mean: 10.626923887834703\n"
          ]
        },
        {
          "output_type": "display_data",
          "data": {
            "image/png": "[encoded data removed]",
            "text/plain": [
              "<Figure size 432x288 with 1 Axes>"
            ]
          },
          "metadata": {
            "needs_background": "light"
          }
        }
      ],
      "source": [
        "# setting max_len\n",
        "# 1. first chekc distribution of sentences\n",
        "\n",
        "len_distribution = [len(l.split()) for l in know_train[0]['text_response']]\n",
        "\n",
        "print(f\"max: {max(len_distribution)}\")\n",
        "print(f\"mean: {np.mean(len_distribution)}\")\n",
        "plt.hist(len_distribution, bins = np.arange(0,55,1))\n",
        "plt.show()"
      ]
    },
    {
      "cell_type": "code",
      "execution_count": 21,
      "metadata": {
        "id": "QN8MAeKAb-Kq"
      },
      "outputs": [],
      "source": [
        "vocab_size = len(ftmodel.wv.vectors) + 1\n",
        "max_len = 20\n",
        "\n",
        "def seq_padding(seq, max_len):\n",
        "    if len(seq) < max_len:\n",
        "        n = max_len - len(seq)\n",
        "        zero_list = [0] * n\n",
        "        seq += zero_list\n",
        "    elif len(seq) > max_len:\n",
        "        seq = seq[:max_len] \n",
        "    \n",
        "    return seq   "
      ]
    },
    {
      "cell_type": "code",
      "execution_count": 22,
      "metadata": {
        "colab": {
          "base_uri": "https://localhost:8080/"
        },
        "id": "4X73LTB9cwNl",
        "outputId": "2e76de83-d85e-4838-f990-a9f46736f574"
      },
      "outputs": [
        {
          "output_type": "execute_result",
          "data": {
            "text/plain": [
              "(6569, 100)"
            ]
          },
          "metadata": {},
          "execution_count": 22
        }
      ],
      "source": [
        "embedding_matrix = np.zeros((ftmodel.wv.vectors.shape[0]+1, ftmodel.wv.vectors.shape[1]))\n",
        "for i in range(len(ftmodel.wv.vectors)):\n",
        "    embedding_matrix[i+1] = ftmodel.wv.vectors[i]\n",
        "\n",
        "np.shape(embedding_matrix)"
      ]
    },
    {
      "cell_type": "code",
      "execution_count": 23,
      "metadata": {
        "colab": {
          "base_uri": "https://localhost:8080/"
        },
        "id": "MYUJpqvvdXMn",
        "outputId": "cc11e3e2-5ef4-41a6-a59a-1a52c02ecb83"
      },
      "outputs": [
        {
          "output_type": "stream",
          "name": "stdout",
          "text": [
            "(7257, 20)\n",
            "(1815, 20)\n"
          ]
        }
      ],
      "source": [
        "X1_train = np.array(X_train['text_response'].apply(lambda sen : seq_padding(sen_to_seq(sen.split()), max_len)).to_list())\n",
        "X1_val = np.array(X_val['text_response'].apply(lambda sen : seq_padding(sen_to_seq(sen.split()), max_len)).to_list())\n",
        "\n",
        "print(X1_train.shape)\n",
        "print(X1_val.shape)"
      ]
    },
    {
      "cell_type": "code",
      "execution_count": 24,
      "metadata": {
        "colab": {
          "base_uri": "https://localhost:8080/"
        },
        "id": "-zgoYRjQe9Q6",
        "outputId": "606594b6-adf1-4512-ddce-a08ffb992bf2"
      },
      "outputs": [
        {
          "output_type": "stream",
          "name": "stdout",
          "text": [
            "(7257, 122)\n",
            "(1815, 122)\n"
          ]
        }
      ],
      "source": [
        "X2_train = X_train[X_train.columns.difference(['text_response'])].values\n",
        "X2_val = X_val[X_val.columns.difference(['text_response'])].values\n",
        "\n",
        "num_col_len = X2_train.shape[1]\n",
        "print(X2_train.shape)\n",
        "print(X2_val.shape)"
      ]
    },
    {
      "cell_type": "markdown",
      "source": [
        "### Oversample"
      ],
      "metadata": {
        "id": "dPET9ym2Etww"
      }
    },
    {
      "cell_type": "code",
      "source": [
        "X1_train"
      ],
      "metadata": {
        "colab": {
          "base_uri": "https://localhost:8080/"
        },
        "id": "mLBT_ot7EthY",
        "outputId": "db14311f-992d-4c9a-a5fa-b0bd4498d3ae"
      },
      "execution_count": 25,
      "outputs": [
        {
          "output_type": "execute_result",
          "data": {
            "text/plain": [
              "array([[  14,  123,    0, ...,    0,    0,    0],\n",
              "       [   0,    0,    0, ...,    0,    0,    0],\n",
              "       [2639, 2171, 2756, ...,    0,    0,    0],\n",
              "       ...,\n",
              "       [  97,  112,   19, ...,    0,    0,    0],\n",
              "       [   0,    0,  143, ...,    0,    0,    0],\n",
              "       [  86, 1253,  159, ...,    0,    0,    0]])"
            ]
          },
          "metadata": {},
          "execution_count": 25
        }
      ]
    },
    {
      "cell_type": "code",
      "source": [
        "class_dist = y_train.sum(axis=0).tolist()\n",
        "\n",
        "print(len(y_train))\n",
        "plt.plot(class_dist)\n",
        "plt.show()"
      ],
      "metadata": {
        "colab": {
          "base_uri": "https://localhost:8080/",
          "height": 282
        },
        "id": "cuX2ylhqF1_O",
        "outputId": "5a1d24ee-2578-4e6d-c5f4-49b8c354c40a"
      },
      "execution_count": 36,
      "outputs": [
        {
          "output_type": "stream",
          "name": "stdout",
          "text": [
            "7257\n"
          ]
        },
        {
          "output_type": "display_data",
          "data": {
            "image/png": "[encoded data removed]",
            "text/plain": [
              "<Figure size 432x288 with 1 Axes>"
            ]
          },
          "metadata": {
            "needs_background": "light"
          }
        }
      ]
    },
    {
      "cell_type": "code",
      "source": [
        "ids = np.arange(len(y_train))\n",
        "np.random.seed(RANDOM_STATE)\n",
        "\n",
        "choices = np.random.choice(ids, int(1.5 * len(y_train)))\n",
        "\n",
        "X1_train_resampled = X1_train[choices]\n",
        "X2_train_resampled = X2_train[choices]\n",
        "y_train_resampled = y_train[choices]\n",
        "print(X1_train_resampled.shape)\n",
        "print(X1_train_resampled.shape)\n",
        "print(X1_train_resampled.shape)"
      ],
      "metadata": {
        "colab": {
          "base_uri": "https://localhost:8080/"
        },
        "id": "cSoOi-NKGYe0",
        "outputId": "59a06647-d2ae-4ba6-9cbd-6588712f3570"
      },
      "execution_count": 47,
      "outputs": [
        {
          "output_type": "stream",
          "name": "stdout",
          "text": [
            "(10885, 20)\n",
            "(10885, 20)\n",
            "(10885, 20)\n"
          ]
        }
      ]
    },
    {
      "cell_type": "code",
      "source": [
        "class_dist = y_train_resampled.sum(axis=0).tolist()\n",
        "\n",
        "print(len(y_train_resampled))\n",
        "plt.plot(class_dist)\n",
        "plt.show()"
      ],
      "metadata": {
        "colab": {
          "base_uri": "https://localhost:8080/",
          "height": 282
        },
        "id": "gzQ6Ep_wHae5",
        "outputId": "cc1e1646-ba34-4d6e-c31b-c8e9f13e3a8c"
      },
      "execution_count": 48,
      "outputs": [
        {
          "output_type": "stream",
          "name": "stdout",
          "text": [
            "10885\n"
          ]
        },
        {
          "output_type": "display_data",
          "data": {
            "image/png": "[encoded data removed]",
            "text/plain": [
              "<Figure size 432x288 with 1 Axes>"
            ]
          },
          "metadata": {
            "needs_background": "light"
          }
        }
      ]
    },
    {
      "cell_type": "markdown",
      "source": [
        "### Build Model"
      ],
      "metadata": {
        "id": "ULyDv95mEi4W"
      }
    },
    {
      "cell_type": "code",
      "execution_count": 49,
      "metadata": {
        "colab": {
          "base_uri": "https://localhost:8080/"
        },
        "id": "_Hu2phYsaMrr",
        "outputId": "744c4139-acda-4bdc-c91e-15d07135e7ef"
      },
      "outputs": [
        {
          "output_type": "stream",
          "name": "stdout",
          "text": [
            "Found GPU at: /device:GPU:0\n"
          ]
        }
      ],
      "source": [
        "import tensorflow as tf\n",
        "tf.random.set_seed(RANDOM_STATE)\n",
        "\n",
        "# GPU를 사용해서 학습해봐요\n",
        "%tensorflow_version 2.x\n",
        "device_name = tf.test.gpu_device_name()\n",
        "if device_name != '/device:GPU:0':\n",
        "  raise SystemError('GPU device not found')\n",
        "print('Found GPU at: {}'.format(device_name))"
      ]
    },
    {
      "cell_type": "code",
      "execution_count": 50,
      "metadata": {
        "id": "68-MZ74Hanpl"
      },
      "outputs": [],
      "source": [
        "# 두가지 input을 받는 모델입니다\n",
        "input_1 = Input(shape=(max_len,))    # X1 변수가 이리로 들어가야 합니다. 때문에 칼럼을 maxlen으로 맞춰줍니다\n",
        "input_2 = Input(shape=(num_col_len,)) # X2 변수가 이리로 들어가야 합니다. 때문에 칼럼을 num_col_len 맞춰줍니다"
      ]
    },
    {
      "cell_type": "code",
      "execution_count": 51,
      "metadata": {
        "colab": {
          "base_uri": "https://localhost:8080/"
        },
        "id": "EorcuC55futl",
        "outputId": "744c4395-9554-4d60-f310-cc27984221b6"
      },
      "outputs": [
        {
          "output_type": "stream",
          "name": "stdout",
          "text": [
            "Model: \"model\"\n",
            "__________________________________________________________________________________________________\n",
            " Layer (type)                   Output Shape         Param #     Connected to                     \n",
            "==================================================================================================\n",
            " input_1 (InputLayer)           [(None, 20)]         0           []                               \n",
            "                                                                                                  \n",
            " embedding (Embedding)          (None, 20, 100)      656900      ['input_1[0][0]']                \n",
            "                                                                                                  \n",
            " conv1d (Conv1D)                (None, 20, 32)       9632        ['embedding[0][0]']              \n",
            "                                                                                                  \n",
            " re_lu (ReLU)                   (None, 20, 32)       0           ['conv1d[0][0]']                 \n",
            "                                                                                                  \n",
            " max_pooling1d (MaxPooling1D)   (None, 1, 32)        0           ['re_lu[0][0]']                  \n",
            "                                                                                                  \n",
            " batch_normalization (BatchNorm  (None, 1, 32)       128         ['max_pooling1d[0][0]']          \n",
            " alization)                                                                                       \n",
            "                                                                                                  \n",
            " flatten (Flatten)              (None, 32)           0           ['batch_normalization[0][0]']    \n",
            "                                                                                                  \n",
            " dropout (Dropout)              (None, 32)           0           ['flatten[0][0]']                \n",
            "                                                                                                  \n",
            " input_2 (InputLayer)           [(None, 122)]        0           []                               \n",
            "                                                                                                  \n",
            " concatenate (Concatenate)      (None, 154)          0           ['dropout[0][0]',                \n",
            "                                                                  'input_2[0][0]']                \n",
            "                                                                                                  \n",
            " dense (Dense)                  (None, 576)          89280       ['concatenate[0][0]']            \n",
            "                                                                                                  \n",
            "==================================================================================================\n",
            "Total params: 755,940\n",
            "Trainable params: 98,976\n",
            "Non-trainable params: 656,964\n",
            "__________________________________________________________________________________________________\n"
          ]
        }
      ],
      "source": [
        "# Text Dense\n",
        "embedding_layer = Embedding(vocab_size, word_dim, weights=[embedding_matrix], trainable=False)(input_1)\n",
        "Conv_layer = ReLU()(Conv1D(filters=32, kernel_size=3, padding='same')(embedding_layer))\n",
        "Pooled = MaxPool1D(Conv_layer.shape[1])(Conv_layer)\n",
        "batch_layer = BatchNormalization()(Pooled)\n",
        "Flattened = Flatten()(batch_layer)\n",
        "DropOut = Dropout(0.5)(Flattened)\n",
        "# Numeric Dens\n",
        "# dense_layer_1 = Dense(16, activation='relu')(input_2)\n",
        "# dropout = Dropout(0.5)(dense_layer_1)\n",
        "\n",
        "concat_layer = Concatenate()([DropOut, input_2])\n",
        "output = Dense(len_output, activation='softmax')(concat_layer)\n",
        "\n",
        "# model 만들기\n",
        "model = Model(inputs=[input_1, input_2], outputs=output)\n",
        "model.compile(loss='categorical_crossentropy', optimizer='adam', metrics=['acc'])\n",
        "model.summary()"
      ]
    },
    {
      "cell_type": "code",
      "execution_count": 52,
      "metadata": {
        "colab": {
          "base_uri": "https://localhost:8080/",
          "height": 1000
        },
        "id": "_bwwjoEVhVHK",
        "outputId": "16806073-a90e-415f-9235-c54d3d2bbf99"
      },
      "outputs": [
        {
          "output_type": "execute_result",
          "data": {
            "image/png": "[encoded data removed]",
            "text/plain": [
              "<IPython.core.display.Image object>"
            ]
          },
          "metadata": {},
          "execution_count": 52
        }
      ],
      "source": [
        "from keras.utils.vis_utils import plot_model\n",
        "plot_model(model, show_shapes=True)"
      ]
    },
    {
      "cell_type": "code",
      "execution_count": 53,
      "metadata": {
        "colab": {
          "base_uri": "https://localhost:8080/"
        },
        "id": "74SvqayVhUQe",
        "outputId": "2ed6f835-49e7-47f4-9f55-6d14b2602206"
      },
      "outputs": [
        {
          "output_type": "stream",
          "name": "stdout",
          "text": [
            "Epoch 1/200\n",
            "681/681 [==============================] - 19s 12ms/step - loss: 151.2374 - acc: 0.0056 - val_loss: 66.2927 - val_acc: 0.0072\n",
            "Epoch 2/200\n",
            "681/681 [==============================] - 8s 12ms/step - loss: 46.6183 - acc: 0.0164 - val_loss: 51.3371 - val_acc: 0.0088\n",
            "Epoch 3/200\n",
            "681/681 [==============================] - 9s 13ms/step - loss: 34.3523 - acc: 0.0334 - val_loss: 42.9057 - val_acc: 0.0259\n",
            "Epoch 4/200\n",
            "681/681 [==============================] - 7s 10ms/step - loss: 28.7813 - acc: 0.0538 - val_loss: 39.6549 - val_acc: 0.0342\n",
            "Epoch 5/200\n",
            "681/681 [==============================] - 5s 7ms/step - loss: 25.5744 - acc: 0.0766 - val_loss: 35.8404 - val_acc: 0.0424\n",
            "Epoch 6/200\n",
            "681/681 [==============================] - 5s 7ms/step - loss: 23.7187 - acc: 0.0922 - val_loss: 35.7135 - val_acc: 0.0320\n",
            "Epoch 7/200\n",
            "681/681 [==============================] - 5s 7ms/step - loss: 23.2326 - acc: 0.1186 - val_loss: 31.2287 - val_acc: 0.0733\n",
            "Epoch 8/200\n",
            "681/681 [==============================] - 5s 7ms/step - loss: 21.7016 - acc: 0.1327 - val_loss: 35.7875 - val_acc: 0.0468\n",
            "Epoch 9/200\n",
            "681/681 [==============================] - 5s 7ms/step - loss: 21.4436 - acc: 0.1452 - val_loss: 29.9875 - val_acc: 0.0722\n",
            "Epoch 10/200\n",
            "681/681 [==============================] - 5s 7ms/step - loss: 20.5579 - acc: 0.1560 - val_loss: 32.9934 - val_acc: 0.0694\n",
            "Epoch 11/200\n",
            "681/681 [==============================] - 5s 7ms/step - loss: 20.9799 - acc: 0.1680 - val_loss: 30.4378 - val_acc: 0.0777\n",
            "Epoch 12/200\n",
            "681/681 [==============================] - 5s 8ms/step - loss: 20.6886 - acc: 0.1776 - val_loss: 32.1365 - val_acc: 0.0744\n",
            "Epoch 13/200\n",
            "681/681 [==============================] - 5s 7ms/step - loss: 20.4149 - acc: 0.1840 - val_loss: 33.1033 - val_acc: 0.0810\n",
            "Epoch 14/200\n",
            "681/681 [==============================] - 5s 7ms/step - loss: 19.9773 - acc: 0.1970 - val_loss: 30.2982 - val_acc: 0.0937\n",
            "Epoch 15/200\n",
            "681/681 [==============================] - 5s 7ms/step - loss: 19.5674 - acc: 0.2055 - val_loss: 31.9963 - val_acc: 0.1025\n",
            "Epoch 16/200\n",
            "681/681 [==============================] - 5s 7ms/step - loss: 19.6399 - acc: 0.2120 - val_loss: 30.3059 - val_acc: 0.0953\n",
            "Epoch 17/200\n",
            "681/681 [==============================] - 5s 7ms/step - loss: 19.3872 - acc: 0.2266 - val_loss: 36.1318 - val_acc: 0.0738\n",
            "Epoch 18/200\n",
            "681/681 [==============================] - 5s 7ms/step - loss: 19.2775 - acc: 0.2330 - val_loss: 34.5622 - val_acc: 0.0843\n",
            "Epoch 19/200\n",
            "681/681 [==============================] - 5s 7ms/step - loss: 19.2323 - acc: 0.2446 - val_loss: 31.5776 - val_acc: 0.1091\n",
            "Epoch 20/200\n",
            "681/681 [==============================] - 5s 7ms/step - loss: 18.3078 - acc: 0.2503 - val_loss: 31.0155 - val_acc: 0.1179\n",
            "Epoch 21/200\n",
            "681/681 [==============================] - 5s 7ms/step - loss: 18.7997 - acc: 0.2572 - val_loss: 31.9446 - val_acc: 0.1146\n",
            "Epoch 22/200\n",
            "681/681 [==============================] - 5s 7ms/step - loss: 18.5469 - acc: 0.2607 - val_loss: 36.6924 - val_acc: 0.0843\n",
            "Epoch 23/200\n",
            "681/681 [==============================] - 5s 7ms/step - loss: 18.8874 - acc: 0.2647 - val_loss: 34.5828 - val_acc: 0.0975\n",
            "Epoch 24/200\n",
            "681/681 [==============================] - 5s 7ms/step - loss: 18.2155 - acc: 0.2700 - val_loss: 32.6302 - val_acc: 0.1135\n",
            "Epoch 25/200\n",
            "681/681 [==============================] - 5s 7ms/step - loss: 18.0315 - acc: 0.2898 - val_loss: 31.5967 - val_acc: 0.1245\n",
            "Epoch 26/200\n",
            "681/681 [==============================] - 5s 7ms/step - loss: 18.0840 - acc: 0.2839 - val_loss: 37.3203 - val_acc: 0.1129\n",
            "Epoch 27/200\n",
            "681/681 [==============================] - 5s 7ms/step - loss: 17.9272 - acc: 0.2901 - val_loss: 33.3063 - val_acc: 0.1289\n",
            "Epoch 28/200\n",
            "681/681 [==============================] - 5s 7ms/step - loss: 17.4880 - acc: 0.3026 - val_loss: 32.9693 - val_acc: 0.1129\n",
            "Epoch 29/200\n",
            "681/681 [==============================] - 5s 7ms/step - loss: 17.5532 - acc: 0.3080 - val_loss: 33.7787 - val_acc: 0.1300\n",
            "Epoch 30/200\n",
            "681/681 [==============================] - 5s 7ms/step - loss: 17.8174 - acc: 0.3038 - val_loss: 33.5199 - val_acc: 0.1333\n",
            "Epoch 31/200\n",
            "681/681 [==============================] - 5s 7ms/step - loss: 17.1821 - acc: 0.3183 - val_loss: 35.1519 - val_acc: 0.1190\n",
            "Epoch 32/200\n",
            "681/681 [==============================] - 5s 8ms/step - loss: 17.1214 - acc: 0.3223 - val_loss: 35.1753 - val_acc: 0.1394\n",
            "Epoch 33/200\n",
            "681/681 [==============================] - 5s 7ms/step - loss: 16.6560 - acc: 0.3315 - val_loss: 32.6361 - val_acc: 0.1482\n",
            "Epoch 34/200\n",
            "681/681 [==============================] - 5s 7ms/step - loss: 16.5681 - acc: 0.3359 - val_loss: 35.9206 - val_acc: 0.1482\n",
            "Epoch 35/200\n",
            "681/681 [==============================] - 5s 7ms/step - loss: 16.6217 - acc: 0.3466 - val_loss: 35.3284 - val_acc: 0.1355\n",
            "Epoch 36/200\n",
            "681/681 [==============================] - 5s 8ms/step - loss: 16.7055 - acc: 0.3475 - val_loss: 34.0755 - val_acc: 0.1482\n",
            "Epoch 37/200\n",
            "681/681 [==============================] - 5s 7ms/step - loss: 16.5609 - acc: 0.3509 - val_loss: 33.9250 - val_acc: 0.1620\n",
            "Epoch 38/200\n",
            "681/681 [==============================] - 5s 8ms/step - loss: 16.8717 - acc: 0.3494 - val_loss: 35.1393 - val_acc: 0.1273\n",
            "Epoch 39/200\n",
            "681/681 [==============================] - 5s 7ms/step - loss: 16.6442 - acc: 0.3612 - val_loss: 37.9135 - val_acc: 0.1466\n",
            "Epoch 40/200\n",
            "681/681 [==============================] - 5s 7ms/step - loss: 16.4938 - acc: 0.3574 - val_loss: 35.4847 - val_acc: 0.1510\n",
            "Epoch 41/200\n",
            "681/681 [==============================] - 5s 7ms/step - loss: 15.0961 - acc: 0.3783 - val_loss: 38.6056 - val_acc: 0.1444\n",
            "Epoch 42/200\n",
            "681/681 [==============================] - 5s 7ms/step - loss: 16.0387 - acc: 0.3777 - val_loss: 37.3793 - val_acc: 0.1311\n",
            "Epoch 43/200\n",
            "681/681 [==============================] - 5s 7ms/step - loss: 16.0348 - acc: 0.3747 - val_loss: 32.9397 - val_acc: 0.1664\n",
            "Epoch 44/200\n",
            "681/681 [==============================] - 5s 7ms/step - loss: 15.5912 - acc: 0.3796 - val_loss: 37.5968 - val_acc: 0.1251\n",
            "Epoch 45/200\n",
            "681/681 [==============================] - 5s 7ms/step - loss: 15.6639 - acc: 0.3823 - val_loss: 37.3086 - val_acc: 0.1322\n",
            "Epoch 46/200\n",
            "681/681 [==============================] - 5s 8ms/step - loss: 15.9124 - acc: 0.3773 - val_loss: 37.1064 - val_acc: 0.1394\n",
            "Epoch 47/200\n",
            "681/681 [==============================] - 5s 8ms/step - loss: 15.7514 - acc: 0.3922 - val_loss: 36.9548 - val_acc: 0.1691\n",
            "Epoch 48/200\n",
            "681/681 [==============================] - 5s 7ms/step - loss: 15.2946 - acc: 0.3995 - val_loss: 36.2646 - val_acc: 0.1554\n",
            "Epoch 49/200\n",
            "681/681 [==============================] - 5s 7ms/step - loss: 15.3061 - acc: 0.4038 - val_loss: 37.1476 - val_acc: 0.1548\n",
            "Epoch 50/200\n",
            "681/681 [==============================] - 5s 8ms/step - loss: 15.0926 - acc: 0.4016 - val_loss: 35.6601 - val_acc: 0.1697\n",
            "Epoch 51/200\n",
            "681/681 [==============================] - 5s 7ms/step - loss: 14.5521 - acc: 0.4131 - val_loss: 37.2963 - val_acc: 0.1570\n",
            "Epoch 52/200\n",
            "681/681 [==============================] - 5s 7ms/step - loss: 14.4786 - acc: 0.4231 - val_loss: 34.4306 - val_acc: 0.1758\n",
            "Epoch 53/200\n",
            "681/681 [==============================] - 5s 7ms/step - loss: 15.1017 - acc: 0.4142 - val_loss: 36.5970 - val_acc: 0.1669\n",
            "Epoch 54/200\n",
            "681/681 [==============================] - 5s 8ms/step - loss: 14.2770 - acc: 0.4241 - val_loss: 38.3853 - val_acc: 0.1565\n",
            "Epoch 55/200\n",
            "681/681 [==============================] - 5s 7ms/step - loss: 14.6759 - acc: 0.4192 - val_loss: 37.5480 - val_acc: 0.1785\n",
            "Epoch 56/200\n",
            "681/681 [==============================] - 5s 7ms/step - loss: 14.7651 - acc: 0.4282 - val_loss: 37.9396 - val_acc: 0.1697\n",
            "Epoch 57/200\n",
            "681/681 [==============================] - 5s 7ms/step - loss: 14.5058 - acc: 0.4300 - val_loss: 37.5176 - val_acc: 0.1818\n",
            "Epoch 58/200\n",
            "681/681 [==============================] - 5s 7ms/step - loss: 14.1682 - acc: 0.4342 - val_loss: 38.9911 - val_acc: 0.1614\n",
            "Epoch 59/200\n",
            "681/681 [==============================] - 5s 7ms/step - loss: 14.3669 - acc: 0.4390 - val_loss: 41.8281 - val_acc: 0.1416\n",
            "Epoch 60/200\n",
            "681/681 [==============================] - 5s 8ms/step - loss: 14.8298 - acc: 0.4403 - val_loss: 39.1955 - val_acc: 0.1581\n",
            "Epoch 61/200\n",
            "681/681 [==============================] - 5s 7ms/step - loss: 14.4918 - acc: 0.4435 - val_loss: 36.5378 - val_acc: 0.1747\n",
            "Epoch 62/200\n",
            "681/681 [==============================] - 5s 8ms/step - loss: 13.8668 - acc: 0.4532 - val_loss: 37.6798 - val_acc: 0.1758\n",
            "Epoch 63/200\n",
            "681/681 [==============================] - 5s 7ms/step - loss: 13.9713 - acc: 0.4518 - val_loss: 36.2401 - val_acc: 0.1719\n",
            "Epoch 64/200\n",
            "681/681 [==============================] - 5s 7ms/step - loss: 13.5600 - acc: 0.4618 - val_loss: 39.9456 - val_acc: 0.1713\n",
            "Epoch 65/200\n",
            "681/681 [==============================] - 5s 8ms/step - loss: 13.8738 - acc: 0.4506 - val_loss: 40.4456 - val_acc: 0.1554\n",
            "Epoch 66/200\n",
            "681/681 [==============================] - 5s 7ms/step - loss: 13.9955 - acc: 0.4547 - val_loss: 38.8759 - val_acc: 0.1868\n",
            "Epoch 67/200\n",
            "681/681 [==============================] - 5s 7ms/step - loss: 13.6596 - acc: 0.4617 - val_loss: 37.8478 - val_acc: 0.1950\n",
            "Epoch 68/200\n",
            "681/681 [==============================] - 5s 7ms/step - loss: 13.7904 - acc: 0.4646 - val_loss: 40.4360 - val_acc: 0.1736\n",
            "Epoch 69/200\n",
            "681/681 [==============================] - 5s 7ms/step - loss: 13.6709 - acc: 0.4641 - val_loss: 39.7218 - val_acc: 0.1917\n",
            "Epoch 70/200\n",
            "681/681 [==============================] - 5s 7ms/step - loss: 13.5581 - acc: 0.4742 - val_loss: 38.2370 - val_acc: 0.1763\n",
            "Epoch 71/200\n",
            "681/681 [==============================] - 5s 7ms/step - loss: 13.5624 - acc: 0.4686 - val_loss: 40.1858 - val_acc: 0.1895\n",
            "Epoch 72/200\n",
            "681/681 [==============================] - 5s 7ms/step - loss: 13.5713 - acc: 0.4834 - val_loss: 39.8978 - val_acc: 0.1785\n",
            "Epoch 73/200\n",
            "681/681 [==============================] - 5s 7ms/step - loss: 13.4058 - acc: 0.4788 - val_loss: 39.7272 - val_acc: 0.1802\n",
            "Epoch 74/200\n",
            "681/681 [==============================] - 5s 7ms/step - loss: 13.1881 - acc: 0.4820 - val_loss: 37.5304 - val_acc: 0.1923\n",
            "Epoch 75/200\n",
            "681/681 [==============================] - 5s 7ms/step - loss: 13.0912 - acc: 0.4802 - val_loss: 41.1713 - val_acc: 0.1994\n",
            "Epoch 76/200\n",
            "681/681 [==============================] - 5s 7ms/step - loss: 13.0889 - acc: 0.4894 - val_loss: 38.8670 - val_acc: 0.1879\n",
            "Epoch 77/200\n",
            "681/681 [==============================] - 5s 7ms/step - loss: 13.0463 - acc: 0.4922 - val_loss: 38.9867 - val_acc: 0.1873\n",
            "Epoch 78/200\n",
            "681/681 [==============================] - 5s 7ms/step - loss: 12.8805 - acc: 0.4883 - val_loss: 37.6724 - val_acc: 0.2193\n",
            "Epoch 79/200\n",
            "681/681 [==============================] - 5s 7ms/step - loss: 12.7059 - acc: 0.4967 - val_loss: 41.5366 - val_acc: 0.1824\n",
            "Epoch 80/200\n",
            "681/681 [==============================] - 5s 7ms/step - loss: 12.7247 - acc: 0.5026 - val_loss: 42.2709 - val_acc: 0.1741\n",
            "Epoch 81/200\n",
            "681/681 [==============================] - 5s 7ms/step - loss: 13.1659 - acc: 0.4952 - val_loss: 39.7695 - val_acc: 0.1917\n",
            "Epoch 82/200\n",
            "681/681 [==============================] - 5s 7ms/step - loss: 12.7047 - acc: 0.4959 - val_loss: 39.2228 - val_acc: 0.2028\n",
            "Epoch 83/200\n",
            "681/681 [==============================] - 5s 7ms/step - loss: 12.4437 - acc: 0.5121 - val_loss: 39.9547 - val_acc: 0.1934\n",
            "Epoch 84/200\n",
            "681/681 [==============================] - 5s 7ms/step - loss: 12.3790 - acc: 0.5141 - val_loss: 40.6328 - val_acc: 0.1978\n",
            "Epoch 85/200\n",
            "681/681 [==============================] - 5s 7ms/step - loss: 12.5346 - acc: 0.5107 - val_loss: 41.1138 - val_acc: 0.1912\n",
            "Epoch 86/200\n",
            "681/681 [==============================] - 5s 7ms/step - loss: 12.6170 - acc: 0.5102 - val_loss: 39.2986 - val_acc: 0.2044\n",
            "Epoch 87/200\n",
            "681/681 [==============================] - 5s 7ms/step - loss: 12.2694 - acc: 0.5093 - val_loss: 42.5810 - val_acc: 0.1917\n",
            "Epoch 88/200\n",
            "681/681 [==============================] - 5s 8ms/step - loss: 12.5704 - acc: 0.5103 - val_loss: 40.7804 - val_acc: 0.1912\n",
            "Epoch 89/200\n",
            "681/681 [==============================] - 5s 7ms/step - loss: 12.5656 - acc: 0.5179 - val_loss: 41.3763 - val_acc: 0.2055\n",
            "Epoch 90/200\n",
            "681/681 [==============================] - 5s 8ms/step - loss: 12.5971 - acc: 0.5148 - val_loss: 41.1337 - val_acc: 0.2022\n",
            "Epoch 91/200\n",
            "681/681 [==============================] - 5s 7ms/step - loss: 12.0133 - acc: 0.5232 - val_loss: 44.2803 - val_acc: 0.1791\n",
            "Epoch 92/200\n",
            "681/681 [==============================] - 5s 7ms/step - loss: 12.2284 - acc: 0.5249 - val_loss: 40.7476 - val_acc: 0.2055\n",
            "Epoch 93/200\n",
            "681/681 [==============================] - 5s 7ms/step - loss: 12.2914 - acc: 0.5226 - val_loss: 40.8558 - val_acc: 0.2066\n",
            "Epoch 94/200\n",
            "681/681 [==============================] - 5s 7ms/step - loss: 11.5997 - acc: 0.5309 - val_loss: 39.7076 - val_acc: 0.2143\n",
            "Epoch 95/200\n",
            "681/681 [==============================] - 5s 7ms/step - loss: 12.0515 - acc: 0.5254 - val_loss: 45.7437 - val_acc: 0.1747\n",
            "Epoch 96/200\n",
            "681/681 [==============================] - 5s 8ms/step - loss: 11.8755 - acc: 0.5288 - val_loss: 39.9399 - val_acc: 0.2044\n",
            "Epoch 97/200\n",
            "681/681 [==============================] - 5s 7ms/step - loss: 11.5937 - acc: 0.5407 - val_loss: 42.3219 - val_acc: 0.2105\n",
            "Epoch 98/200\n",
            "681/681 [==============================] - 5s 7ms/step - loss: 11.8807 - acc: 0.5366 - val_loss: 41.2564 - val_acc: 0.2072\n",
            "Epoch 99/200\n",
            "681/681 [==============================] - 5s 7ms/step - loss: 11.7454 - acc: 0.5383 - val_loss: 42.5292 - val_acc: 0.1989\n",
            "Epoch 100/200\n",
            "681/681 [==============================] - 5s 8ms/step - loss: 11.6982 - acc: 0.5405 - val_loss: 45.8105 - val_acc: 0.1873\n",
            "Epoch 101/200\n",
            "681/681 [==============================] - 5s 7ms/step - loss: 11.9637 - acc: 0.5362 - val_loss: 42.6968 - val_acc: 0.2061\n",
            "Epoch 102/200\n",
            "681/681 [==============================] - 5s 7ms/step - loss: 11.9762 - acc: 0.5412 - val_loss: 42.6705 - val_acc: 0.1928\n",
            "Epoch 103/200\n",
            "681/681 [==============================] - 5s 7ms/step - loss: 11.8775 - acc: 0.5342 - val_loss: 41.3080 - val_acc: 0.2320\n",
            "Epoch 104/200\n",
            "681/681 [==============================] - 5s 7ms/step - loss: 11.3624 - acc: 0.5487 - val_loss: 39.1479 - val_acc: 0.2413\n",
            "Epoch 105/200\n",
            "681/681 [==============================] - 5s 7ms/step - loss: 11.0477 - acc: 0.5567 - val_loss: 41.1931 - val_acc: 0.1873\n",
            "Epoch 106/200\n",
            "681/681 [==============================] - 5s 7ms/step - loss: 11.3779 - acc: 0.5570 - val_loss: 42.2100 - val_acc: 0.2198\n",
            "Epoch 107/200\n",
            "681/681 [==============================] - 5s 7ms/step - loss: 11.9065 - acc: 0.5440 - val_loss: 42.9835 - val_acc: 0.2187\n",
            "Epoch 108/200\n",
            "681/681 [==============================] - 5s 7ms/step - loss: 11.3109 - acc: 0.5644 - val_loss: 43.8302 - val_acc: 0.2094\n",
            "Epoch 109/200\n",
            "681/681 [==============================] - 5s 7ms/step - loss: 11.6064 - acc: 0.5544 - val_loss: 44.2661 - val_acc: 0.2050\n",
            "Epoch 110/200\n",
            "681/681 [==============================] - 5s 7ms/step - loss: 11.5222 - acc: 0.5565 - val_loss: 43.8894 - val_acc: 0.2402\n",
            "Epoch 111/200\n",
            "681/681 [==============================] - 5s 7ms/step - loss: 11.2988 - acc: 0.5601 - val_loss: 42.6331 - val_acc: 0.2187\n",
            "Epoch 112/200\n",
            "681/681 [==============================] - 5s 7ms/step - loss: 11.3187 - acc: 0.5610 - val_loss: 43.9885 - val_acc: 0.2022\n",
            "Epoch 113/200\n",
            "681/681 [==============================] - 5s 7ms/step - loss: 11.3445 - acc: 0.5634 - val_loss: 43.7434 - val_acc: 0.2264\n",
            "Epoch 114/200\n",
            "681/681 [==============================] - 5s 7ms/step - loss: 11.0213 - acc: 0.5638 - val_loss: 43.4985 - val_acc: 0.2121\n",
            "Epoch 115/200\n",
            "681/681 [==============================] - 5s 7ms/step - loss: 10.9717 - acc: 0.5750 - val_loss: 40.9411 - val_acc: 0.2386\n",
            "Epoch 116/200\n",
            "681/681 [==============================] - 5s 8ms/step - loss: 11.1890 - acc: 0.5762 - val_loss: 43.1870 - val_acc: 0.2198\n",
            "Epoch 117/200\n",
            "681/681 [==============================] - 5s 7ms/step - loss: 11.4268 - acc: 0.5718 - val_loss: 43.2266 - val_acc: 0.2413\n",
            "Epoch 118/200\n",
            "681/681 [==============================] - 5s 7ms/step - loss: 10.8380 - acc: 0.5830 - val_loss: 44.3602 - val_acc: 0.2171\n",
            "Epoch 119/200\n",
            "681/681 [==============================] - 5s 7ms/step - loss: 11.1022 - acc: 0.5661 - val_loss: 44.6787 - val_acc: 0.2303\n",
            "Epoch 120/200\n",
            "681/681 [==============================] - 5s 7ms/step - loss: 10.9417 - acc: 0.5737 - val_loss: 44.5357 - val_acc: 0.2094\n",
            "Epoch 121/200\n",
            "681/681 [==============================] - 5s 7ms/step - loss: 11.2426 - acc: 0.5709 - val_loss: 42.3775 - val_acc: 0.2369\n",
            "Epoch 122/200\n",
            "681/681 [==============================] - 5s 7ms/step - loss: 10.5790 - acc: 0.5877 - val_loss: 44.9820 - val_acc: 0.2237\n",
            "Epoch 123/200\n",
            "681/681 [==============================] - 5s 7ms/step - loss: 10.8959 - acc: 0.5812 - val_loss: 45.3884 - val_acc: 0.2171\n",
            "Epoch 124/200\n",
            "681/681 [==============================] - 5s 8ms/step - loss: 10.8596 - acc: 0.5800 - val_loss: 44.9573 - val_acc: 0.2154\n",
            "Epoch 125/200\n",
            "681/681 [==============================] - 5s 7ms/step - loss: 10.3430 - acc: 0.5924 - val_loss: 43.9657 - val_acc: 0.2132\n",
            "Epoch 126/200\n",
            "681/681 [==============================] - 5s 7ms/step - loss: 10.8047 - acc: 0.5821 - val_loss: 45.2878 - val_acc: 0.2281\n",
            "Epoch 127/200\n",
            "681/681 [==============================] - 5s 7ms/step - loss: 10.8960 - acc: 0.5756 - val_loss: 44.5601 - val_acc: 0.2468\n",
            "Epoch 128/200\n",
            "681/681 [==============================] - 5s 7ms/step - loss: 10.7318 - acc: 0.5935 - val_loss: 44.3467 - val_acc: 0.2149\n",
            "Epoch 129/200\n",
            "681/681 [==============================] - 5s 7ms/step - loss: 10.8461 - acc: 0.5836 - val_loss: 45.9900 - val_acc: 0.2336\n",
            "Epoch 130/200\n",
            "681/681 [==============================] - 5s 7ms/step - loss: 10.5011 - acc: 0.5950 - val_loss: 44.5395 - val_acc: 0.2226\n",
            "Epoch 131/200\n",
            "681/681 [==============================] - 5s 7ms/step - loss: 10.7720 - acc: 0.5861 - val_loss: 46.4609 - val_acc: 0.2358\n",
            "Epoch 132/200\n",
            "681/681 [==============================] - 5s 7ms/step - loss: 10.5151 - acc: 0.5904 - val_loss: 44.2515 - val_acc: 0.2342\n",
            "Epoch 133/200\n",
            "681/681 [==============================] - 5s 7ms/step - loss: 10.2618 - acc: 0.5974 - val_loss: 44.9476 - val_acc: 0.2375\n",
            "Epoch 134/200\n",
            "681/681 [==============================] - 5s 7ms/step - loss: 10.3030 - acc: 0.5969 - val_loss: 45.8912 - val_acc: 0.2309\n",
            "Epoch 135/200\n",
            "681/681 [==============================] - 5s 7ms/step - loss: 10.5214 - acc: 0.5952 - val_loss: 45.5903 - val_acc: 0.2446\n",
            "Epoch 136/200\n",
            "681/681 [==============================] - 5s 7ms/step - loss: 10.2589 - acc: 0.6037 - val_loss: 47.9663 - val_acc: 0.2182\n",
            "Epoch 137/200\n",
            "681/681 [==============================] - 5s 7ms/step - loss: 10.3809 - acc: 0.6007 - val_loss: 49.0457 - val_acc: 0.2132\n",
            "Epoch 138/200\n",
            "681/681 [==============================] - 5s 7ms/step - loss: 10.0022 - acc: 0.6051 - val_loss: 49.8019 - val_acc: 0.2160\n",
            "Epoch 139/200\n",
            "681/681 [==============================] - 5s 7ms/step - loss: 10.1933 - acc: 0.6013 - val_loss: 44.6912 - val_acc: 0.2419\n",
            "Epoch 140/200\n",
            "681/681 [==============================] - 5s 8ms/step - loss: 10.2389 - acc: 0.6019 - val_loss: 46.8967 - val_acc: 0.2176\n",
            "Epoch 141/200\n",
            "681/681 [==============================] - 5s 7ms/step - loss: 9.4660 - acc: 0.6200 - val_loss: 46.8721 - val_acc: 0.2408\n",
            "Epoch 142/200\n",
            "681/681 [==============================] - 5s 7ms/step - loss: 9.9441 - acc: 0.6135 - val_loss: 50.0686 - val_acc: 0.2347\n",
            "Epoch 143/200\n",
            "681/681 [==============================] - 5s 7ms/step - loss: 10.3808 - acc: 0.6075 - val_loss: 44.6557 - val_acc: 0.2501\n",
            "Epoch 144/200\n",
            "681/681 [==============================] - 5s 8ms/step - loss: 10.0486 - acc: 0.6171 - val_loss: 46.9030 - val_acc: 0.2457\n",
            "Epoch 145/200\n",
            "681/681 [==============================] - 5s 7ms/step - loss: 10.0079 - acc: 0.6129 - val_loss: 48.9072 - val_acc: 0.2143\n",
            "Epoch 146/200\n",
            "681/681 [==============================] - 5s 7ms/step - loss: 10.1755 - acc: 0.6078 - val_loss: 49.5004 - val_acc: 0.2275\n",
            "Epoch 147/200\n",
            "681/681 [==============================] - 5s 7ms/step - loss: 10.5589 - acc: 0.6062 - val_loss: 44.8073 - val_acc: 0.2667\n",
            "Epoch 148/200\n",
            "681/681 [==============================] - 5s 7ms/step - loss: 9.3478 - acc: 0.6272 - val_loss: 46.2733 - val_acc: 0.2386\n",
            "Epoch 149/200\n",
            "681/681 [==============================] - 5s 7ms/step - loss: 9.9423 - acc: 0.6097 - val_loss: 45.8638 - val_acc: 0.2612\n",
            "Epoch 150/200\n",
            "681/681 [==============================] - 5s 7ms/step - loss: 9.3450 - acc: 0.6302 - val_loss: 47.8390 - val_acc: 0.2562\n",
            "Epoch 151/200\n",
            "681/681 [==============================] - 5s 7ms/step - loss: 9.6782 - acc: 0.6129 - val_loss: 49.2151 - val_acc: 0.2342\n",
            "Epoch 152/200\n",
            "681/681 [==============================] - 5s 8ms/step - loss: 9.5446 - acc: 0.6261 - val_loss: 46.3592 - val_acc: 0.2441\n",
            "Epoch 153/200\n",
            "681/681 [==============================] - 5s 7ms/step - loss: 9.7842 - acc: 0.6234 - val_loss: 47.9556 - val_acc: 0.2375\n",
            "Epoch 154/200\n",
            "681/681 [==============================] - 5s 8ms/step - loss: 9.5613 - acc: 0.6293 - val_loss: 48.7309 - val_acc: 0.2160\n",
            "Epoch 155/200\n",
            "681/681 [==============================] - 5s 8ms/step - loss: 9.2703 - acc: 0.6288 - val_loss: 49.1592 - val_acc: 0.2287\n",
            "Epoch 156/200\n",
            "681/681 [==============================] - 5s 7ms/step - loss: 10.0409 - acc: 0.6154 - val_loss: 48.7776 - val_acc: 0.2463\n",
            "Epoch 157/200\n",
            "681/681 [==============================] - 5s 7ms/step - loss: 9.9997 - acc: 0.6208 - val_loss: 48.8073 - val_acc: 0.2612\n",
            "Epoch 158/200\n",
            "681/681 [==============================] - 5s 7ms/step - loss: 9.6350 - acc: 0.6256 - val_loss: 46.2841 - val_acc: 0.2468\n",
            "Epoch 159/200\n",
            "681/681 [==============================] - 5s 7ms/step - loss: 9.2616 - acc: 0.6324 - val_loss: 47.3615 - val_acc: 0.2617\n",
            "Epoch 160/200\n",
            "681/681 [==============================] - 5s 7ms/step - loss: 9.4139 - acc: 0.6309 - val_loss: 52.4103 - val_acc: 0.2248\n",
            "Epoch 161/200\n",
            "681/681 [==============================] - 5s 7ms/step - loss: 9.5717 - acc: 0.6344 - val_loss: 48.5427 - val_acc: 0.2336\n",
            "Epoch 162/200\n",
            "681/681 [==============================] - 5s 7ms/step - loss: 9.0456 - acc: 0.6430 - val_loss: 49.0369 - val_acc: 0.2397\n",
            "Epoch 163/200\n",
            "681/681 [==============================] - 5s 7ms/step - loss: 9.0525 - acc: 0.6408 - val_loss: 49.4734 - val_acc: 0.2094\n",
            "Epoch 164/200\n",
            "681/681 [==============================] - 5s 7ms/step - loss: 9.1501 - acc: 0.6339 - val_loss: 48.5312 - val_acc: 0.2501\n",
            "Epoch 165/200\n",
            "681/681 [==============================] - 5s 7ms/step - loss: 9.7005 - acc: 0.6261 - val_loss: 47.5101 - val_acc: 0.2529\n",
            "Epoch 166/200\n",
            "681/681 [==============================] - 5s 7ms/step - loss: 9.1909 - acc: 0.6358 - val_loss: 47.7736 - val_acc: 0.2479\n",
            "Epoch 167/200\n",
            "681/681 [==============================] - 5s 7ms/step - loss: 8.9923 - acc: 0.6431 - val_loss: 48.4407 - val_acc: 0.2452\n",
            "Epoch 168/200\n",
            "681/681 [==============================] - 5s 8ms/step - loss: 9.6956 - acc: 0.6314 - val_loss: 49.3166 - val_acc: 0.2380\n",
            "Epoch 169/200\n",
            "681/681 [==============================] - 5s 7ms/step - loss: 9.5599 - acc: 0.6387 - val_loss: 50.6746 - val_acc: 0.2309\n",
            "Epoch 170/200\n",
            "681/681 [==============================] - 5s 7ms/step - loss: 8.8621 - acc: 0.6402 - val_loss: 52.1424 - val_acc: 0.2281\n",
            "Epoch 171/200\n",
            "681/681 [==============================] - 5s 7ms/step - loss: 9.1966 - acc: 0.6409 - val_loss: 48.7049 - val_acc: 0.2408\n",
            "Epoch 172/200\n",
            "681/681 [==============================] - 5s 7ms/step - loss: 8.9160 - acc: 0.6542 - val_loss: 52.3633 - val_acc: 0.2375\n",
            "Epoch 173/200\n",
            "681/681 [==============================] - 5s 7ms/step - loss: 9.4992 - acc: 0.6402 - val_loss: 50.0954 - val_acc: 0.2463\n",
            "Epoch 174/200\n",
            "681/681 [==============================] - 5s 7ms/step - loss: 9.2855 - acc: 0.6374 - val_loss: 49.3835 - val_acc: 0.2386\n",
            "Epoch 175/200\n",
            "681/681 [==============================] - 5s 7ms/step - loss: 9.1452 - acc: 0.6472 - val_loss: 50.4147 - val_acc: 0.2320\n",
            "Epoch 176/200\n",
            "681/681 [==============================] - 5s 7ms/step - loss: 9.2224 - acc: 0.6443 - val_loss: 49.3193 - val_acc: 0.2496\n",
            "Epoch 177/200\n",
            "681/681 [==============================] - 5s 7ms/step - loss: 8.9839 - acc: 0.6501 - val_loss: 52.4237 - val_acc: 0.2347\n",
            "Epoch 178/200\n",
            "681/681 [==============================] - 5s 7ms/step - loss: 8.6437 - acc: 0.6559 - val_loss: 51.1590 - val_acc: 0.2595\n",
            "Epoch 179/200\n",
            "681/681 [==============================] - 5s 7ms/step - loss: 8.4495 - acc: 0.6593 - val_loss: 52.7807 - val_acc: 0.2590\n",
            "Epoch 180/200\n",
            "681/681 [==============================] - 5s 7ms/step - loss: 9.3860 - acc: 0.6460 - val_loss: 49.3054 - val_acc: 0.2523\n",
            "Epoch 181/200\n",
            "681/681 [==============================] - 5s 7ms/step - loss: 8.6443 - acc: 0.6586 - val_loss: 50.8300 - val_acc: 0.2435\n",
            "Epoch 182/200\n",
            "681/681 [==============================] - 5s 7ms/step - loss: 9.1990 - acc: 0.6473 - val_loss: 49.6712 - val_acc: 0.2755\n",
            "Epoch 183/200\n",
            "681/681 [==============================] - 5s 7ms/step - loss: 9.0253 - acc: 0.6561 - val_loss: 51.0815 - val_acc: 0.2452\n",
            "Epoch 184/200\n",
            "681/681 [==============================] - 5s 7ms/step - loss: 8.9750 - acc: 0.6574 - val_loss: 51.1915 - val_acc: 0.2446\n",
            "Epoch 185/200\n",
            "681/681 [==============================] - 5s 8ms/step - loss: 8.3943 - acc: 0.6709 - val_loss: 52.7135 - val_acc: 0.2490\n",
            "Epoch 186/200\n",
            "681/681 [==============================] - 5s 7ms/step - loss: 9.0793 - acc: 0.6540 - val_loss: 50.5235 - val_acc: 0.2375\n",
            "Epoch 187/200\n",
            "681/681 [==============================] - 5s 7ms/step - loss: 8.8408 - acc: 0.6602 - val_loss: 53.2403 - val_acc: 0.2540\n",
            "Epoch 188/200\n",
            "681/681 [==============================] - 5s 7ms/step - loss: 8.5647 - acc: 0.6617 - val_loss: 51.4532 - val_acc: 0.2463\n",
            "Epoch 189/200\n",
            "681/681 [==============================] - 5s 7ms/step - loss: 8.4195 - acc: 0.6671 - val_loss: 52.4381 - val_acc: 0.2402\n",
            "Epoch 190/200\n",
            "681/681 [==============================] - 5s 8ms/step - loss: 8.9016 - acc: 0.6651 - val_loss: 56.5438 - val_acc: 0.2358\n",
            "Epoch 191/200\n",
            "681/681 [==============================] - 5s 7ms/step - loss: 8.7662 - acc: 0.6652 - val_loss: 51.6109 - val_acc: 0.2529\n",
            "Epoch 192/200\n",
            "681/681 [==============================] - 5s 7ms/step - loss: 8.8388 - acc: 0.6601 - val_loss: 48.8415 - val_acc: 0.2837\n",
            "Epoch 193/200\n",
            "681/681 [==============================] - 5s 7ms/step - loss: 9.0077 - acc: 0.6532 - val_loss: 50.5865 - val_acc: 0.2716\n",
            "Epoch 194/200\n",
            "681/681 [==============================] - 5s 7ms/step - loss: 8.6939 - acc: 0.6658 - val_loss: 50.0765 - val_acc: 0.2788\n",
            "Epoch 195/200\n",
            "681/681 [==============================] - 5s 8ms/step - loss: 8.3046 - acc: 0.6747 - val_loss: 51.3219 - val_acc: 0.2678\n",
            "Epoch 196/200\n",
            "681/681 [==============================] - 5s 7ms/step - loss: 8.7747 - acc: 0.6636 - val_loss: 52.7577 - val_acc: 0.2441\n",
            "Epoch 197/200\n",
            "681/681 [==============================] - 5s 7ms/step - loss: 8.6031 - acc: 0.6679 - val_loss: 53.2147 - val_acc: 0.2364\n",
            "Epoch 198/200\n",
            "681/681 [==============================] - 5s 7ms/step - loss: 8.1811 - acc: 0.6816 - val_loss: 52.5810 - val_acc: 0.2567\n",
            "Epoch 199/200\n",
            "681/681 [==============================] - 5s 7ms/step - loss: 8.6440 - acc: 0.6681 - val_loss: 53.0388 - val_acc: 0.2595\n",
            "Epoch 200/200\n",
            "681/681 [==============================] - 5s 8ms/step - loss: 8.5699 - acc: 0.6717 - val_loss: 53.5631 - val_acc: 0.2364\n"
          ]
        }
      ],
      "source": [
        "history = model.fit(x=[X1_train_resampled, X2_train_resampled], y=y_train_resampled, batch_size=16, epochs=200, verbose=1, validation_data=([X1_val, X2_val], y_val))"
      ]
    },
    {
      "cell_type": "code",
      "execution_count": 54,
      "metadata": {
        "colab": {
          "base_uri": "https://localhost:8080/"
        },
        "id": "1sy_nQnMl22I",
        "outputId": "79740df9-eca8-4f85-975a-8dfffdf78d5d"
      },
      "outputs": [
        {
          "output_type": "execute_result",
          "data": {
            "text/plain": [
              "dict_keys(['loss', 'acc', 'val_loss', 'val_acc'])"
            ]
          },
          "metadata": {},
          "execution_count": 54
        }
      ],
      "source": [
        "history.history.keys()"
      ]
    },
    {
      "cell_type": "code",
      "execution_count": 55,
      "metadata": {
        "colab": {
          "base_uri": "https://localhost:8080/",
          "height": 324
        },
        "id": "DLKD7txBjzSF",
        "outputId": "e713459a-93fd-4ce7-c6b4-596f1218c4f3"
      },
      "outputs": [
        {
          "output_type": "display_data",
          "data": {
            "image/png": "[encoded data removed]",
            "text/plain": [
              "<Figure size 576x360 with 1 Axes>"
            ]
          },
          "metadata": {
            "needs_background": "light"
          }
        }
      ],
      "source": [
        "pd.DataFrame(history.history)[['acc', 'val_acc']].plot(figsize=(8, 5))\n",
        "plt.grid(True)\n",
        "plt.gca().set_ylim(0, 1.0)\n",
        "plt.show()"
      ]
    },
    {
      "cell_type": "code",
      "execution_count": 57,
      "metadata": {
        "colab": {
          "base_uri": "https://localhost:8080/",
          "height": 324
        },
        "id": "dEw-BKVhlteX",
        "outputId": "5ee3062a-4f0c-4baf-9cbd-3df43bc8cf87"
      },
      "outputs": [
        {
          "output_type": "display_data",
          "data": {
            "image/png": "[encoded data removed]",
            "text/plain": [
              "<Figure size 576x360 with 1 Axes>"
            ]
          },
          "metadata": {
            "needs_background": "light"
          }
        }
      ],
      "source": [
        "pd.DataFrame(history.history)[['loss', 'val_loss']].plot(figsize=(8, 5))\n",
        "plt.grid(True)\n",
        "plt.gca().set_ylim(0, 60)\n",
        "plt.show()"
      ]
    },
    {
      "cell_type": "code",
      "execution_count": null,
      "metadata": {
        "colab": {
          "background_save": true
        },
        "id": "NnR-M1nQmDn8"
      },
      "outputs": [],
      "source": [
        ""
      ]
    }
  ],
  "metadata": {
    "accelerator": "GPU",
    "colab": {
      "collapsed_sections": [],
      "name": "multiinput_modeling_fasttext_oversampling.ipynb",
      "provenance": [],
      "authorship_tag": "ABX9TyPDKaC8FfPRkNFP3A6dmnDu",
      "include_colab_link": true
    },
    "kernelspec": {
      "display_name": "Python 3",
      "name": "python3"
    },
    "language_info": {
      "name": "python"
    }
  },
  "nbformat": 4,
  "nbformat_minor": 0
}