{
 "cells": [
  {
   "cell_type": "code",
   "execution_count": 1,
   "metadata": {},
   "outputs": [],
   "source": [
    "import pandas as pd\n",
    "import numpy as np\n",
    "from glob import glob\n",
    "from tqdm import tqdm\n",
    "import warnings\n",
    "\n",
    "RANDOM_STATE = 42\n",
    "np.seed = 42\n",
    "DATA_PATH = \"../data_0116/\"\n",
    "\n",
    "warnings.filterwarnings(action='ignore')\n",
    "PATH_2017 = DATA_PATH + \"train/KNOW_2017.csv\"\n",
    "PATH_2018 = DATA_PATH + \"train/KNOW_2018.csv\"\n",
    "PATH_2019 = DATA_PATH + \"train/KNOW_2019.csv\"\n",
    "PATH_2020 = DATA_PATH + \"train/KNOW_2020.csv\"\n",
    "\n",
    "paths = [PATH_2017, PATH_2018, PATH_2019, PATH_2020]\n",
    "\n",
    "know_train = [pd.read_csv(path) for path in paths]\n",
    "\n",
    "years = '2017 2018 2019 2020'.split()"
   ]
  },
  {
   "cell_type": "code",
   "execution_count": 2,
   "metadata": {},
   "outputs": [
    {
     "data": {
      "text/html": [
       "<div>\n",
       "<style scoped>\n",
       "    .dataframe tbody tr th:only-of-type {\n",
       "        vertical-align: middle;\n",
       "    }\n",
       "\n",
       "    .dataframe tbody tr th {\n",
       "        vertical-align: top;\n",
       "    }\n",
       "\n",
       "    .dataframe thead th {\n",
       "        text-align: right;\n",
       "    }\n",
       "</style>\n",
       "<table border=\"1\" class=\"dataframe\">\n",
       "  <thead>\n",
       "    <tr style=\"text-align: right;\">\n",
       "      <th></th>\n",
       "      <th>idx</th>\n",
       "      <th>aq1_1</th>\n",
       "      <th>aq1_2</th>\n",
       "      <th>aq2_1</th>\n",
       "      <th>aq2_2</th>\n",
       "      <th>aq3_1</th>\n",
       "      <th>aq3_2</th>\n",
       "      <th>aq4_1</th>\n",
       "      <th>aq4_2</th>\n",
       "      <th>aq5_1</th>\n",
       "      <th>...</th>\n",
       "      <th>text_response</th>\n",
       "      <th>sim_job</th>\n",
       "      <th>bef_job</th>\n",
       "      <th>able_job</th>\n",
       "      <th>major</th>\n",
       "      <th>description</th>\n",
       "      <th>bq6_mark</th>\n",
       "      <th>bq12_2_mark</th>\n",
       "      <th>bq12_3_mark</th>\n",
       "      <th>bq12_4_mark</th>\n",
       "    </tr>\n",
       "  </thead>\n",
       "  <tbody>\n",
       "    <tr>\n",
       "      <th>0</th>\n",
       "      <td>0</td>\n",
       "      <td>3</td>\n",
       "      <td>3</td>\n",
       "      <td>3</td>\n",
       "      <td>3</td>\n",
       "      <td>3</td>\n",
       "      <td>3</td>\n",
       "      <td>4</td>\n",
       "      <td>4</td>\n",
       "      <td>3</td>\n",
       "      <td>...</td>\n",
       "      <td>자동차도장기능사 실무교육 생산 설비 자동화 없다</td>\n",
       "      <td>없다</td>\n",
       "      <td>없다</td>\n",
       "      <td>건설현장 노무직</td>\n",
       "      <td>실업</td>\n",
       "      <td>도장원(도장기조작원)</td>\n",
       "      <td>0</td>\n",
       "      <td>0</td>\n",
       "      <td>0</td>\n",
       "      <td>0</td>\n",
       "    </tr>\n",
       "    <tr>\n",
       "      <th>1</th>\n",
       "      <td>1</td>\n",
       "      <td>4</td>\n",
       "      <td>5</td>\n",
       "      <td>4</td>\n",
       "      <td>5</td>\n",
       "      <td>3</td>\n",
       "      <td>4</td>\n",
       "      <td>3</td>\n",
       "      <td>4</td>\n",
       "      <td>3</td>\n",
       "      <td>...</td>\n",
       "      <td>건축전기설비기술사 건설 수주 드라이버 가위</td>\n",
       "      <td>없다</td>\n",
       "      <td>0</td>\n",
       "      <td>0</td>\n",
       "      <td>건축공학</td>\n",
       "      <td>건축설비 기술자</td>\n",
       "      <td>0</td>\n",
       "      <td>0</td>\n",
       "      <td>0</td>\n",
       "      <td>0</td>\n",
       "    </tr>\n",
       "    <tr>\n",
       "      <th>2</th>\n",
       "      <td>2</td>\n",
       "      <td>3</td>\n",
       "      <td>4</td>\n",
       "      <td>3</td>\n",
       "      <td>4</td>\n",
       "      <td>3</td>\n",
       "      <td>4</td>\n",
       "      <td>5</td>\n",
       "      <td>6</td>\n",
       "      <td>4</td>\n",
       "      <td>...</td>\n",
       "      <td>건축전기설비기술사 신축 건설 경기 건축 설계 오토캐드 파이프 보일러</td>\n",
       "      <td>없다</td>\n",
       "      <td>0</td>\n",
       "      <td>0</td>\n",
       "      <td>건축공학</td>\n",
       "      <td>건축설비 기술자</td>\n",
       "      <td>0</td>\n",
       "      <td>0</td>\n",
       "      <td>0</td>\n",
       "      <td>0</td>\n",
       "    </tr>\n",
       "    <tr>\n",
       "      <th>3</th>\n",
       "      <td>3</td>\n",
       "      <td>3</td>\n",
       "      <td>3</td>\n",
       "      <td>3</td>\n",
       "      <td>3</td>\n",
       "      <td>3</td>\n",
       "      <td>5</td>\n",
       "      <td>4</td>\n",
       "      <td>5</td>\n",
       "      <td>4</td>\n",
       "      <td>...</td>\n",
       "      <td>지적기사 측량 정보통신기술 교육 무량 감소 자동화 토탈 스테이션</td>\n",
       "      <td>지적기사</td>\n",
       "      <td>무</td>\n",
       "      <td>지적공무원</td>\n",
       "      <td>환경학과</td>\n",
       "      <td>지적 및 측량기술자</td>\n",
       "      <td>0</td>\n",
       "      <td>0</td>\n",
       "      <td>0</td>\n",
       "      <td>0</td>\n",
       "    </tr>\n",
       "    <tr>\n",
       "      <th>4</th>\n",
       "      <td>4</td>\n",
       "      <td>4</td>\n",
       "      <td>5</td>\n",
       "      <td>3</td>\n",
       "      <td>4</td>\n",
       "      <td>3</td>\n",
       "      <td>4</td>\n",
       "      <td>4</td>\n",
       "      <td>5</td>\n",
       "      <td>3</td>\n",
       "      <td>...</td>\n",
       "      <td>건축전기설비기술사 부동산 거품 건축 경기도 덩달아 불황 캐드 엑셀 건축 도면</td>\n",
       "      <td>없다</td>\n",
       "      <td>0</td>\n",
       "      <td>0</td>\n",
       "      <td>건축공학</td>\n",
       "      <td>건축설비 기술자</td>\n",
       "      <td>0</td>\n",
       "      <td>0</td>\n",
       "      <td>0</td>\n",
       "      <td>0</td>\n",
       "    </tr>\n",
       "    <tr>\n",
       "      <th>...</th>\n",
       "      <td>...</td>\n",
       "      <td>...</td>\n",
       "      <td>...</td>\n",
       "      <td>...</td>\n",
       "      <td>...</td>\n",
       "      <td>...</td>\n",
       "      <td>...</td>\n",
       "      <td>...</td>\n",
       "      <td>...</td>\n",
       "      <td>...</td>\n",
       "      <td>...</td>\n",
       "      <td>...</td>\n",
       "      <td>...</td>\n",
       "      <td>...</td>\n",
       "      <td>...</td>\n",
       "      <td>...</td>\n",
       "      <td>...</td>\n",
       "      <td>...</td>\n",
       "      <td>...</td>\n",
       "      <td>...</td>\n",
       "      <td>...</td>\n",
       "    </tr>\n",
       "    <tr>\n",
       "      <th>9481</th>\n",
       "      <td>9481</td>\n",
       "      <td>3</td>\n",
       "      <td>5</td>\n",
       "      <td>2</td>\n",
       "      <td>4</td>\n",
       "      <td>3</td>\n",
       "      <td>3</td>\n",
       "      <td>2</td>\n",
       "      <td>2</td>\n",
       "      <td>2</td>\n",
       "      <td>...</td>\n",
       "      <td>편집기술에 원리와 이해능력 출판 업무 특성 기획 업무 한글 편집 프로그램 포토샵 일...</td>\n",
       "      <td>없다</td>\n",
       "      <td>없다</td>\n",
       "      <td>마케팅업무</td>\n",
       "      <td>산업디자인</td>\n",
       "      <td>출판물기획자</td>\n",
       "      <td>1</td>\n",
       "      <td>0</td>\n",
       "      <td>0</td>\n",
       "      <td>0</td>\n",
       "    </tr>\n",
       "    <tr>\n",
       "      <th>9482</th>\n",
       "      <td>9482</td>\n",
       "      <td>5</td>\n",
       "      <td>5</td>\n",
       "      <td>5</td>\n",
       "      <td>5</td>\n",
       "      <td>5</td>\n",
       "      <td>5</td>\n",
       "      <td>3</td>\n",
       "      <td>4</td>\n",
       "      <td>4</td>\n",
       "      <td>...</td>\n",
       "      <td>도면 작성 교육 전자 기초 이해 항공우주 분야 국가 경쟁력 위해 육성 전문 특수 정...</td>\n",
       "      <td>없다</td>\n",
       "      <td>없다</td>\n",
       "      <td>없다</td>\n",
       "      <td>우주항공공학</td>\n",
       "      <td>항공공학기술자</td>\n",
       "      <td>0</td>\n",
       "      <td>0</td>\n",
       "      <td>0</td>\n",
       "      <td>0</td>\n",
       "    </tr>\n",
       "    <tr>\n",
       "      <th>9483</th>\n",
       "      <td>9483</td>\n",
       "      <td>3</td>\n",
       "      <td>3</td>\n",
       "      <td>4</td>\n",
       "      <td>6</td>\n",
       "      <td>3</td>\n",
       "      <td>3</td>\n",
       "      <td>4</td>\n",
       "      <td>5</td>\n",
       "      <td>4</td>\n",
       "      <td>...</td>\n",
       "      <td>건설 경기 볼트 리벳 없다</td>\n",
       "      <td>건설 노가대</td>\n",
       "      <td>없다</td>\n",
       "      <td>없다</td>\n",
       "      <td>기계</td>\n",
       "      <td>철골공(강구조물 건립원)</td>\n",
       "      <td>0</td>\n",
       "      <td>0</td>\n",
       "      <td>0</td>\n",
       "      <td>0</td>\n",
       "    </tr>\n",
       "    <tr>\n",
       "      <th>9484</th>\n",
       "      <td>9484</td>\n",
       "      <td>3</td>\n",
       "      <td>5</td>\n",
       "      <td>3</td>\n",
       "      <td>5</td>\n",
       "      <td>4</td>\n",
       "      <td>5</td>\n",
       "      <td>3</td>\n",
       "      <td>4</td>\n",
       "      <td>3</td>\n",
       "      <td>...</td>\n",
       "      <td>공무원 인원 크게 변동 컴퓨터</td>\n",
       "      <td>없다</td>\n",
       "      <td>없다</td>\n",
       "      <td>모름</td>\n",
       "      <td>문헌정보학</td>\n",
       "      <td>법원공무원</td>\n",
       "      <td>0</td>\n",
       "      <td>0</td>\n",
       "      <td>0</td>\n",
       "      <td>0</td>\n",
       "    </tr>\n",
       "    <tr>\n",
       "      <th>9485</th>\n",
       "      <td>9485</td>\n",
       "      <td>3</td>\n",
       "      <td>4</td>\n",
       "      <td>3</td>\n",
       "      <td>4</td>\n",
       "      <td>3</td>\n",
       "      <td>4</td>\n",
       "      <td>3</td>\n",
       "      <td>4</td>\n",
       "      <td>3</td>\n",
       "      <td>...</td>\n",
       "      <td>업체 경쟁 차량 관리 시스템</td>\n",
       "      <td>없다</td>\n",
       "      <td>0</td>\n",
       "      <td>0</td>\n",
       "      <td>전기</td>\n",
       "      <td>운송 관리자</td>\n",
       "      <td>1</td>\n",
       "      <td>0</td>\n",
       "      <td>0</td>\n",
       "      <td>0</td>\n",
       "    </tr>\n",
       "  </tbody>\n",
       "</table>\n",
       "<p>9486 rows × 155 columns</p>\n",
       "</div>"
      ],
      "text/plain": [
       "       idx  aq1_1  aq1_2  aq2_1  aq2_2  aq3_1  aq3_2  aq4_1  aq4_2  aq5_1  \\\n",
       "0        0      3      3      3      3      3      3      4      4      3   \n",
       "1        1      4      5      4      5      3      4      3      4      3   \n",
       "2        2      3      4      3      4      3      4      5      6      4   \n",
       "3        3      3      3      3      3      3      5      4      5      4   \n",
       "4        4      4      5      3      4      3      4      4      5      3   \n",
       "...    ...    ...    ...    ...    ...    ...    ...    ...    ...    ...   \n",
       "9481  9481      3      5      2      4      3      3      2      2      2   \n",
       "9482  9482      5      5      5      5      5      5      3      4      4   \n",
       "9483  9483      3      3      4      6      3      3      4      5      4   \n",
       "9484  9484      3      5      3      5      4      5      3      4      3   \n",
       "9485  9485      3      4      3      4      3      4      3      4      3   \n",
       "\n",
       "      ...                                      text_response  sim_job  \\\n",
       "0     ...                         자동차도장기능사 실무교육 생산 설비 자동화 없다       없다   \n",
       "1     ...                            건축전기설비기술사 건설 수주 드라이버 가위       없다   \n",
       "2     ...              건축전기설비기술사 신축 건설 경기 건축 설계 오토캐드 파이프 보일러       없다   \n",
       "3     ...                지적기사 측량 정보통신기술 교육 무량 감소 자동화 토탈 스테이션     지적기사   \n",
       "4     ...         건축전기설비기술사 부동산 거품 건축 경기도 덩달아 불황 캐드 엑셀 건축 도면       없다   \n",
       "...   ...                                                ...      ...   \n",
       "9481  ...  편집기술에 원리와 이해능력 출판 업무 특성 기획 업무 한글 편집 프로그램 포토샵 일...       없다   \n",
       "9482  ...  도면 작성 교육 전자 기초 이해 항공우주 분야 국가 경쟁력 위해 육성 전문 특수 정...       없다   \n",
       "9483  ...                                     건설 경기 볼트 리벳 없다   건설 노가대   \n",
       "9484  ...                                   공무원 인원 크게 변동 컴퓨터       없다   \n",
       "9485  ...                                    업체 경쟁 차량 관리 시스템       없다   \n",
       "\n",
       "      bef_job  able_job   major    description  bq6_mark  bq12_2_mark  \\\n",
       "0          없다  건설현장 노무직      실업    도장원(도장기조작원)         0            0   \n",
       "1           0         0    건축공학       건축설비 기술자         0            0   \n",
       "2           0         0    건축공학       건축설비 기술자         0            0   \n",
       "3           무     지적공무원    환경학과     지적 및 측량기술자         0            0   \n",
       "4           0         0    건축공학       건축설비 기술자         0            0   \n",
       "...       ...       ...     ...            ...       ...          ...   \n",
       "9481       없다     마케팅업무   산업디자인         출판물기획자         1            0   \n",
       "9482       없다        없다  우주항공공학        항공공학기술자         0            0   \n",
       "9483       없다        없다      기계  철골공(강구조물 건립원)         0            0   \n",
       "9484       없다        모름   문헌정보학          법원공무원         0            0   \n",
       "9485        0         0      전기         운송 관리자         1            0   \n",
       "\n",
       "      bq12_3_mark  bq12_4_mark  \n",
       "0               0            0  \n",
       "1               0            0  \n",
       "2               0            0  \n",
       "3               0            0  \n",
       "4               0            0  \n",
       "...           ...          ...  \n",
       "9481            0            0  \n",
       "9482            0            0  \n",
       "9483            0            0  \n",
       "9484            0            0  \n",
       "9485            0            0  \n",
       "\n",
       "[9486 rows x 155 columns]"
      ]
     },
     "execution_count": 2,
     "metadata": {},
     "output_type": "execute_result"
    }
   ],
   "source": [
    "know_train[0]"
   ]
  },
  {
   "cell_type": "code",
   "execution_count": 3,
   "metadata": {},
   "outputs": [],
   "source": [
    "word_dict_year = {}\n",
    "for i in range(4):\n",
    "    word_dict = {}\n",
    "\n",
    "    for sentence in know_train[i]['text_response']:\n",
    "        words = sentence.split()\n",
    "        for word in words:\n",
    "            if word in word_dict.keys():\n",
    "                word_dict[word] += 1\n",
    "            else:\n",
    "                word_dict[word] = 1\n",
    "\n",
    "    word_dict_year[i] = word_dict"
   ]
  },
  {
   "cell_type": "code",
   "execution_count": 4,
   "metadata": {},
   "outputs": [
    {
     "name": "stdout",
     "output_type": "stream",
     "text": [
      "[('없다', 7901), ('컴퓨터', 1741), ('증가', 1526), ('프로그램', 1324), ('감소', 921), ('때문', 713), ('수요', 665), ('대한', 654), ('엑셀', 643), ('자동화', 642), ('변화', 550), ('시스템', 531), ('교육', 492), ('도구', 470), ('사람', 456), ('기계', 438), ('산업', 423), ('자격증', 404), ('유지', 403), ('관련', 400)]\n",
      "[('없음', 2701), ('컴퓨터', 1432), ('증가', 1106), ('감소', 881), ('자동화', 718), ('변화', 693), ('엑셀', 650), ('때문', 536), ('프로그램', 534), ('사람', 492), ('교육', 483), ('없다', 445), ('수요', 442), ('대한', 416), ('인구', 397), ('일자리', 373), ('자격증', 369), ('관련', 326), ('업무', 321), ('PC', 316)]\n",
      "[('증가', 1308), ('교육', 1073), ('도입', 989), ('업무', 975), ('감소', 893), ('변화', 765), ('장비', 733), ('자동화', 707), ('기술', 696), ('기계', 629), ('공란', 608), ('프로그램', 605), ('대한', 529), ('개발', 485), ('대체', 454), ('시스템', 447), ('사람', 441), ('때문', 438), ('일자리', 427), ('관련', 400)]\n",
      "[('증가', 1259), ('감소', 980), ('변화', 811), ('자동화', 667), ('일자리', 601), ('업무', 556), ('교육', 538), ('기술', 535), ('도입', 534), ('수요', 479), ('시스템', 475), ('기계', 468), ('유지', 447), ('자격증', 408), ('사람', 405), ('개발', 405), ('대체', 398), ('발달', 386), ('장비', 382), ('경기', 376)]\n"
     ]
    }
   ],
   "source": [
    "for i in range(4):\n",
    "    word_dict = word_dict_year[i]\n",
    "    print(sorted(word_dict.items(), key=lambda x:x[1], reverse=True)[:20])"
   ]
  },
  {
   "cell_type": "code",
   "execution_count": 5,
   "metadata": {},
   "outputs": [
    {
     "name": "stdout",
     "output_type": "stream",
     "text": [
      "12590\n",
      "15650\n",
      "11393\n",
      "6886\n"
     ]
    }
   ],
   "source": [
    "for i in range(4):\n",
    "    print(len(word_dict_year[i]))"
   ]
  },
  {
   "cell_type": "code",
   "execution_count": 6,
   "metadata": {},
   "outputs": [],
   "source": [
    "import matplotlib.pyplot as plt\n",
    "import seaborn as sns\n",
    "\n",
    "from matplotlib import rc  \n",
    "rc('font', family='NanumGothic') \t\t\t\n",
    "plt.rcParams['axes.unicode_minus'] = False "
   ]
  },
  {
   "cell_type": "code",
   "execution_count": 7,
   "metadata": {},
   "outputs": [
    {
     "name": "stdout",
     "output_type": "stream",
     "text": [
      "[('지적기사', 1), ('정보통신기술', 1), ('거품', 1), ('경기도', 1), ('덩달아', 1), ('자유로운', 1), ('근무조건', 1), ('퍼티', 1), ('페이스', 1), ('항공교통관제관련교육', 1), ('위험관리사', 1), ('위험물취급메뉴얼숙지', 1), ('국경', 1), ('작성요령', 1), ('산업안전산업기사이상', 1), ('작업상', 1), ('지식공부', 1), ('GA', 1), ('Analyeics', 1), ('자료조사', 1)]\n",
      "[('세라믹', 1), ('지르크니아', 1), ('치카공', 1), ('독학', 1), ('서브라임텍스트', 1), ('틀니', 1), ('인플란트등', 1), ('니켈', 1), ('크롬', 1), ('코발트', 1), ('engine', 1), ('진료준비', 1), ('진료스킬', 1), ('제작이론', 1), ('활용을', 1), ('분업', 1), ('단백질', 1), ('펩타이드', 1), ('proteome', 1), ('discoverer_바이오이미징분석', 1)]\n",
      "[('전동차정비원', 1), ('전동차', 1), ('특수장비면허증', 1), ('기상캐스터', 1), ('전기철도차량정비기사', 1), ('희망이', 1), ('CG제작', 1), ('버거', 1), ('그거', 1), ('분담', 1), ('패스트푸드', 1), ('사량', 1), ('CATIA', 1), ('메커니즘', 1), ('문제확인', 1), ('단점', 1), ('꼼꼼함과', 1), ('투여', 1), ('불가분', 1), ('위험물관련기사', 1)]\n",
      "[('기초보건교육', 1), ('가의', 1), ('처방', 1), ('헤어미용사자격증', 1), ('손님응대', 1), ('전문학교', 1), ('에어컨', 1), ('아이들을', 1), ('사랑하는', 1), ('도시계획서', 1), ('수소차', 1), ('공조냉동기계', 1), ('에너지산업관리기사', 1), ('불가분', 1), ('재활치료', 1), ('영상촬영교육', 1), ('조화로', 1), ('웨딩사진', 1), ('관광통역과', 1), ('국내여행', 1)]\n"
     ]
    }
   ],
   "source": [
    "for i in range(4):\n",
    "    word_dict = word_dict_year[i]\n",
    "    print(sorted(word_dict.items(), key=lambda x:x[1])[:20])"
   ]
  },
  {
   "cell_type": "code",
   "execution_count": 8,
   "metadata": {},
   "outputs": [
    {
     "name": "stderr",
     "output_type": "stream",
     "text": [
      "findfont: Font family ['NanumGothic'] not found. Falling back to DejaVu Sans.\n",
      "findfont: Font family ['NanumGothic'] not found. Falling back to DejaVu Sans.\n"
     ]
    },
    {
     "data": {
      "image/png": "[encoded data removed]",
      "text/plain": [
       "<Figure size 864x576 with 4 Axes>"
      ]
     },
     "metadata": {
      "needs_background": "light"
     },
     "output_type": "display_data"
    }
   ],
   "source": [
    "fig, axes = plt.subplots(2, 2, figsize=(12, 8))\n",
    "for i, year in enumerate(years):\n",
    "    if year == '2017': r,c = 0,0\n",
    "    elif year == '2018': r,c = 0,1\n",
    "    elif year == '2019': r,c = 1,0\n",
    "    elif year == '2020': r,c = 1,1\n",
    "\n",
    "    word_dict = word_dict_year[i]\n",
    "    axes[r,c].plot(sorted(word_dict.values(), reverse=True))\n",
    "    axes[r,c].set_title(year)\n",
    "fig.show()"
   ]
  },
  {
   "cell_type": "code",
   "execution_count": 9,
   "metadata": {},
   "outputs": [
    {
     "data": {
      "image/png": "[encoded data removed]",
      "text/plain": [
       "<Figure size 864x576 with 4 Axes>"
      ]
     },
     "metadata": {
      "needs_background": "light"
     },
     "output_type": "display_data"
    }
   ],
   "source": [
    "fig, axes = plt.subplots(2, 2, figsize=(12, 8))\n",
    "for i, year in enumerate(years):\n",
    "    if year == '2017': r,c = 0,0\n",
    "    elif year == '2018': r,c = 0,1\n",
    "    elif year == '2019': r,c = 1,0\n",
    "    elif year == '2020': r,c = 1,1\n",
    "\n",
    "    word_dict = word_dict_year[i]\n",
    "    axes[r,c].plot(sorted(word_dict.values(), reverse=True)[1000:])\n",
    "    axes[r,c].set_title(year)\n",
    "fig.show()"
   ]
  },
  {
   "cell_type": "code",
   "execution_count": 10,
   "metadata": {},
   "outputs": [
    {
     "data": {
      "image/png": "[encoded data removed]",
      "text/plain": [
       "<Figure size 864x576 with 4 Axes>"
      ]
     },
     "metadata": {
      "needs_background": "light"
     },
     "output_type": "display_data"
    }
   ],
   "source": [
    "fig, axes = plt.subplots(2, 2, figsize=(12, 8))\n",
    "for i, year in enumerate(years):\n",
    "    if year == '2017': r,c = 0,0\n",
    "    elif year == '2018': r,c = 0,1\n",
    "    elif year == '2019': r,c = 1,0\n",
    "    elif year == '2020': r,c = 1,1\n",
    "\n",
    "    word_dict = word_dict_year[i]\n",
    "    axes[r,c].plot(sorted(word_dict.values(), reverse=True)[:150])\n",
    "    axes[r,c].set_title(year)\n",
    "fig.show()"
   ]
  },
  {
   "cell_type": "code",
   "execution_count": 11,
   "metadata": {},
   "outputs": [
    {
     "data": {
      "image/png": "[encoded data removed]",
      "text/plain": [
       "<Figure size 864x576 with 4 Axes>"
      ]
     },
     "metadata": {
      "needs_background": "light"
     },
     "output_type": "display_data"
    }
   ],
   "source": [
    "fig, axes = plt.subplots(2, 2, figsize=(12, 8))\n",
    "for i, year in enumerate(years):\n",
    "    if year == '2017': r,c = 0,0\n",
    "    elif year == '2018': r,c = 0,1\n",
    "    elif year == '2019': r,c = 1,0\n",
    "    elif year == '2020': r,c = 1,1\n",
    "\n",
    "    word_dict = word_dict_year[i]\n",
    "    axes[r,c].plot(sorted(word_dict.values(), reverse=True)[1:20])\n",
    "    axes[r,c].set_title(year)\n",
    "fig.show()"
   ]
  },
  {
   "cell_type": "markdown",
   "metadata": {},
   "source": [
    "# Preprocessing Idea\n",
    "\n",
    "* `text_response` column을 \\[`keyword`, `없음_count` \\]로 분리"
   ]
  },
  {
   "cell_type": "code",
   "execution_count": 12,
   "metadata": {},
   "outputs": [],
   "source": [
    "from collections import Counter"
   ]
  },
  {
   "cell_type": "markdown",
   "metadata": {},
   "source": [
    "## find stop words manually"
   ]
  },
  {
   "cell_type": "code",
   "execution_count": 13,
   "metadata": {},
   "outputs": [],
   "source": [
    "stop_words = set()"
   ]
  },
  {
   "cell_type": "code",
   "execution_count": 14,
   "metadata": {},
   "outputs": [
    {
     "name": "stdout",
     "output_type": "stream",
     "text": [
      "[('없다', 7901), ('컴퓨터', 1741), ('증가', 1526), ('프로그램', 1324), ('감소', 921), ('때문', 713), ('수요', 665), ('대한', 654), ('엑셀', 643), ('자동화', 642), ('변화', 550), ('시스템', 531), ('교육', 492), ('도구', 470), ('사람', 456), ('기계', 438), ('산업', 423), ('자격증', 404), ('유지', 403), ('관련', 400), ('업무', 394), ('경기', 388), ('일자리', 384), ('관심', 377), ('장비', 366), ('계속', 359), ('인구', 358), ('발달', 355), ('없음', 345), ('인력', 339), ('발전', 332), ('기술', 329), ('포토샵', 322), ('전산', 310), ('관리', 305), ('훈련', 292), ('공구', 274), ('필요', 266), ('직업', 256), ('침체', 255), ('장갑', 246), ('분석', 235), ('대체', 232), ('분야', 231), ('개발', 229), ('캐드', 228), ('학생', 221), ('건설', 213), ('가위', 210), ('안전교육', 199), ('한글', 197), ('시장', 195), ('환경', 188), ('워드', 183), ('추세', 180), ('드라이버', 179), ('안전', 174), ('파워포인트', 173), ('기계화', 168), ('노트북', 165), ('사회', 164), ('인터넷', 162), ('직무교육', 153), ('확대', 148), ('일러스트', 147), ('생산', 146), ('작업', 146), ('기기', 145), ('상태', 142), ('기구', 138), ('업종', 134), ('마이크', 133), ('방송', 132), ('수가', 132), ('현상', 131), ('인원', 131), ('도면', 130), ('정보', 130), ('연구', 128), ('교재', 128), ('측정기', 127), ('의료', 126), ('인공', 124), ('정책', 124), ('단기', 124), ('디자인', 124), ('실험', 123), ('지능', 122), ('전기', 120), ('선호', 119), ('제품', 119), ('문화', 118), ('예상', 118), ('지속', 117), ('시설', 117), ('정부', 115), ('서비스', 113), ('사업', 111), ('숙지', 104), ('자동차', 104), ('이해', 103), ('고객', 103), ('불황', 102), ('고령화', 102), ('현재', 101), ('카메라', 99), ('전기기사', 99), ('오피스', 99), ('기업', 99), ('환자', 98), ('통계', 98), ('변동', 98), ('자료', 97), ('사용', 96), ('상품', 96), ('크게', 96), ('무전기', 94), ('업체', 94), ('이용', 93), ('영향', 92), ('망치', 92), ('볼펜', 91), ('포화상태', 91), ('실무교육', 90), ('정보처리기사', 90), ('인식', 90), ('활성화', 90), ('전화기', 90), ('습득', 89), ('것이므', 89), ('전문의', 89), ('기피', 88), ('검사', 88), ('설비', 87), ('방법', 87), ('공급', 87), ('치료', 86), ('필기', 85), ('현미경', 84), ('설계', 83), ('청진기', 83), ('의상', 82), ('부분', 81), ('건강', 81), ('화로', 80), ('드릴', 80), ('회계', 79), ('이기', 78), ('전문', 77), ('고용', 77)]\n"
     ]
    }
   ],
   "source": [
    "# 2017\n",
    "print(sorted(word_dict_year[0].items(), key=lambda x:x[1], reverse=True)[:150])"
   ]
  },
  {
   "cell_type": "code",
   "execution_count": 15,
   "metadata": {},
   "outputs": [],
   "source": [
    "stop_words.update(\n",
    "    set('''\n",
    "없다 증가 없음 감소 때문 수요 대한 모름 도구 사람 산업 관련 유지 업무 일자리 관심\n",
    "계속 인력 발달 발전 필요 직업 분야 대체 환경 추세 사회 확대 상태 이용 것이므 사용\n",
    "'''.split())\n",
    ")"
   ]
  },
  {
   "cell_type": "code",
   "execution_count": 16,
   "metadata": {},
   "outputs": [
    {
     "name": "stdout",
     "output_type": "stream",
     "text": [
      "[('없음', 2701), ('컴퓨터', 1432), ('증가', 1106), ('감소', 881), ('자동화', 718), ('변화', 693), ('엑셀', 650), ('때문', 536), ('프로그램', 534), ('사람', 492), ('교육', 483), ('없다', 445), ('수요', 442), ('대한', 416), ('인구', 397), ('일자리', 373), ('자격증', 369), ('관련', 326), ('업무', 321), ('PC', 316), ('산업', 310), ('경기', 301), ('인력', 299), ('기계', 297), ('발전', 284), ('시스템', 275), ('기술', 275), ('발달', 271), ('포토샵', 252), ('계속', 233), ('한글', 226), ('파워포인트', 212), ('의사면허증', 208), ('직업', 197), ('훈련', 189), ('유지', 189), ('개발', 180), ('관심', 176), ('침체', 172), ('분야', 167), ('워드', 154), ('캐드', 147), ('필요', 147), ('예상', 146), ('안전교육', 146), ('기계화', 145), ('시장', 144), ('대체', 143), ('건설', 136), ('환경', 134), ('실무교육', 133), ('인터넷', 133), ('사회', 132), ('가위', 129), ('전문의', 128), ('드라이버', 128), ('노트북', 127), ('업체', 125), ('전산', 125), ('마이크', 124), ('CAD', 121), ('추세', 117), ('사업', 117), ('현재', 115), ('이해', 115), ('현상', 115), ('학생', 114), ('인원', 111), ('ERP', 110), ('인공', 109), ('지능', 107), ('생각', 106), ('모름', 105), ('공구', 105), ('확대', 103), ('분석', 102), ('점점', 101), ('연구', 100), ('서비스', 100), ('자동차', 98), ('기능사', 98), ('실무', 97), ('업종', 96), ('직무교육', 96), ('안전', 96), ('사용', 96), ('관리', 95), ('장비', 93), ('지금', 93), ('지식', 91), ('고객', 91), ('일러스트', 91), ('정보처리기사', 89), ('갈수록', 89), ('전기기사', 88), ('이기', 88), ('직종', 87), ('온라인', 87), ('디자인', 86), ('문화', 86), ('망치', 84), ('축소', 83), ('생산', 83), ('드릴', 81), ('장갑', 80), ('크게', 79), ('시대', 79), ('고령화', 78), ('작업', 78), ('사내', 77), ('숙지', 77), ('절단기', 76), ('무전기', 76), ('제품', 75), ('전기', 73), ('불황', 71), ('필기도구', 71), ('오피스', 71), ('전산프로그램', 70), ('정책', 69), ('공급', 68), ('능력', 68), ('습득', 67), ('부분', 67), ('시설', 67), ('방송', 67), ('변동', 66), ('운전면허증', 66), ('설비', 66), ('오토캐드', 66), ('지속', 66), ('수가', 66), ('감축', 66), ('설계', 64), ('해당없음', 64), ('산업기사', 63), ('더존', 63), ('2급', 63), ('부족', 61), ('카메라', 61), ('이용', 61), ('청진기', 60), ('정부', 60), ('기업', 60), ('전문', 59), ('도구', 59), ('경제', 58), ('MS오피스', 58), ('도입', 57), ('현미경', 56)]\n"
     ]
    }
   ],
   "source": [
    "# 2018\n",
    "print(sorted(word_dict_year[1].items(), key=lambda x:x[1], reverse=True)[:150])"
   ]
  },
  {
   "cell_type": "code",
   "execution_count": 17,
   "metadata": {},
   "outputs": [],
   "source": [
    "stop_words.update(\n",
    "    set('''\n",
    "없음 증가 감소 때문 사람 없다 대한 일자리 관련 업무 필요 예상 생각 모름 점점\n",
    "갈수록 이기 크게 시대작업 능력 습득 부분\n",
    "'''.split())\n",
    ")"
   ]
  },
  {
   "cell_type": "code",
   "execution_count": 18,
   "metadata": {},
   "outputs": [
    {
     "name": "stdout",
     "output_type": "stream",
     "text": [
      "[('증가', 1308), ('교육', 1073), ('도입', 989), ('업무', 975), ('감소', 893), ('변화', 765), ('장비', 733), ('자동화', 707), ('기술', 696), ('기계', 629), ('공란', 608), ('프로그램', 605), ('대한', 529), ('개발', 485), ('대체', 454), ('시스템', 447), ('사람', 441), ('때문', 438), ('일자리', 427), ('관련', 400), ('인력', 378), ('수요', 373), ('인구', 372), ('자격증', 357), ('발달', 333), ('필요', 266), ('산업', 251), ('컴퓨터', 250), ('경기', 247), ('사용', 239), ('발전', 235), ('안전교육', 222), ('전산', 219), ('관리', 214), ('계속', 211), ('분석', 207), ('서비스', 201), ('인원', 200), ('환경', 193), ('인공', 181), ('지능', 180), ('직업', 176), ('생각', 173), ('예상', 161), ('침체', 158), ('기계화', 158), ('훈련', 156), ('관심', 156), ('인터넷', 155), ('작업', 143), ('신규', 137), ('제품', 127), ('생산', 126), ('분야', 123), ('활용', 122), ('안전', 120), ('설비', 119), ('부분', 118), ('시장', 115), ('방법', 115), ('전기기사', 109), ('정보처리기사', 109), ('사업', 108), ('현재', 108), ('변경', 107), ('연구', 105), ('건설', 103), ('스트레스', 100), ('온라인', 99), ('유지', 99), ('추세', 98), ('기능사', 98), ('향상', 97), ('학생', 97), ('실무', 96), ('부족', 91), ('점점', 90), ('확대', 90), ('감축', 90), ('업체', 89), ('무량', 89), ('지식', 89), ('상품', 89), ('이용', 88), ('이해', 87), ('추가', 86), ('방송', 86), ('증대', 85), ('판매', 85), ('디자인', 85), ('회사', 84), ('진행', 84), ('면허증', 83), ('사회', 83), ('업종', 83), ('시설', 83), ('로봇', 83), ('숙지', 81), ('기업', 81), ('고객', 81), ('구조조정', 81), ('기기', 81), ('지속', 80), ('기사', 80), ('시대', 80), ('처리', 79), ('실무교육', 79), ('요구', 78), ('토목기사', 78), ('정보', 77), ('문화', 74), ('기존', 74), ('정비', 74), ('산업기사', 74), ('고령화', 74), ('위해', 73), ('습득', 73), ('능력', 73), ('환자', 72), ('수가', 72), ('적용', 71), ('경우', 71), ('전문', 71), ('데이터', 71), ('대신', 70), ('기계로', 70), ('제작', 69), ('자동차', 68), ('전기', 68), ('운전면허증', 67), ('불황', 66), ('교체', 66), ('의사면허증', 65), ('과정', 65), ('빅데이터', 64), ('의사', 64), ('화로', 64), ('조직', 63), ('영상', 63), ('크게', 63), ('발생', 63), ('현장', 63), ('미디어', 63), ('근무', 63), ('갈수록', 62), ('필요성', 62), ('이기', 62), ('구조', 61), ('운영', 61), ('일이', 61)]\n"
     ]
    }
   ],
   "source": [
    "# 2019\n",
    "print(sorted(word_dict_year[2].items(), key=lambda x:x[1], reverse=True)[:150])"
   ]
  },
  {
   "cell_type": "code",
   "execution_count": 19,
   "metadata": {},
   "outputs": [],
   "source": [
    "stop_words.update(\n",
    "    set('''\n",
    "증가 도입 공란 대한 대체 때문 일자리 관련 필요 사용 발전 직업 생각 예상\n",
    "분야 활용 부분 변경 상품 이용 이해 추가 증대 추세 실무 점점 진행 사회\n",
    "업종 숙지 기존 위해 경우 대신 과정 조직 발생 이기 갈수록 일이 근무\n",
    "'''.split())\n",
    ")"
   ]
  },
  {
   "cell_type": "code",
   "execution_count": 20,
   "metadata": {},
   "outputs": [
    {
     "name": "stdout",
     "output_type": "stream",
     "text": [
      "[('증가', 1259), ('감소', 980), ('변화', 811), ('자동화', 667), ('일자리', 601), ('업무', 556), ('교육', 538), ('기술', 535), ('도입', 534), ('수요', 479), ('시스템', 475), ('기계', 468), ('유지', 447), ('자격증', 408), ('사람', 405), ('개발', 405), ('대체', 398), ('발달', 386), ('장비', 382), ('경기', 376), ('인력', 368), ('때문', 322), ('인구', 297), ('산업', 295), ('대한', 291), ('상태', 254), ('침체', 245), ('프로그램', 241), ('관심', 238), ('발전', 231), ('전산', 220), ('계속', 216), ('훈련', 199), ('관련', 184), ('환경', 180), ('코로나', 175), ('컴퓨터', 173), ('직업', 171), ('지능', 162), ('예상', 160), ('인공', 158), ('상황', 158), ('분야', 157), ('필요', 154), ('건설', 150), ('변동', 147), ('관리', 140), ('인터넷', 129), ('직무교육', 127), ('산업기사', 126), ('기계화', 126), ('영향', 122), ('인원', 120), ('작업', 120), ('사회', 119), ('사용', 116), ('서비스', 114), ('불가', 113), ('시장', 109), ('현재', 107), ('온라인', 106), ('불황', 103), ('설비', 100), ('기업', 98), ('생각', 97), ('지금', 95), ('이용', 93), ('로봇', 93), ('사업', 92), ('화로', 92), ('실무', 91), ('생산', 91), ('확대', 91), ('의사', 91), ('직종', 91), ('추세', 88), ('문화', 86), ('안전교육', 86), ('구조조정', 85), ('안전', 84), ('분석', 84), ('향상', 82), ('상품', 81), ('지속', 80), ('고객', 80), ('선호', 79), ('제품', 78), ('현장', 76), ('건강', 76), ('갈수록', 76), ('것이므', 75), ('경제', 75), ('의료', 75), ('연구', 74), ('수가', 74), ('일이', 73), ('점점', 71), ('기기', 71), ('고용', 70), ('시설', 70), ('업체', 70), ('활성화', 69), ('방법', 69), ('감축', 68), ('실무교육', 68), ('한정', 68), ('전기기능사', 68), ('업종', 67), ('기능사', 66), ('대신', 66), ('고령화', 64), ('레지던트', 64), ('전기기사', 63), ('위해', 63), ('방송', 63), ('시대', 62), ('2급', 61), ('자동차', 60), ('건축', 60), ('크게', 59), ('부분', 59), ('기능', 58), ('학생', 58), ('활용', 57), ('자동', 57), ('다양', 57), ('해외', 56), ('구조', 55), ('첨단', 55), ('소비', 54), ('통신', 54), ('축소', 53), ('스트레스', 53), ('정보', 53), ('소프트웨어', 52), ('전문의', 52), ('비대', 51), ('기피', 51), ('필요성', 50), ('정비', 50), ('기술사', 50), ('과정', 49), ('출산율', 48), ('면허증', 48), ('정보처리기사', 48), ('중요성', 48), ('성장', 48), ('전기', 47), ('박사학위', 47), ('문제', 47)]\n"
     ]
    }
   ],
   "source": [
    "# 2020\n",
    "print(sorted(word_dict_year[3].items(), key=lambda x:x[1], reverse=True)[:150])"
   ]
  },
  {
   "cell_type": "code",
   "execution_count": 21,
   "metadata": {},
   "outputs": [],
   "source": [
    "stop_words.update(\n",
    "    set('''\n",
    "업무 때문 대한 상태 관심 계속 관련 예상 상황 분야 필요 현재 지금 선호 점점 고용 한정 대신\n",
    "시대 크게 부분 다양 중요성 문제\n",
    "'''.split())\n",
    ")"
   ]
  },
  {
   "cell_type": "code",
   "execution_count": 22,
   "metadata": {},
   "outputs": [
    {
     "name": "stdout",
     "output_type": "stream",
     "text": [
      "{'직업', '과정', '크게', '산업', '발전', '이용', '다양', '일자리', '상품', '없음', '선호', '모름', '추가', '경우', '것이므', '사람', '관련', '감소', '증대', '고용', '현재', '관심', '대한', '이해', '문제', '일이', '계속', '예상', '점점', '도입', '조직', '인력', '습득', '근무', '필요', '진행', '공란', '지금', '분야', '실무', '변경', '부분', '수요', '발생', '능력', '확대', '시대작업', '갈수록', '활용', '유지', '업무', '사회', '중요성', '업종', '이기', '없다', '대신', '숙지', '한정', '환경', '때문', '시대', '대체', '증가', '위해', '상태', '도구', '사용', '발달', '기존', '생각', '추세', '상황'}\n"
     ]
    }
   ],
   "source": [
    "print(stop_words)"
   ]
  },
  {
   "cell_type": "code",
   "execution_count": 23,
   "metadata": {},
   "outputs": [
    {
     "name": "stdout",
     "output_type": "stream",
     "text": [
      "2017\n",
      "Words not selected: 73\n",
      "Words selected:  151\n",
      "df size after preprocessing: (9486 x 306)\n",
      "2018\n",
      "Words not selected: 73\n",
      "Words selected:  148\n",
      "df size after preprocessing: (9072 x 278)\n",
      "2019\n",
      "Words not selected: 73\n",
      "Words selected:  139\n",
      "df size after preprocessing: (8555 x 291)\n",
      "2020\n",
      "Words not selected: 73\n",
      "Words selected:  143\n",
      "df size after preprocessing: (8122 x 328)\n"
     ]
    }
   ],
   "source": [
    "for i, year in enumerate(years):\n",
    "    print(year)\n",
    "    selection_size = 200\n",
    "    word_dict = word_dict_year[i]\n",
    "    selected_words = [x[0] for x in sorted(word_dict.items(), reverse=True, key=lambda x:x[1])[:selection_size]]\n",
    "    selected_words = list(set(selected_words) - stop_words)\n",
    "\n",
    "    print(\"Words not selected:\", len(stop_words))\n",
    "    print(\"Words selected: \", len(selected_words))\n",
    "    print(f\"df size after preprocessing: ({know_train[i].shape[0]} x {know_train[i].shape[1] + len(selected_words)})\")"
   ]
  },
  {
   "cell_type": "code",
   "execution_count": 24,
   "metadata": {},
   "outputs": [
    {
     "name": "stdout",
     "output_type": "stream",
     "text": [
      "2017\n",
      "2018\n",
      "2019\n",
      "2020\n"
     ]
    }
   ],
   "source": [
    "for i in range(4):\n",
    "    print(years[i])\n",
    "    data_path = f'../data_0120/train/KNOW_{2017+i}.csv'\n",
    "    word_dict = word_dict_year[i]\n",
    "    selected_words = [x[0] for x in sorted(word_dict.items(), reverse=True, key=lambda x:x[1])[:selection_size]]\n",
    "    selected_words = list(set(selected_words) - stop_words)\n",
    "    \n",
    "    text_col_dict = {}\n",
    "    for word in selected_words:\n",
    "        text_col_dict[word] = []\n",
    "\n",
    "    for text in know_train[i]['text_response']: # O(rows)\n",
    "        words = text.split()\n",
    "        for selected_word in selected_words: # O(n) n = 150\n",
    "            if selected_word in words:\n",
    "                text_col_dict[selected_word].append(1)\n",
    "            else:\n",
    "                text_col_dict[selected_word].append(0)\n",
    "\n",
    "    text_df = pd.DataFrame(text_col_dict)\n",
    "    text_df['idx'] = know_train[i]['idx']\n",
    "\n",
    "    df = pd.merge(know_train[i], text_df, \n",
    "        left_on='idx', right_on='idx'\n",
    "    )\n",
    "    ubda_cnt_dict = []\n",
    "\n",
    "    for text in know_train[i]['text_response']: # O(rows) rows = 9486\n",
    "        words = text.split()\n",
    "        counter = Counter(words)\n",
    "        ubda_cnt_dict.append(counter['없다'] + counter['없음'] + counter['모름'] + counter['공란'])\n",
    "\n",
    "    df['ubda_cnt'] = pd.Series(ubda_cnt_dict)\n",
    "    \n",
    "    new_cols = df.columns.tolist()\n",
    "    new_cols.remove('text_response')\n",
    "    new_cols.remove('knowcode')\n",
    "\n",
    "    df[new_cols + ['knowcode']].to_csv(data_path, index=False)"
   ]
  },
  {
   "cell_type": "code",
   "execution_count": 25,
   "metadata": {},
   "outputs": [],
   "source": [
    "PATH_2017 = DATA_PATH + \"test/KNOW_2017_test.csv\"\n",
    "PATH_2018 = DATA_PATH + \"test/KNOW_2018_test.csv\"\n",
    "PATH_2019 = DATA_PATH + \"test/KNOW_2019_test.csv\"\n",
    "PATH_2020 = DATA_PATH + \"test/KNOW_2020_test.csv\"\n",
    "\n",
    "paths = [PATH_2017, PATH_2018, PATH_2019, PATH_2020]\n",
    "\n",
    "know_test = [pd.read_csv(path) for path in paths]"
   ]
  },
  {
   "cell_type": "code",
   "execution_count": 26,
   "metadata": {},
   "outputs": [
    {
     "name": "stdout",
     "output_type": "stream",
     "text": [
      "2017\n",
      "2018\n",
      "2019\n",
      "2020\n"
     ]
    }
   ],
   "source": [
    "for i in range(4):\n",
    "    print(years[i])\n",
    "    data_path = f'../data_0120/test/KNOW_{2017+i}_test.csv'\n",
    "    word_dict = word_dict_year[i]\n",
    "    selected_words = [x[0] for x in sorted(word_dict.items(), reverse=True, key=lambda x:x[1])[:selection_size]]\n",
    "    selected_words = list(set(selected_words) - stop_words)\n",
    "    text_col_dict = {}\n",
    "    for word in selected_words:\n",
    "        text_col_dict[word] = []\n",
    "\n",
    "    for text in know_test[i]['text_response']: # O(rows)\n",
    "        words = text.split()\n",
    "        for selected_word in selected_words: # O(n) n = 150\n",
    "            if selected_word in words:\n",
    "                text_col_dict[selected_word].append(1)\n",
    "            else:\n",
    "                text_col_dict[selected_word].append(0)\n",
    "\n",
    "    text_df = pd.DataFrame(text_col_dict)\n",
    "    text_df['idx'] = know_test[i]['idx']\n",
    "\n",
    "    df = pd.merge(know_test[i], text_df, \n",
    "        left_on='idx', right_on='idx'\n",
    "    )\n",
    "    ubda_cnt_dict = []\n",
    "\n",
    "    for text in know_test[0]['text_response']: # O(rows) rows = 9486\n",
    "        words = text.split()\n",
    "        counter = Counter(words)\n",
    "        ubda_cnt_dict.append(counter['없다'] + counter['없음'] + counter['모름'] + counter['공란'])\n",
    "\n",
    "    df['ubda_cnt'] = pd.Series(ubda_cnt_dict)\n",
    "    \n",
    "    new_cols = df.columns.tolist()\n",
    "    new_cols.remove('text_response')\n",
    "\n",
    "    df[new_cols].to_csv(data_path, index=False)"
   ]
  },
  {
   "cell_type": "code",
   "execution_count": null,
   "metadata": {},
   "outputs": [],
   "source": []
  }
 ],
 "metadata": {
  "interpreter": {
   "hash": "0013f6b8b877ceb5a87410fb2eb4381e03ef70741d03c75e6783c98d6b327580"
  },
  "kernelspec": {
   "display_name": "Python 3.10.1 64-bit ('dacon-know': conda)",
   "language": "python",
   "name": "python3"
  },
  "language_info": {
   "codemirror_mode": {
    "name": "ipython",
    "version": 3
   },
   "file_extension": ".py",
   "mimetype": "text/x-python",
   "name": "python",
   "nbconvert_exporter": "python",
   "pygments_lexer": "ipython3",
   "version": "3.9.7"
  },
  "orig_nbformat": 4
 },
 "nbformat": 4,
 "nbformat_minor": 2
}
