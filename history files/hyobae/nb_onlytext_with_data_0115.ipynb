{
 "cells": [
  {
   "cell_type": "markdown",
   "metadata": {},
   "source": [
    "# Train데이터 불러오기\n",
    "\n",
    "각 년도별 DataFrame을 리스트에 append합니다.\n",
    "\n",
    "리스트 인덱스별로\n",
    "\n",
    "0: 2017년도 데이터   \n",
    "\n",
    "1: 2018년도 데이터 \n",
    "\n",
    "2: 2019년도 데이터 \n",
    "\n",
    "3: 202년도 데이터 \n",
    "\n",
    "입니다"
   ]
  },
  {
   "cell_type": "code",
   "execution_count": 1,
   "metadata": {},
   "outputs": [],
   "source": [
    "import pandas as pd\n",
    "import numpy as np\n",
    "from glob import glob\n",
    "\n",
    "from tqdm import tqdm\n",
    "import warnings\n",
    "\n",
    "import matplotlib.pyplot as plt\n",
    "import seaborn as sns\n",
    "\n",
    "RANDOM_STATE = 42\n",
    "np.seed = 42\n",
    "DATA_PATH = \"../data_0115/\"\n",
    "\n",
    "warnings.filterwarnings(action='ignore')\n",
    "PATH_2017 = DATA_PATH + \"train/KNOW_2017.csv\"\n",
    "PATH_2018 = DATA_PATH + \"train/KNOW_2018.csv\"\n",
    "PATH_2019 = DATA_PATH + \"train/KNOW_2019.csv\"\n",
    "PATH_2020 = DATA_PATH + \"train/KNOW_2020.csv\"\n",
    "\n",
    "paths = [PATH_2017, PATH_2018, PATH_2019, PATH_2020]\n",
    "\n",
    "know_train = [pd.read_csv(path) for path in paths]"
   ]
  },
  {
   "cell_type": "code",
   "execution_count": 2,
   "metadata": {},
   "outputs": [
    {
     "data": {
      "text/html": [
       "<div>\n",
       "<style scoped>\n",
       "    .dataframe tbody tr th:only-of-type {\n",
       "        vertical-align: middle;\n",
       "    }\n",
       "\n",
       "    .dataframe tbody tr th {\n",
       "        vertical-align: top;\n",
       "    }\n",
       "\n",
       "    .dataframe thead th {\n",
       "        text-align: right;\n",
       "    }\n",
       "</style>\n",
       "<table border=\"1\" class=\"dataframe\">\n",
       "  <thead>\n",
       "    <tr style=\"text-align: right;\">\n",
       "      <th></th>\n",
       "      <th>text_response</th>\n",
       "      <th>knowcode</th>\n",
       "    </tr>\n",
       "  </thead>\n",
       "  <tbody>\n",
       "    <tr>\n",
       "      <th>0</th>\n",
       "      <td>자동차도장기능사 실무교육 생산 설비 자동화 없다</td>\n",
       "      <td>825101</td>\n",
       "    </tr>\n",
       "    <tr>\n",
       "      <th>1</th>\n",
       "      <td>건축전기설비기술사 건설 수주 드라이버 가위</td>\n",
       "      <td>140204</td>\n",
       "    </tr>\n",
       "    <tr>\n",
       "      <th>2</th>\n",
       "      <td>건축전기설비기술사 신축 건설 경기 건축 설계 오토캐드 파이프 보일러</td>\n",
       "      <td>140204</td>\n",
       "    </tr>\n",
       "    <tr>\n",
       "      <th>3</th>\n",
       "      <td>지적기사 측량 정보통신기술 교육 무량 감소 자동화 토탈 스테이션</td>\n",
       "      <td>140601</td>\n",
       "    </tr>\n",
       "    <tr>\n",
       "      <th>4</th>\n",
       "      <td>건축전기설비기술사 부동산 거품 건축 경기도 덩달아 불황 캐드 엑셀 건축 도면</td>\n",
       "      <td>140204</td>\n",
       "    </tr>\n",
       "    <tr>\n",
       "      <th>...</th>\n",
       "      <td>...</td>\n",
       "      <td>...</td>\n",
       "    </tr>\n",
       "    <tr>\n",
       "      <th>9481</th>\n",
       "      <td>편집기술에 원리와 이해능력 출판 업무 특성 기획 업무 한글 편집 프로그램 포토샵 일...</td>\n",
       "      <td>411301</td>\n",
       "    </tr>\n",
       "    <tr>\n",
       "      <th>9482</th>\n",
       "      <td>도면 작성 교육 전자 기초 이해 항공우주 분야 국가 경쟁력 위해 육성 전문 특수 정...</td>\n",
       "      <td>151105</td>\n",
       "    </tr>\n",
       "    <tr>\n",
       "      <th>9483</th>\n",
       "      <td>건설 경기 볼트 리벳 없다</td>\n",
       "      <td>701101</td>\n",
       "    </tr>\n",
       "    <tr>\n",
       "      <th>9484</th>\n",
       "      <td>공무원 인원 크게 변동 컴퓨터</td>\n",
       "      <td>25402</td>\n",
       "    </tr>\n",
       "    <tr>\n",
       "      <th>9485</th>\n",
       "      <td>업체 경쟁 차량 관리 시스템</td>\n",
       "      <td>15201</td>\n",
       "    </tr>\n",
       "  </tbody>\n",
       "</table>\n",
       "<p>9486 rows × 2 columns</p>\n",
       "</div>"
      ],
      "text/plain": [
       "                                          text_response  knowcode\n",
       "0                            자동차도장기능사 실무교육 생산 설비 자동화 없다    825101\n",
       "1                               건축전기설비기술사 건설 수주 드라이버 가위    140204\n",
       "2                 건축전기설비기술사 신축 건설 경기 건축 설계 오토캐드 파이프 보일러    140204\n",
       "3                   지적기사 측량 정보통신기술 교육 무량 감소 자동화 토탈 스테이션    140601\n",
       "4            건축전기설비기술사 부동산 거품 건축 경기도 덩달아 불황 캐드 엑셀 건축 도면    140204\n",
       "...                                                 ...       ...\n",
       "9481  편집기술에 원리와 이해능력 출판 업무 특성 기획 업무 한글 편집 프로그램 포토샵 일...    411301\n",
       "9482  도면 작성 교육 전자 기초 이해 항공우주 분야 국가 경쟁력 위해 육성 전문 특수 정...    151105\n",
       "9483                                     건설 경기 볼트 리벳 없다    701101\n",
       "9484                                   공무원 인원 크게 변동 컴퓨터     25402\n",
       "9485                                    업체 경쟁 차량 관리 시스템     15201\n",
       "\n",
       "[9486 rows x 2 columns]"
      ]
     },
     "execution_count": 2,
     "metadata": {},
     "output_type": "execute_result"
    }
   ],
   "source": [
    "know_train[0][['text_response', 'knowcode']] # 2017년도 샘플"
   ]
  },
  {
   "cell_type": "markdown",
   "metadata": {},
   "source": [
    "# 전처리 \n",
    "\n",
    "`text_response`를 거대한 column으로 만듭니다.  \n",
    "매우매우 sparse"
   ]
  },
  {
   "cell_type": "code",
   "execution_count": 3,
   "metadata": {},
   "outputs": [],
   "source": [
    "stop_words = '''\n",
    "없다 증가 없음 감소 때문 수요 대한 모름 도구 사람 산업 관련 유지 업무 일자리 관심\n",
    "계속 인력 발달 발전 필요 직업 분야 대체 환경 추세 사회 확대\n",
    "'''.split()"
   ]
  },
  {
   "cell_type": "code",
   "execution_count": 4,
   "metadata": {},
   "outputs": [],
   "source": [
    "years = ['2017', '2018', '2019', '2020']"
   ]
  },
  {
   "cell_type": "code",
   "execution_count": 6,
   "metadata": {},
   "outputs": [
    {
     "name": "stdout",
     "output_type": "stream",
     "text": [
      "2017\n",
      "keywords_list length: 1952\n"
     ]
    },
    {
     "name": "stderr",
     "output_type": "stream",
     "text": [
      "100%|██████████| 9486/9486 [04:14<00:00, 37.24it/s] \n"
     ]
    },
    {
     "name": "stdout",
     "output_type": "stream",
     "text": [
      "new_df.shape = (9486, 1953)\n",
      "2018\n",
      "keywords_list length: 2437\n"
     ]
    },
    {
     "name": "stderr",
     "output_type": "stream",
     "text": [
      "100%|██████████| 9072/9072 [04:38<00:00, 32.58it/s] \n"
     ]
    },
    {
     "name": "stdout",
     "output_type": "stream",
     "text": [
      "new_df.shape = (9072, 2438)\n",
      "2019\n",
      "keywords_list length: 1853\n"
     ]
    },
    {
     "name": "stderr",
     "output_type": "stream",
     "text": [
      "100%|██████████| 8555/8555 [02:58<00:00, 47.80it/s] \n"
     ]
    },
    {
     "name": "stdout",
     "output_type": "stream",
     "text": [
      "new_df.shape = (8555, 1854)\n",
      "2020\n",
      "keywords_list length: 1791\n"
     ]
    },
    {
     "name": "stderr",
     "output_type": "stream",
     "text": [
      "100%|██████████| 8122/8122 [02:41<00:00, 50.36it/s] \n"
     ]
    },
    {
     "name": "stdout",
     "output_type": "stream",
     "text": [
      "new_df.shape = (8122, 1792)\n"
     ]
    }
   ],
   "source": [
    "# Preprocess Train Data\n",
    "from os. path import isfile\n",
    "\n",
    "keywords_list_dic = {}\n",
    "for i in range(4):\n",
    "    print(years[i])\n",
    "    # if file exists, Load it!\n",
    "    data_path = f'../data_keywords/v1/train/keywords_{years[i]}.csv'\n",
    "    know_code_list = know_train[i]['knowcode'].unique().tolist()\n",
    "    if isfile(data_path):\n",
    "        new_df = pd.read_csv(data_path)\n",
    "        new_df['knowcode'] = know_train[i]['knowcode']\n",
    "        know_train[i] = new_df\n",
    "        print(f\"read from file {data_path}\")\n",
    "        continue\n",
    "\n",
    "    # Get Keywords\n",
    "    know_code_set = set()\n",
    "    for know_code in know_code_list:\n",
    "        df = know_train[i][know_train[i]['knowcode'] == know_code]\n",
    "        big_txt = df.groupby('knowcode')['text_response'].apply(lambda x: ' '.join(x)).iloc[0]\n",
    "\n",
    "        word_cnt_dict = {}\n",
    "        for w in big_txt.split():\n",
    "            if w in stop_words:\n",
    "                continue\n",
    "\n",
    "            if w not in word_cnt_dict.keys():\n",
    "                word_cnt_dict[w] = 1\n",
    "            else:\n",
    "                word_cnt_dict[w] += 1\n",
    "\n",
    "        l_size = 10\n",
    "        l = sorted(word_cnt_dict.items(), key=lambda x:x[1], reverse=True)[:l_size]\n",
    "        know_code_set.update([x[0] for x in l])\n",
    "\n",
    "    keywords_list = list(know_code_set)\n",
    "    keywords_list_dic[i] = keywords_list\n",
    "    print(f\"keywords_list length: {len(keywords_list)}\")\n",
    "\n",
    "    # Builds DataFrame based on the keywords\n",
    "    def word_count(l):\n",
    "        word_cnt_dict = {}\n",
    "        for w in l:\n",
    "            if w not in keywords_list:\n",
    "                continue\n",
    "            if w not in word_cnt_dict.keys():\n",
    "                word_cnt_dict[w] = 1\n",
    "            else:\n",
    "                word_cnt_dict[w] += 1\n",
    "        \n",
    "        return sorted(word_cnt_dict.items(), key=lambda x:x[1], reverse=True)\n",
    "    sr = know_train[i]['text_response'].apply(lambda x: word_count(x.split()))\n",
    "\n",
    "    new_df = pd.DataFrame(columns=keywords_list)\n",
    "    row_list = []\n",
    "\n",
    "    for row in tqdm(sr):\n",
    "        temp_dict = {}\n",
    "        for k, v in row:\n",
    "            temp_dict[k] = v\n",
    "        new_df = new_df.append(temp_dict, ignore_index=True)\n",
    "\n",
    "    new_df.index = know_train[i].index\n",
    "    new_df.fillna(0, inplace=True)\n",
    "    \n",
    "    new_df.to_csv(data_path, index=False)\n",
    "    new_df['knowcode'] = know_train[i]['knowcode']\n",
    "    print(f\"new_df.shape = {new_df.shape}\")\n",
    "    know_train[i] = new_df"
   ]
  },
  {
   "cell_type": "markdown",
   "metadata": {},
   "source": [
    "# X, y 구분 및 모델 학습\n",
    "\n",
    "이번 대회에서 맞춰야 할 값은 knowcode입니다.\n",
    "\n",
    "ID와 knowcode를 제외한 나머지 feature를 X, knowcode를 정답 y로 두어 모델을 학습하였습니다.\n",
    "\n",
    "베이스라인에서는 의사결정나무와 랜덤포레스트를 선정하였습니다"
   ]
  },
  {
   "cell_type": "markdown",
   "metadata": {},
   "source": [
    "df.drop(['idx','knowcode'], axis=1)"
   ]
  },
  {
   "cell_type": "code",
   "execution_count": 7,
   "metadata": {},
   "outputs": [],
   "source": [
    "train_data = {}\n",
    "for year, df in zip(years, know_train):\n",
    "    train_data[year] = {'X': df.drop('knowcode', axis=1),\n",
    "                        'y': df['knowcode']} "
   ]
  },
  {
   "cell_type": "code",
   "execution_count": 8,
   "metadata": {},
   "outputs": [
    {
     "data": {
      "text/plain": [
       "{'X':        티칭   통관   급증   행정   압착  모니터  조종사   발성  우편물   촬영  ...  연구기법   공장   통계  \\\n",
       " 0     0.0  0.0  0.0  0.0  0.0  0.0  0.0  0.0  0.0  0.0  ...   0.0  0.0  0.0   \n",
       " 1     0.0  0.0  0.0  0.0  0.0  0.0  0.0  0.0  0.0  0.0  ...   0.0  0.0  0.0   \n",
       " 2     0.0  0.0  0.0  0.0  0.0  0.0  0.0  0.0  0.0  0.0  ...   0.0  0.0  0.0   \n",
       " 3     0.0  0.0  0.0  0.0  0.0  0.0  0.0  0.0  0.0  0.0  ...   0.0  0.0  0.0   \n",
       " 4     0.0  0.0  0.0  0.0  0.0  0.0  0.0  0.0  0.0  0.0  ...   0.0  0.0  0.0   \n",
       " ...   ...  ...  ...  ...  ...  ...  ...  ...  ...  ...  ...   ...  ...  ...   \n",
       " 9481  0.0  0.0  0.0  0.0  0.0  0.0  0.0  0.0  0.0  0.0  ...   0.0  0.0  0.0   \n",
       " 9482  0.0  0.0  0.0  0.0  0.0  0.0  0.0  0.0  0.0  0.0  ...   0.0  0.0  0.0   \n",
       " 9483  0.0  0.0  0.0  0.0  0.0  0.0  0.0  0.0  0.0  0.0  ...   0.0  0.0  0.0   \n",
       " 9484  0.0  0.0  0.0  0.0  0.0  0.0  0.0  0.0  0.0  0.0  ...   0.0  0.0  0.0   \n",
       " 9485  0.0  0.0  0.0  0.0  0.0  0.0  0.0  0.0  0.0  0.0  ...   0.0  0.0  0.0   \n",
       " \n",
       "       어려움  기기사용법  치과의사   부서  컨베이어  신소재   물량  \n",
       " 0     0.0    0.0   0.0  0.0   0.0  0.0  0.0  \n",
       " 1     0.0    0.0   0.0  0.0   0.0  0.0  0.0  \n",
       " 2     0.0    0.0   0.0  0.0   0.0  0.0  0.0  \n",
       " 3     0.0    0.0   0.0  0.0   0.0  0.0  0.0  \n",
       " 4     0.0    0.0   0.0  0.0   0.0  0.0  0.0  \n",
       " ...   ...    ...   ...  ...   ...  ...  ...  \n",
       " 9481  0.0    0.0   0.0  0.0   0.0  0.0  0.0  \n",
       " 9482  0.0    0.0   0.0  0.0   0.0  0.0  0.0  \n",
       " 9483  0.0    0.0   0.0  0.0   0.0  0.0  0.0  \n",
       " 9484  0.0    0.0   0.0  0.0   0.0  0.0  0.0  \n",
       " 9485  0.0    0.0   0.0  0.0   0.0  0.0  0.0  \n",
       " \n",
       " [9486 rows x 1952 columns],\n",
       " 'y': 0       825101\n",
       " 1       140204\n",
       " 2       140204\n",
       " 3       140601\n",
       " 4       140204\n",
       "          ...  \n",
       " 9481    411301\n",
       " 9482    151105\n",
       " 9483    701101\n",
       " 9484     25402\n",
       " 9485     15201\n",
       " Name: knowcode, Length: 9486, dtype: int64}"
      ]
     },
     "execution_count": 8,
     "metadata": {},
     "output_type": "execute_result"
    }
   ],
   "source": [
    "train_data['2017']"
   ]
  },
  {
   "cell_type": "markdown",
   "metadata": {},
   "source": [
    "# Naive Bayesian"
   ]
  },
  {
   "cell_type": "code",
   "execution_count": 10,
   "metadata": {},
   "outputs": [
    {
     "name": "stderr",
     "output_type": "stream",
     "text": [
      "100%|██████████| 4/4 [00:01<00:00,  3.83it/s]\n"
     ]
    }
   ],
   "source": [
    "from sklearn.naive_bayes import GaussianNB\n",
    "\n",
    "gnb_models = {}\n",
    "\n",
    "for year in tqdm(years):\n",
    "    model = GaussianNB()\n",
    "    model.fit(train_data[year]['X'].iloc[:, :], train_data[year]['y'])\n",
    "    gnb_models[year] = model"
   ]
  },
  {
   "cell_type": "markdown",
   "metadata": {},
   "source": [
    "## Testset 불러오기\n",
    "\n",
    "마찬가지로 년도별로 DataFrame으로 불러온 후 리스트에 할당합니다.\n"
   ]
  },
  {
   "cell_type": "code",
   "execution_count": 11,
   "metadata": {},
   "outputs": [],
   "source": [
    "TEST_PATH_2017 = DATA_PATH + \"test/KNOW_2017_test.csv\"\n",
    "TEST_PATH_2018 = DATA_PATH + \"test/KNOW_2018_test.csv\"\n",
    "TEST_PATH_2019 = DATA_PATH + \"test/KNOW_2019_test.csv\"\n",
    "TEST_PATH_2020 = DATA_PATH + \"test/KNOW_2020_test.csv\"\n",
    "\n",
    "TEST_PATHs = [TEST_PATH_2017, TEST_PATH_2018, TEST_PATH_2019, TEST_PATH_2020]"
   ]
  },
  {
   "cell_type": "code",
   "execution_count": 13,
   "metadata": {},
   "outputs": [
    {
     "data": {
      "text/html": [
       "<div>\n",
       "<style scoped>\n",
       "    .dataframe tbody tr th:only-of-type {\n",
       "        vertical-align: middle;\n",
       "    }\n",
       "\n",
       "    .dataframe tbody tr th {\n",
       "        vertical-align: top;\n",
       "    }\n",
       "\n",
       "    .dataframe thead th {\n",
       "        text-align: right;\n",
       "    }\n",
       "</style>\n",
       "<table border=\"1\" class=\"dataframe\">\n",
       "  <thead>\n",
       "    <tr style=\"text-align: right;\">\n",
       "      <th></th>\n",
       "      <th>idx</th>\n",
       "      <th>aq1_1</th>\n",
       "      <th>aq1_2</th>\n",
       "      <th>aq2_1</th>\n",
       "      <th>aq2_2</th>\n",
       "      <th>aq3_1</th>\n",
       "      <th>aq3_2</th>\n",
       "      <th>aq4_1</th>\n",
       "      <th>aq4_2</th>\n",
       "      <th>aq5_1</th>\n",
       "      <th>...</th>\n",
       "      <th>bq41_3</th>\n",
       "      <th>text_response</th>\n",
       "      <th>sim_job</th>\n",
       "      <th>bef_job</th>\n",
       "      <th>able_job</th>\n",
       "      <th>major</th>\n",
       "      <th>bq6_mark</th>\n",
       "      <th>bq12_2_mark</th>\n",
       "      <th>bq12_3_mark</th>\n",
       "      <th>bq12_4_mark</th>\n",
       "    </tr>\n",
       "  </thead>\n",
       "  <tbody>\n",
       "    <tr>\n",
       "      <th>0</th>\n",
       "      <td>0</td>\n",
       "      <td>3</td>\n",
       "      <td>4</td>\n",
       "      <td>2</td>\n",
       "      <td>2</td>\n",
       "      <td>3</td>\n",
       "      <td>3</td>\n",
       "      <td>1</td>\n",
       "      <td>0</td>\n",
       "      <td>3</td>\n",
       "      <td>...</td>\n",
       "      <td>2300</td>\n",
       "      <td>대체 업무 컴퓨터 없다</td>\n",
       "      <td>없다</td>\n",
       "      <td>없다</td>\n",
       "      <td>없다</td>\n",
       "      <td>비서학</td>\n",
       "      <td>1</td>\n",
       "      <td>0</td>\n",
       "      <td>0</td>\n",
       "      <td>0</td>\n",
       "    </tr>\n",
       "    <tr>\n",
       "      <th>1</th>\n",
       "      <td>1</td>\n",
       "      <td>5</td>\n",
       "      <td>5</td>\n",
       "      <td>3</td>\n",
       "      <td>5</td>\n",
       "      <td>5</td>\n",
       "      <td>5</td>\n",
       "      <td>5</td>\n",
       "      <td>5</td>\n",
       "      <td>4</td>\n",
       "      <td>...</td>\n",
       "      <td>2500</td>\n",
       "      <td>품질관리기사 실무교육 제조업 생각 때문 제품 검사 시스템 엑셀</td>\n",
       "      <td>없다</td>\n",
       "      <td>없다</td>\n",
       "      <td>없다</td>\n",
       "      <td>농화학</td>\n",
       "      <td>0</td>\n",
       "      <td>0</td>\n",
       "      <td>0</td>\n",
       "      <td>0</td>\n",
       "    </tr>\n",
       "    <tr>\n",
       "      <th>2</th>\n",
       "      <td>2</td>\n",
       "      <td>5</td>\n",
       "      <td>5</td>\n",
       "      <td>5</td>\n",
       "      <td>4</td>\n",
       "      <td>5</td>\n",
       "      <td>4</td>\n",
       "      <td>1</td>\n",
       "      <td>0</td>\n",
       "      <td>1</td>\n",
       "      <td>...</td>\n",
       "      <td>4000</td>\n",
       "      <td>기획력 현장경험 미디어 증가 오디션 편집 프로그램 홀로 방송 진행 장비 1인 미디어...</td>\n",
       "      <td>없다</td>\n",
       "      <td>없다</td>\n",
       "      <td>광선, 홍보 담당자</td>\n",
       "      <td>신문방송</td>\n",
       "      <td>0</td>\n",
       "      <td>0</td>\n",
       "      <td>0</td>\n",
       "      <td>0</td>\n",
       "    </tr>\n",
       "    <tr>\n",
       "      <th>3</th>\n",
       "      <td>3</td>\n",
       "      <td>4</td>\n",
       "      <td>5</td>\n",
       "      <td>5</td>\n",
       "      <td>6</td>\n",
       "      <td>4</td>\n",
       "      <td>6</td>\n",
       "      <td>3</td>\n",
       "      <td>4</td>\n",
       "      <td>4</td>\n",
       "      <td>...</td>\n",
       "      <td>3000</td>\n",
       "      <td>선호 직업 컴퓨터 없다</td>\n",
       "      <td>없다</td>\n",
       "      <td>없다</td>\n",
       "      <td>없다</td>\n",
       "      <td>화학</td>\n",
       "      <td>1</td>\n",
       "      <td>0</td>\n",
       "      <td>0</td>\n",
       "      <td>0</td>\n",
       "    </tr>\n",
       "    <tr>\n",
       "      <th>4</th>\n",
       "      <td>4</td>\n",
       "      <td>5</td>\n",
       "      <td>6</td>\n",
       "      <td>4</td>\n",
       "      <td>5</td>\n",
       "      <td>4</td>\n",
       "      <td>5</td>\n",
       "      <td>1</td>\n",
       "      <td>0</td>\n",
       "      <td>1</td>\n",
       "      <td>...</td>\n",
       "      <td>2000</td>\n",
       "      <td>잡지 정보 뉴스 고갈 때문 유지 뉴스 원고 없다</td>\n",
       "      <td>편집기자</td>\n",
       "      <td>사진작가</td>\n",
       "      <td>리포터</td>\n",
       "      <td>광고홍보</td>\n",
       "      <td>1</td>\n",
       "      <td>0</td>\n",
       "      <td>0</td>\n",
       "      <td>0</td>\n",
       "    </tr>\n",
       "    <tr>\n",
       "      <th>...</th>\n",
       "      <td>...</td>\n",
       "      <td>...</td>\n",
       "      <td>...</td>\n",
       "      <td>...</td>\n",
       "      <td>...</td>\n",
       "      <td>...</td>\n",
       "      <td>...</td>\n",
       "      <td>...</td>\n",
       "      <td>...</td>\n",
       "      <td>...</td>\n",
       "      <td>...</td>\n",
       "      <td>...</td>\n",
       "      <td>...</td>\n",
       "      <td>...</td>\n",
       "      <td>...</td>\n",
       "      <td>...</td>\n",
       "      <td>...</td>\n",
       "      <td>...</td>\n",
       "      <td>...</td>\n",
       "      <td>...</td>\n",
       "      <td>...</td>\n",
       "    </tr>\n",
       "    <tr>\n",
       "      <th>9481</th>\n",
       "      <td>9481</td>\n",
       "      <td>3</td>\n",
       "      <td>4</td>\n",
       "      <td>4</td>\n",
       "      <td>5</td>\n",
       "      <td>4</td>\n",
       "      <td>5</td>\n",
       "      <td>5</td>\n",
       "      <td>6</td>\n",
       "      <td>4</td>\n",
       "      <td>...</td>\n",
       "      <td>0</td>\n",
       "      <td>굴삭기 운전 변동 와이어 굴삭기 없다</td>\n",
       "      <td>없다</td>\n",
       "      <td>없다</td>\n",
       "      <td>없다</td>\n",
       "      <td>0</td>\n",
       "      <td>0</td>\n",
       "      <td>0</td>\n",
       "      <td>0</td>\n",
       "      <td>0</td>\n",
       "    </tr>\n",
       "    <tr>\n",
       "      <th>9482</th>\n",
       "      <td>9482</td>\n",
       "      <td>4</td>\n",
       "      <td>5</td>\n",
       "      <td>4</td>\n",
       "      <td>6</td>\n",
       "      <td>5</td>\n",
       "      <td>6</td>\n",
       "      <td>5</td>\n",
       "      <td>6</td>\n",
       "      <td>5</td>\n",
       "      <td>...</td>\n",
       "      <td>2400</td>\n",
       "      <td>도면의 이해 기본서류작성 PPT EXCEL 선진 사의 기술 중국 자본 저가 공세 없다</td>\n",
       "      <td>없다</td>\n",
       "      <td>없다</td>\n",
       "      <td>없다</td>\n",
       "      <td>요업과</td>\n",
       "      <td>0</td>\n",
       "      <td>0</td>\n",
       "      <td>0</td>\n",
       "      <td>0</td>\n",
       "    </tr>\n",
       "    <tr>\n",
       "      <th>9483</th>\n",
       "      <td>9483</td>\n",
       "      <td>3</td>\n",
       "      <td>2</td>\n",
       "      <td>1</td>\n",
       "      <td>0</td>\n",
       "      <td>2</td>\n",
       "      <td>1</td>\n",
       "      <td>3</td>\n",
       "      <td>3</td>\n",
       "      <td>1</td>\n",
       "      <td>...</td>\n",
       "      <td>0</td>\n",
       "      <td>건설기계 면허 업종 기피</td>\n",
       "      <td>없다</td>\n",
       "      <td>자영업(과일과게)</td>\n",
       "      <td>없다</td>\n",
       "      <td>인문계</td>\n",
       "      <td>1</td>\n",
       "      <td>0</td>\n",
       "      <td>0</td>\n",
       "      <td>0</td>\n",
       "    </tr>\n",
       "    <tr>\n",
       "      <th>9484</th>\n",
       "      <td>9484</td>\n",
       "      <td>4</td>\n",
       "      <td>5</td>\n",
       "      <td>3</td>\n",
       "      <td>4</td>\n",
       "      <td>3</td>\n",
       "      <td>4</td>\n",
       "      <td>1</td>\n",
       "      <td>0</td>\n",
       "      <td>1</td>\n",
       "      <td>...</td>\n",
       "      <td>4000</td>\n",
       "      <td>CCIE 정보처리기사 직무교육 투자 확대 없다</td>\n",
       "      <td>없다</td>\n",
       "      <td>없다</td>\n",
       "      <td>없다</td>\n",
       "      <td>컴퓨터공학</td>\n",
       "      <td>0</td>\n",
       "      <td>0</td>\n",
       "      <td>0</td>\n",
       "      <td>0</td>\n",
       "    </tr>\n",
       "    <tr>\n",
       "      <th>9485</th>\n",
       "      <td>9485</td>\n",
       "      <td>3</td>\n",
       "      <td>4</td>\n",
       "      <td>4</td>\n",
       "      <td>5</td>\n",
       "      <td>4</td>\n",
       "      <td>4</td>\n",
       "      <td>4</td>\n",
       "      <td>5</td>\n",
       "      <td>3</td>\n",
       "      <td>...</td>\n",
       "      <td>2000</td>\n",
       "      <td>굴삭기운전기능사 장비사용법과 간단한정비방법 경기 불황 굴삭기</td>\n",
       "      <td>없음</td>\n",
       "      <td>0</td>\n",
       "      <td>0</td>\n",
       "      <td>기계</td>\n",
       "      <td>0</td>\n",
       "      <td>0</td>\n",
       "      <td>0</td>\n",
       "      <td>0</td>\n",
       "    </tr>\n",
       "  </tbody>\n",
       "</table>\n",
       "<p>9486 rows × 153 columns</p>\n",
       "</div>"
      ],
      "text/plain": [
       "       idx  aq1_1  aq1_2  aq2_1  aq2_2  aq3_1  aq3_2  aq4_1  aq4_2  aq5_1  \\\n",
       "0        0      3      4      2      2      3      3      1      0      3   \n",
       "1        1      5      5      3      5      5      5      5      5      4   \n",
       "2        2      5      5      5      4      5      4      1      0      1   \n",
       "3        3      4      5      5      6      4      6      3      4      4   \n",
       "4        4      5      6      4      5      4      5      1      0      1   \n",
       "...    ...    ...    ...    ...    ...    ...    ...    ...    ...    ...   \n",
       "9481  9481      3      4      4      5      4      5      5      6      4   \n",
       "9482  9482      4      5      4      6      5      6      5      6      5   \n",
       "9483  9483      3      2      1      0      2      1      3      3      1   \n",
       "9484  9484      4      5      3      4      3      4      1      0      1   \n",
       "9485  9485      3      4      4      5      4      4      4      5      3   \n",
       "\n",
       "      ...  bq41_3                                      text_response  sim_job  \\\n",
       "0     ...    2300                                       대체 업무 컴퓨터 없다       없다   \n",
       "1     ...    2500                 품질관리기사 실무교육 제조업 생각 때문 제품 검사 시스템 엑셀       없다   \n",
       "2     ...    4000  기획력 현장경험 미디어 증가 오디션 편집 프로그램 홀로 방송 진행 장비 1인 미디어...       없다   \n",
       "3     ...    3000                                       선호 직업 컴퓨터 없다       없다   \n",
       "4     ...    2000                         잡지 정보 뉴스 고갈 때문 유지 뉴스 원고 없다     편집기자   \n",
       "...   ...     ...                                                ...      ...   \n",
       "9481  ...       0                               굴삭기 운전 변동 와이어 굴삭기 없다       없다   \n",
       "9482  ...    2400    도면의 이해 기본서류작성 PPT EXCEL 선진 사의 기술 중국 자본 저가 공세 없다       없다   \n",
       "9483  ...       0                                      건설기계 면허 업종 기피       없다   \n",
       "9484  ...    4000                          CCIE 정보처리기사 직무교육 투자 확대 없다       없다   \n",
       "9485  ...    2000                  굴삭기운전기능사 장비사용법과 간단한정비방법 경기 불황 굴삭기       없음   \n",
       "\n",
       "        bef_job    able_job  major  bq6_mark  bq12_2_mark  bq12_3_mark  \\\n",
       "0            없다          없다    비서학         1            0            0   \n",
       "1            없다          없다    농화학         0            0            0   \n",
       "2            없다  광선, 홍보 담당자   신문방송         0            0            0   \n",
       "3            없다          없다     화학         1            0            0   \n",
       "4          사진작가         리포터   광고홍보         1            0            0   \n",
       "...         ...         ...    ...       ...          ...          ...   \n",
       "9481         없다          없다      0         0            0            0   \n",
       "9482         없다          없다    요업과         0            0            0   \n",
       "9483  자영업(과일과게)          없다    인문계         1            0            0   \n",
       "9484         없다          없다  컴퓨터공학         0            0            0   \n",
       "9485          0           0     기계         0            0            0   \n",
       "\n",
       "      bq12_4_mark  \n",
       "0               0  \n",
       "1               0  \n",
       "2               0  \n",
       "3               0  \n",
       "4               0  \n",
       "...           ...  \n",
       "9481            0  \n",
       "9482            0  \n",
       "9483            0  \n",
       "9484            0  \n",
       "9485            0  \n",
       "\n",
       "[9486 rows x 153 columns]"
      ]
     },
     "execution_count": 13,
     "metadata": {},
     "output_type": "execute_result"
    }
   ],
   "source": [
    "know_test = [pd.read_csv(path) for path in TEST_PATHs]\n",
    "know_test[0] # 2017년도 test 샘플"
   ]
  },
  {
   "cell_type": "code",
   "execution_count": 14,
   "metadata": {},
   "outputs": [
    {
     "name": "stdout",
     "output_type": "stream",
     "text": [
      "2017\n",
      "keywords_list length: 1952\n"
     ]
    },
    {
     "name": "stderr",
     "output_type": "stream",
     "text": [
      "100%|██████████| 9486/9486 [04:07<00:00, 38.32it/s] \n"
     ]
    },
    {
     "name": "stdout",
     "output_type": "stream",
     "text": [
      "new_df.shape = (9486, 1952)\n",
      "2018\n",
      "keywords_list length: 2437\n"
     ]
    },
    {
     "name": "stderr",
     "output_type": "stream",
     "text": [
      "100%|██████████| 9069/9069 [04:56<00:00, 30.62it/s] \n"
     ]
    },
    {
     "name": "stdout",
     "output_type": "stream",
     "text": [
      "new_df.shape = (9069, 2437)\n",
      "2019\n",
      "keywords_list length: 1853\n"
     ]
    },
    {
     "name": "stderr",
     "output_type": "stream",
     "text": [
      "100%|██████████| 8554/8554 [03:09<00:00, 45.21it/s] \n"
     ]
    },
    {
     "name": "stdout",
     "output_type": "stream",
     "text": [
      "new_df.shape = (8554, 1853)\n",
      "2020\n",
      "keywords_list length: 1791\n"
     ]
    },
    {
     "name": "stderr",
     "output_type": "stream",
     "text": [
      "100%|██████████| 8122/8122 [02:49<00:00, 47.80it/s] \n"
     ]
    },
    {
     "name": "stdout",
     "output_type": "stream",
     "text": [
      "new_df.shape = (8122, 1791)\n"
     ]
    }
   ],
   "source": [
    "# Preprocess Test Data\n",
    "\n",
    "for i in range(4):\n",
    "    print(years[i])\n",
    "    # if file exists, Load it!\n",
    "    data_path = f'../data_keywords/v1/test/keywords_{years[i]}_test.csv'\n",
    "    if isfile(data_path):\n",
    "        new_df = pd.read_csv(data_path)\n",
    "        new_df['knowcode'] = know_test[i]['knowcode']\n",
    "        know_test[i] = new_df\n",
    "        continue\n",
    "\n",
    "    # Get Keywords\n",
    "    keywords_list = keywords_list_dic[i] \n",
    "    print(f\"keywords_list length: {len(keywords_list)}\")\n",
    "\n",
    "    # Builds DataFrame based on the keywords\n",
    "    def word_count(l):\n",
    "        word_cnt_dict = {}\n",
    "        for w in l:\n",
    "            if w not in keywords_list:\n",
    "                continue\n",
    "            if w not in word_cnt_dict.keys():\n",
    "                word_cnt_dict[w] = 1\n",
    "            else:\n",
    "                word_cnt_dict[w] += 1\n",
    "        return sorted(word_cnt_dict.items(), key=lambda x:x[1], reverse=True)\n",
    "    sr = know_test[i]['text_response'].apply(lambda x: word_count(x.split()))\n",
    "\n",
    "    new_df = pd.DataFrame(columns=keywords_list)\n",
    "    row_list = []\n",
    "\n",
    "    for row in tqdm(sr):\n",
    "        temp_dict = {}\n",
    "        for k, v in row:\n",
    "            temp_dict[k] = v\n",
    "        new_df = new_df.append(temp_dict, ignore_index=True)\n",
    "\n",
    "    new_df.index = know_test[i].index\n",
    "    new_df.fillna(0, inplace=True)\n",
    "    \n",
    "    new_df.to_csv(data_path, index=False)\n",
    "    print(f\"new_df.shape = {new_df.shape}\")\n",
    "    know_test[i] = new_df"
   ]
  },
  {
   "cell_type": "markdown",
   "metadata": {},
   "source": [
    "## 테스트셋 추출 및 학습\n",
    "\n",
    "ID 값을 제외한 나머지 데이터를 이용하여 모델에 넣어 추론합니다."
   ]
  },
  {
   "cell_type": "code",
   "execution_count": 15,
   "metadata": {},
   "outputs": [
    {
     "name": "stdout",
     "output_type": "stream",
     "text": [
      "2017\n",
      "2018\n",
      "2019\n",
      "2020\n"
     ]
    }
   ],
   "source": [
    "test_data = {}\n",
    "for year, df in zip(years, know_test):\n",
    "    print(year)\n",
    "    train_columns = train_data[year]['X'].columns\n",
    "    # print(train_columns)\n",
    "    test_data[year] =  {'X': df[train_columns]}"
   ]
  },
  {
   "cell_type": "code",
   "execution_count": 16,
   "metadata": {},
   "outputs": [
    {
     "name": "stdout",
     "output_type": "stream",
     "text": [
      "2017\n",
      "train: (9486, 1952) test: (9486, 1952)\n",
      "2018\n",
      "train: (9072, 2437) test: (9069, 2437)\n",
      "2019\n",
      "train: (8555, 1853) test: (8554, 1853)\n",
      "2020\n",
      "train: (8122, 1791) test: (8122, 1791)\n"
     ]
    }
   ],
   "source": [
    "for year in years:\n",
    "    print(year)\n",
    "    print(f\"train: {train_data[year]['X'].shape} test: {test_data[year]['X'].shape}\")"
   ]
  },
  {
   "cell_type": "markdown",
   "metadata": {},
   "source": [
    "### NB로 예측"
   ]
  },
  {
   "cell_type": "code",
   "execution_count": 17,
   "metadata": {},
   "outputs": [
    {
     "name": "stderr",
     "output_type": "stream",
     "text": [
      "100%|██████████| 4/4 [02:29<00:00, 37.48s/it]\n"
     ]
    }
   ],
   "source": [
    "gnb_predicts = [] \n",
    "\n",
    "for year in tqdm(years):\n",
    "    pred = gnb_models[year].predict(test_data[year]['X'])\n",
    "    gnb_predicts.extend(pred)"
   ]
  },
  {
   "cell_type": "markdown",
   "metadata": {},
   "source": [
    "# 제출"
   ]
  },
  {
   "cell_type": "code",
   "execution_count": 18,
   "metadata": {},
   "outputs": [],
   "source": [
    "submission = pd.read_csv('../data_0103/sample_submission.csv') # sample submission 불러오기"
   ]
  },
  {
   "cell_type": "code",
   "execution_count": 19,
   "metadata": {},
   "outputs": [],
   "source": [
    "submission['knowcode'] = gnb_predicts\n",
    "\n",
    "submission.to_csv('../submission_files/nb_onlytext_with_data0115.csv', index=False)"
   ]
  }
 ],
 "metadata": {
  "interpreter": {
   "hash": "0013f6b8b877ceb5a87410fb2eb4381e03ef70741d03c75e6783c98d6b327580"
  },
  "kernelspec": {
   "display_name": "Python 3.10.1 64-bit ('dacon-know': conda)",
   "language": "python",
   "name": "python3"
  },
  "language_info": {
   "codemirror_mode": {
    "name": "ipython",
    "version": 3
   },
   "file_extension": ".py",
   "mimetype": "text/x-python",
   "name": "python",
   "nbconvert_exporter": "python",
   "pygments_lexer": "ipython3",
   "version": "3.10.1"
  },
  "orig_nbformat": 4
 },
 "nbformat": 4,
 "nbformat_minor": 2
}
